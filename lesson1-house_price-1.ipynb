{
 "cells": [
  {
   "cell_type": "markdown",
   "metadata": {},
   "source": [
    "### Imports"
   ]
  },
  {
   "cell_type": "code",
   "execution_count": 1,
   "metadata": {},
   "outputs": [],
   "source": [
    "%load_ext autoreload\n",
    "%autoreload 2\n",
    "\n",
    "%matplotlib inline"
   ]
  },
  {
   "cell_type": "code",
   "execution_count": 2,
   "metadata": {},
   "outputs": [],
   "source": [
    "from fastai.imports import *\n",
    "from fastai.structured import *\n",
    "\n",
    "from pandas_summary import DataFrameSummary\n",
    "from sklearn.ensemble import RandomForestRegressor\n",
    "from IPython.display import display\n",
    "\n",
    "from sklearn import metrics"
   ]
  },
  {
   "cell_type": "code",
   "execution_count": 3,
   "metadata": {},
   "outputs": [],
   "source": [
    "import random\n",
    "import feather"
   ]
  },
  {
   "cell_type": "code",
   "execution_count": 4,
   "metadata": {},
   "outputs": [],
   "source": [
    "import lightgbm as lgb"
   ]
  },
  {
   "cell_type": "code",
   "execution_count": 5,
   "metadata": {},
   "outputs": [],
   "source": [
    "from scipy.stats import ttest_rel"
   ]
  },
  {
   "cell_type": "code",
   "execution_count": 6,
   "metadata": {},
   "outputs": [],
   "source": [
    "import seaborn as sns"
   ]
  },
  {
   "cell_type": "code",
   "execution_count": 7,
   "metadata": {},
   "outputs": [],
   "source": [
    "from cross_val_custom import cross_validation_score_statement"
   ]
  },
  {
   "cell_type": "code",
   "execution_count": 8,
   "metadata": {},
   "outputs": [
    {
     "data": {
      "text/plain": [
       "'0.20.0'"
      ]
     },
     "execution_count": 8,
     "metadata": {},
     "output_type": "execute_result"
    }
   ],
   "source": [
    "sklearn.__version__"
   ]
  },
  {
   "cell_type": "markdown",
   "metadata": {},
   "source": [
    "### Constants and funcs "
   ]
  },
  {
   "cell_type": "code",
   "execution_count": 9,
   "metadata": {},
   "outputs": [],
   "source": [
    "PATH = 'data/house_prices/'"
   ]
  },
  {
   "cell_type": "code",
   "execution_count": 10,
   "metadata": {
    "scrolled": true
   },
   "outputs": [
    {
     "name": "stdout",
     "output_type": "stream",
     "text": [
      "data_description.txt   sample_submission.csv.gz  test.csv.gz  train.csv\r\n",
      "sample_submission.csv  test.csv\t\t\t tmp\t      train.csv.gz\r\n"
     ]
    }
   ],
   "source": [
    "!ls {PATH}"
   ]
  },
  {
   "cell_type": "code",
   "execution_count": 81,
   "metadata": {},
   "outputs": [],
   "source": [
    "# number ov cv splits\n",
    "N_SPLITS=10"
   ]
  },
  {
   "cell_type": "code",
   "execution_count": 12,
   "metadata": {},
   "outputs": [],
   "source": [
    "def display_all(df):\n",
    "    with pd.option_context(\"display.max_rows\", 1000, \"display.max_columns\", 1000): \n",
    "        display(df)"
   ]
  },
  {
   "cell_type": "code",
   "execution_count": 13,
   "metadata": {},
   "outputs": [],
   "source": [
    "def rmse(x,y): return math.sqrt(((x-y)**2).mean())\n",
    "\n",
    "def print_score(m):\n",
    "    res = [rmse(m.predict(X_train), y_train), rmse(m.predict(X_valid), y_valid),\n",
    "                m.score(X_train, y_train), m.score(X_valid, y_valid)]\n",
    "    if hasattr(m, 'oob_score_'): res.append(m.oob_score_)\n",
    "    print(res)"
   ]
  },
  {
   "cell_type": "code",
   "execution_count": 14,
   "metadata": {},
   "outputs": [],
   "source": [
    "def cat_to_code(df):\n",
    "    result = df.copy()\n",
    "    for n,c in df.iteritems():\n",
    "        numericalize(result, c, n, None)\n",
    "    return result"
   ]
  },
  {
   "cell_type": "code",
   "execution_count": 15,
   "metadata": {},
   "outputs": [],
   "source": [
    "# Count the lines\n",
    "num_lines = sum(1 for l in open(f'{PATH}train.csv'))\n",
    "\n",
    "# Sample size - in this case ~10%\n",
    "size = int(num_lines / 10)\n",
    "\n",
    "# The row indices to skip - make sure 0 is not included to keep the header!\n",
    "skip_idx = random.sample(range(1, num_lines), num_lines - size)"
   ]
  },
  {
   "cell_type": "markdown",
   "metadata": {},
   "source": [
    "### Loads "
   ]
  },
  {
   "cell_type": "code",
   "execution_count": 16,
   "metadata": {},
   "outputs": [],
   "source": [
    "sample_df = pd.read_csv(f'{PATH}train.csv', skiprows=skip_idx)"
   ]
  },
  {
   "cell_type": "code",
   "execution_count": 16,
   "metadata": {},
   "outputs": [],
   "source": [
    "raw_train_df = pd.read_csv(f'{PATH}train.csv', low_memory=False)"
   ]
  },
  {
   "cell_type": "code",
   "execution_count": 17,
   "metadata": {},
   "outputs": [],
   "source": [
    "raw_test_df = pd.read_csv(f'{PATH}test.csv')"
   ]
  },
  {
   "cell_type": "code",
   "execution_count": 18,
   "metadata": {},
   "outputs": [
    {
     "data": {
      "text/plain": [
       "(1460, 1459)"
      ]
     },
     "execution_count": 18,
     "metadata": {},
     "output_type": "execute_result"
    }
   ],
   "source": [
    "len(raw_train_df), len(raw_test_df)"
   ]
  },
  {
   "cell_type": "markdown",
   "metadata": {},
   "source": [
    "### EDA on sample"
   ]
  },
  {
   "cell_type": "code",
   "execution_count": 17,
   "metadata": {},
   "outputs": [
    {
     "data": {
      "text/html": [
       "<div>\n",
       "<style scoped>\n",
       "    .dataframe tbody tr th:only-of-type {\n",
       "        vertical-align: middle;\n",
       "    }\n",
       "\n",
       "    .dataframe tbody tr th {\n",
       "        vertical-align: top;\n",
       "    }\n",
       "\n",
       "    .dataframe thead th {\n",
       "        text-align: right;\n",
       "    }\n",
       "</style>\n",
       "<table border=\"1\" class=\"dataframe\">\n",
       "  <thead>\n",
       "    <tr style=\"text-align: right;\">\n",
       "      <th></th>\n",
       "      <th>Id</th>\n",
       "      <th>MSSubClass</th>\n",
       "      <th>MSZoning</th>\n",
       "      <th>LotFrontage</th>\n",
       "      <th>LotArea</th>\n",
       "      <th>Street</th>\n",
       "      <th>Alley</th>\n",
       "      <th>LotShape</th>\n",
       "      <th>LandContour</th>\n",
       "      <th>Utilities</th>\n",
       "      <th>...</th>\n",
       "      <th>PoolArea</th>\n",
       "      <th>PoolQC</th>\n",
       "      <th>Fence</th>\n",
       "      <th>MiscFeature</th>\n",
       "      <th>MiscVal</th>\n",
       "      <th>MoSold</th>\n",
       "      <th>YrSold</th>\n",
       "      <th>SaleType</th>\n",
       "      <th>SaleCondition</th>\n",
       "      <th>SalePrice</th>\n",
       "    </tr>\n",
       "  </thead>\n",
       "  <tbody>\n",
       "    <tr>\n",
       "      <th>0</th>\n",
       "      <td>27</td>\n",
       "      <td>20</td>\n",
       "      <td>RL</td>\n",
       "      <td>60.0</td>\n",
       "      <td>7200</td>\n",
       "      <td>Pave</td>\n",
       "      <td>NaN</td>\n",
       "      <td>Reg</td>\n",
       "      <td>Lvl</td>\n",
       "      <td>AllPub</td>\n",
       "      <td>...</td>\n",
       "      <td>0</td>\n",
       "      <td>NaN</td>\n",
       "      <td>NaN</td>\n",
       "      <td>NaN</td>\n",
       "      <td>0</td>\n",
       "      <td>5</td>\n",
       "      <td>2010</td>\n",
       "      <td>WD</td>\n",
       "      <td>Normal</td>\n",
       "      <td>134800</td>\n",
       "    </tr>\n",
       "    <tr>\n",
       "      <th>1</th>\n",
       "      <td>32</td>\n",
       "      <td>20</td>\n",
       "      <td>RL</td>\n",
       "      <td>NaN</td>\n",
       "      <td>8544</td>\n",
       "      <td>Pave</td>\n",
       "      <td>NaN</td>\n",
       "      <td>IR1</td>\n",
       "      <td>Lvl</td>\n",
       "      <td>AllPub</td>\n",
       "      <td>...</td>\n",
       "      <td>0</td>\n",
       "      <td>NaN</td>\n",
       "      <td>MnPrv</td>\n",
       "      <td>NaN</td>\n",
       "      <td>0</td>\n",
       "      <td>6</td>\n",
       "      <td>2008</td>\n",
       "      <td>WD</td>\n",
       "      <td>Normal</td>\n",
       "      <td>149350</td>\n",
       "    </tr>\n",
       "    <tr>\n",
       "      <th>2</th>\n",
       "      <td>49</td>\n",
       "      <td>190</td>\n",
       "      <td>RM</td>\n",
       "      <td>33.0</td>\n",
       "      <td>4456</td>\n",
       "      <td>Pave</td>\n",
       "      <td>NaN</td>\n",
       "      <td>Reg</td>\n",
       "      <td>Lvl</td>\n",
       "      <td>AllPub</td>\n",
       "      <td>...</td>\n",
       "      <td>0</td>\n",
       "      <td>NaN</td>\n",
       "      <td>NaN</td>\n",
       "      <td>NaN</td>\n",
       "      <td>0</td>\n",
       "      <td>6</td>\n",
       "      <td>2009</td>\n",
       "      <td>New</td>\n",
       "      <td>Partial</td>\n",
       "      <td>113000</td>\n",
       "    </tr>\n",
       "    <tr>\n",
       "      <th>3</th>\n",
       "      <td>59</td>\n",
       "      <td>60</td>\n",
       "      <td>RL</td>\n",
       "      <td>66.0</td>\n",
       "      <td>13682</td>\n",
       "      <td>Pave</td>\n",
       "      <td>NaN</td>\n",
       "      <td>IR2</td>\n",
       "      <td>HLS</td>\n",
       "      <td>AllPub</td>\n",
       "      <td>...</td>\n",
       "      <td>0</td>\n",
       "      <td>NaN</td>\n",
       "      <td>NaN</td>\n",
       "      <td>NaN</td>\n",
       "      <td>0</td>\n",
       "      <td>10</td>\n",
       "      <td>2006</td>\n",
       "      <td>New</td>\n",
       "      <td>Partial</td>\n",
       "      <td>438780</td>\n",
       "    </tr>\n",
       "    <tr>\n",
       "      <th>4</th>\n",
       "      <td>64</td>\n",
       "      <td>70</td>\n",
       "      <td>RM</td>\n",
       "      <td>50.0</td>\n",
       "      <td>10300</td>\n",
       "      <td>Pave</td>\n",
       "      <td>NaN</td>\n",
       "      <td>IR1</td>\n",
       "      <td>Bnk</td>\n",
       "      <td>AllPub</td>\n",
       "      <td>...</td>\n",
       "      <td>0</td>\n",
       "      <td>NaN</td>\n",
       "      <td>GdPrv</td>\n",
       "      <td>NaN</td>\n",
       "      <td>0</td>\n",
       "      <td>4</td>\n",
       "      <td>2010</td>\n",
       "      <td>WD</td>\n",
       "      <td>Normal</td>\n",
       "      <td>140000</td>\n",
       "    </tr>\n",
       "  </tbody>\n",
       "</table>\n",
       "<p>5 rows × 81 columns</p>\n",
       "</div>"
      ],
      "text/plain": [
       "   Id  MSSubClass MSZoning  LotFrontage  LotArea Street Alley LotShape  \\\n",
       "0  27          20       RL         60.0     7200   Pave   NaN      Reg   \n",
       "1  32          20       RL          NaN     8544   Pave   NaN      IR1   \n",
       "2  49         190       RM         33.0     4456   Pave   NaN      Reg   \n",
       "3  59          60       RL         66.0    13682   Pave   NaN      IR2   \n",
       "4  64          70       RM         50.0    10300   Pave   NaN      IR1   \n",
       "\n",
       "  LandContour Utilities    ...     PoolArea PoolQC  Fence MiscFeature MiscVal  \\\n",
       "0         Lvl    AllPub    ...            0    NaN    NaN         NaN       0   \n",
       "1         Lvl    AllPub    ...            0    NaN  MnPrv         NaN       0   \n",
       "2         Lvl    AllPub    ...            0    NaN    NaN         NaN       0   \n",
       "3         HLS    AllPub    ...            0    NaN    NaN         NaN       0   \n",
       "4         Bnk    AllPub    ...            0    NaN  GdPrv         NaN       0   \n",
       "\n",
       "  MoSold YrSold  SaleType  SaleCondition  SalePrice  \n",
       "0      5   2010        WD         Normal     134800  \n",
       "1      6   2008        WD         Normal     149350  \n",
       "2      6   2009       New        Partial     113000  \n",
       "3     10   2006       New        Partial     438780  \n",
       "4      4   2010        WD         Normal     140000  \n",
       "\n",
       "[5 rows x 81 columns]"
      ]
     },
     "execution_count": 17,
     "metadata": {},
     "output_type": "execute_result"
    }
   ],
   "source": [
    "sample_df.head()"
   ]
  },
  {
   "cell_type": "code",
   "execution_count": 21,
   "metadata": {
    "scrolled": true
   },
   "outputs": [
    {
     "data": {
      "text/html": [
       "<div>\n",
       "<style scoped>\n",
       "    .dataframe tbody tr th:only-of-type {\n",
       "        vertical-align: middle;\n",
       "    }\n",
       "\n",
       "    .dataframe tbody tr th {\n",
       "        vertical-align: top;\n",
       "    }\n",
       "\n",
       "    .dataframe thead th {\n",
       "        text-align: right;\n",
       "    }\n",
       "</style>\n",
       "<table border=\"1\" class=\"dataframe\">\n",
       "  <thead>\n",
       "    <tr style=\"text-align: right;\">\n",
       "      <th></th>\n",
       "      <th>Id</th>\n",
       "      <th>MSSubClass</th>\n",
       "      <th>MSZoning</th>\n",
       "      <th>LotFrontage</th>\n",
       "      <th>LotArea</th>\n",
       "      <th>Street</th>\n",
       "      <th>Alley</th>\n",
       "      <th>LotShape</th>\n",
       "      <th>LandContour</th>\n",
       "      <th>Utilities</th>\n",
       "      <th>LotConfig</th>\n",
       "      <th>LandSlope</th>\n",
       "      <th>Neighborhood</th>\n",
       "      <th>Condition1</th>\n",
       "      <th>Condition2</th>\n",
       "      <th>BldgType</th>\n",
       "      <th>HouseStyle</th>\n",
       "      <th>OverallQual</th>\n",
       "      <th>OverallCond</th>\n",
       "      <th>YearBuilt</th>\n",
       "      <th>YearRemodAdd</th>\n",
       "      <th>RoofStyle</th>\n",
       "      <th>RoofMatl</th>\n",
       "      <th>Exterior1st</th>\n",
       "      <th>Exterior2nd</th>\n",
       "      <th>MasVnrType</th>\n",
       "      <th>MasVnrArea</th>\n",
       "      <th>ExterQual</th>\n",
       "      <th>ExterCond</th>\n",
       "      <th>Foundation</th>\n",
       "      <th>BsmtQual</th>\n",
       "      <th>BsmtCond</th>\n",
       "      <th>BsmtExposure</th>\n",
       "      <th>BsmtFinType1</th>\n",
       "      <th>BsmtFinSF1</th>\n",
       "      <th>BsmtFinType2</th>\n",
       "      <th>BsmtFinSF2</th>\n",
       "      <th>BsmtUnfSF</th>\n",
       "      <th>TotalBsmtSF</th>\n",
       "      <th>Heating</th>\n",
       "      <th>HeatingQC</th>\n",
       "      <th>CentralAir</th>\n",
       "      <th>Electrical</th>\n",
       "      <th>1stFlrSF</th>\n",
       "      <th>2ndFlrSF</th>\n",
       "      <th>LowQualFinSF</th>\n",
       "      <th>GrLivArea</th>\n",
       "      <th>BsmtFullBath</th>\n",
       "      <th>BsmtHalfBath</th>\n",
       "      <th>FullBath</th>\n",
       "      <th>HalfBath</th>\n",
       "      <th>BedroomAbvGr</th>\n",
       "      <th>KitchenAbvGr</th>\n",
       "      <th>KitchenQual</th>\n",
       "      <th>TotRmsAbvGrd</th>\n",
       "      <th>Functional</th>\n",
       "      <th>Fireplaces</th>\n",
       "      <th>FireplaceQu</th>\n",
       "      <th>GarageType</th>\n",
       "      <th>GarageYrBlt</th>\n",
       "      <th>GarageFinish</th>\n",
       "      <th>GarageCars</th>\n",
       "      <th>GarageArea</th>\n",
       "      <th>GarageQual</th>\n",
       "      <th>GarageCond</th>\n",
       "      <th>PavedDrive</th>\n",
       "      <th>WoodDeckSF</th>\n",
       "      <th>OpenPorchSF</th>\n",
       "      <th>EnclosedPorch</th>\n",
       "      <th>3SsnPorch</th>\n",
       "      <th>ScreenPorch</th>\n",
       "      <th>PoolArea</th>\n",
       "      <th>PoolQC</th>\n",
       "      <th>Fence</th>\n",
       "      <th>MiscFeature</th>\n",
       "      <th>MiscVal</th>\n",
       "      <th>MoSold</th>\n",
       "      <th>YrSold</th>\n",
       "      <th>SaleType</th>\n",
       "      <th>SaleCondition</th>\n",
       "      <th>SalePrice</th>\n",
       "    </tr>\n",
       "  </thead>\n",
       "  <tbody>\n",
       "    <tr>\n",
       "      <th>count</th>\n",
       "      <td>145.00000</td>\n",
       "      <td>145.000000</td>\n",
       "      <td>145</td>\n",
       "      <td>122.000000</td>\n",
       "      <td>145.000000</td>\n",
       "      <td>145</td>\n",
       "      <td>7</td>\n",
       "      <td>145</td>\n",
       "      <td>145</td>\n",
       "      <td>145</td>\n",
       "      <td>145</td>\n",
       "      <td>145</td>\n",
       "      <td>145</td>\n",
       "      <td>145</td>\n",
       "      <td>145</td>\n",
       "      <td>145</td>\n",
       "      <td>145</td>\n",
       "      <td>145.000000</td>\n",
       "      <td>145.000000</td>\n",
       "      <td>145.000000</td>\n",
       "      <td>145.000000</td>\n",
       "      <td>145</td>\n",
       "      <td>145</td>\n",
       "      <td>145</td>\n",
       "      <td>145</td>\n",
       "      <td>144</td>\n",
       "      <td>144.000000</td>\n",
       "      <td>145</td>\n",
       "      <td>145</td>\n",
       "      <td>145</td>\n",
       "      <td>142</td>\n",
       "      <td>142</td>\n",
       "      <td>142</td>\n",
       "      <td>142</td>\n",
       "      <td>145.000000</td>\n",
       "      <td>141</td>\n",
       "      <td>145.000000</td>\n",
       "      <td>145.000000</td>\n",
       "      <td>145.000000</td>\n",
       "      <td>145</td>\n",
       "      <td>145</td>\n",
       "      <td>145</td>\n",
       "      <td>145</td>\n",
       "      <td>145.000000</td>\n",
       "      <td>145.000000</td>\n",
       "      <td>145.000000</td>\n",
       "      <td>145.000000</td>\n",
       "      <td>145.000000</td>\n",
       "      <td>145.000000</td>\n",
       "      <td>145.000000</td>\n",
       "      <td>145.000000</td>\n",
       "      <td>145.000000</td>\n",
       "      <td>145.000000</td>\n",
       "      <td>145</td>\n",
       "      <td>145.000000</td>\n",
       "      <td>145</td>\n",
       "      <td>145.000000</td>\n",
       "      <td>70</td>\n",
       "      <td>136</td>\n",
       "      <td>136.000000</td>\n",
       "      <td>136</td>\n",
       "      <td>145.000000</td>\n",
       "      <td>145.000000</td>\n",
       "      <td>136</td>\n",
       "      <td>136</td>\n",
       "      <td>145</td>\n",
       "      <td>145.000000</td>\n",
       "      <td>145.000000</td>\n",
       "      <td>145.000000</td>\n",
       "      <td>145.000000</td>\n",
       "      <td>145.000000</td>\n",
       "      <td>145.000000</td>\n",
       "      <td>1</td>\n",
       "      <td>33</td>\n",
       "      <td>3</td>\n",
       "      <td>145.000000</td>\n",
       "      <td>145.000000</td>\n",
       "      <td>145.000000</td>\n",
       "      <td>145</td>\n",
       "      <td>145</td>\n",
       "      <td>145.000000</td>\n",
       "    </tr>\n",
       "    <tr>\n",
       "      <th>unique</th>\n",
       "      <td>NaN</td>\n",
       "      <td>NaN</td>\n",
       "      <td>5</td>\n",
       "      <td>NaN</td>\n",
       "      <td>NaN</td>\n",
       "      <td>1</td>\n",
       "      <td>2</td>\n",
       "      <td>4</td>\n",
       "      <td>4</td>\n",
       "      <td>1</td>\n",
       "      <td>4</td>\n",
       "      <td>3</td>\n",
       "      <td>22</td>\n",
       "      <td>6</td>\n",
       "      <td>3</td>\n",
       "      <td>5</td>\n",
       "      <td>8</td>\n",
       "      <td>NaN</td>\n",
       "      <td>NaN</td>\n",
       "      <td>NaN</td>\n",
       "      <td>NaN</td>\n",
       "      <td>4</td>\n",
       "      <td>2</td>\n",
       "      <td>12</td>\n",
       "      <td>14</td>\n",
       "      <td>4</td>\n",
       "      <td>NaN</td>\n",
       "      <td>4</td>\n",
       "      <td>4</td>\n",
       "      <td>5</td>\n",
       "      <td>4</td>\n",
       "      <td>3</td>\n",
       "      <td>4</td>\n",
       "      <td>6</td>\n",
       "      <td>NaN</td>\n",
       "      <td>6</td>\n",
       "      <td>NaN</td>\n",
       "      <td>NaN</td>\n",
       "      <td>NaN</td>\n",
       "      <td>3</td>\n",
       "      <td>4</td>\n",
       "      <td>2</td>\n",
       "      <td>3</td>\n",
       "      <td>NaN</td>\n",
       "      <td>NaN</td>\n",
       "      <td>NaN</td>\n",
       "      <td>NaN</td>\n",
       "      <td>NaN</td>\n",
       "      <td>NaN</td>\n",
       "      <td>NaN</td>\n",
       "      <td>NaN</td>\n",
       "      <td>NaN</td>\n",
       "      <td>NaN</td>\n",
       "      <td>4</td>\n",
       "      <td>NaN</td>\n",
       "      <td>5</td>\n",
       "      <td>NaN</td>\n",
       "      <td>5</td>\n",
       "      <td>4</td>\n",
       "      <td>NaN</td>\n",
       "      <td>3</td>\n",
       "      <td>NaN</td>\n",
       "      <td>NaN</td>\n",
       "      <td>3</td>\n",
       "      <td>2</td>\n",
       "      <td>3</td>\n",
       "      <td>NaN</td>\n",
       "      <td>NaN</td>\n",
       "      <td>NaN</td>\n",
       "      <td>NaN</td>\n",
       "      <td>NaN</td>\n",
       "      <td>NaN</td>\n",
       "      <td>1</td>\n",
       "      <td>4</td>\n",
       "      <td>2</td>\n",
       "      <td>NaN</td>\n",
       "      <td>NaN</td>\n",
       "      <td>NaN</td>\n",
       "      <td>6</td>\n",
       "      <td>6</td>\n",
       "      <td>NaN</td>\n",
       "    </tr>\n",
       "    <tr>\n",
       "      <th>top</th>\n",
       "      <td>NaN</td>\n",
       "      <td>NaN</td>\n",
       "      <td>RL</td>\n",
       "      <td>NaN</td>\n",
       "      <td>NaN</td>\n",
       "      <td>Pave</td>\n",
       "      <td>Grvl</td>\n",
       "      <td>Reg</td>\n",
       "      <td>Lvl</td>\n",
       "      <td>AllPub</td>\n",
       "      <td>Inside</td>\n",
       "      <td>Gtl</td>\n",
       "      <td>NAmes</td>\n",
       "      <td>Norm</td>\n",
       "      <td>Norm</td>\n",
       "      <td>1Fam</td>\n",
       "      <td>1Story</td>\n",
       "      <td>NaN</td>\n",
       "      <td>NaN</td>\n",
       "      <td>NaN</td>\n",
       "      <td>NaN</td>\n",
       "      <td>Gable</td>\n",
       "      <td>CompShg</td>\n",
       "      <td>VinylSd</td>\n",
       "      <td>VinylSd</td>\n",
       "      <td>None</td>\n",
       "      <td>NaN</td>\n",
       "      <td>TA</td>\n",
       "      <td>TA</td>\n",
       "      <td>PConc</td>\n",
       "      <td>TA</td>\n",
       "      <td>TA</td>\n",
       "      <td>No</td>\n",
       "      <td>Unf</td>\n",
       "      <td>NaN</td>\n",
       "      <td>Unf</td>\n",
       "      <td>NaN</td>\n",
       "      <td>NaN</td>\n",
       "      <td>NaN</td>\n",
       "      <td>GasA</td>\n",
       "      <td>Ex</td>\n",
       "      <td>Y</td>\n",
       "      <td>SBrkr</td>\n",
       "      <td>NaN</td>\n",
       "      <td>NaN</td>\n",
       "      <td>NaN</td>\n",
       "      <td>NaN</td>\n",
       "      <td>NaN</td>\n",
       "      <td>NaN</td>\n",
       "      <td>NaN</td>\n",
       "      <td>NaN</td>\n",
       "      <td>NaN</td>\n",
       "      <td>NaN</td>\n",
       "      <td>TA</td>\n",
       "      <td>NaN</td>\n",
       "      <td>Typ</td>\n",
       "      <td>NaN</td>\n",
       "      <td>Gd</td>\n",
       "      <td>Attchd</td>\n",
       "      <td>NaN</td>\n",
       "      <td>Unf</td>\n",
       "      <td>NaN</td>\n",
       "      <td>NaN</td>\n",
       "      <td>TA</td>\n",
       "      <td>TA</td>\n",
       "      <td>Y</td>\n",
       "      <td>NaN</td>\n",
       "      <td>NaN</td>\n",
       "      <td>NaN</td>\n",
       "      <td>NaN</td>\n",
       "      <td>NaN</td>\n",
       "      <td>NaN</td>\n",
       "      <td>Ex</td>\n",
       "      <td>MnPrv</td>\n",
       "      <td>Shed</td>\n",
       "      <td>NaN</td>\n",
       "      <td>NaN</td>\n",
       "      <td>NaN</td>\n",
       "      <td>WD</td>\n",
       "      <td>Normal</td>\n",
       "      <td>NaN</td>\n",
       "    </tr>\n",
       "    <tr>\n",
       "      <th>freq</th>\n",
       "      <td>NaN</td>\n",
       "      <td>NaN</td>\n",
       "      <td>110</td>\n",
       "      <td>NaN</td>\n",
       "      <td>NaN</td>\n",
       "      <td>145</td>\n",
       "      <td>6</td>\n",
       "      <td>96</td>\n",
       "      <td>127</td>\n",
       "      <td>145</td>\n",
       "      <td>103</td>\n",
       "      <td>135</td>\n",
       "      <td>21</td>\n",
       "      <td>128</td>\n",
       "      <td>142</td>\n",
       "      <td>121</td>\n",
       "      <td>80</td>\n",
       "      <td>NaN</td>\n",
       "      <td>NaN</td>\n",
       "      <td>NaN</td>\n",
       "      <td>NaN</td>\n",
       "      <td>111</td>\n",
       "      <td>144</td>\n",
       "      <td>40</td>\n",
       "      <td>39</td>\n",
       "      <td>86</td>\n",
       "      <td>NaN</td>\n",
       "      <td>96</td>\n",
       "      <td>132</td>\n",
       "      <td>65</td>\n",
       "      <td>67</td>\n",
       "      <td>131</td>\n",
       "      <td>89</td>\n",
       "      <td>50</td>\n",
       "      <td>NaN</td>\n",
       "      <td>125</td>\n",
       "      <td>NaN</td>\n",
       "      <td>NaN</td>\n",
       "      <td>NaN</td>\n",
       "      <td>143</td>\n",
       "      <td>69</td>\n",
       "      <td>138</td>\n",
       "      <td>132</td>\n",
       "      <td>NaN</td>\n",
       "      <td>NaN</td>\n",
       "      <td>NaN</td>\n",
       "      <td>NaN</td>\n",
       "      <td>NaN</td>\n",
       "      <td>NaN</td>\n",
       "      <td>NaN</td>\n",
       "      <td>NaN</td>\n",
       "      <td>NaN</td>\n",
       "      <td>NaN</td>\n",
       "      <td>78</td>\n",
       "      <td>NaN</td>\n",
       "      <td>137</td>\n",
       "      <td>NaN</td>\n",
       "      <td>37</td>\n",
       "      <td>84</td>\n",
       "      <td>NaN</td>\n",
       "      <td>71</td>\n",
       "      <td>NaN</td>\n",
       "      <td>NaN</td>\n",
       "      <td>130</td>\n",
       "      <td>131</td>\n",
       "      <td>131</td>\n",
       "      <td>NaN</td>\n",
       "      <td>NaN</td>\n",
       "      <td>NaN</td>\n",
       "      <td>NaN</td>\n",
       "      <td>NaN</td>\n",
       "      <td>NaN</td>\n",
       "      <td>1</td>\n",
       "      <td>16</td>\n",
       "      <td>2</td>\n",
       "      <td>NaN</td>\n",
       "      <td>NaN</td>\n",
       "      <td>NaN</td>\n",
       "      <td>121</td>\n",
       "      <td>113</td>\n",
       "      <td>NaN</td>\n",
       "    </tr>\n",
       "    <tr>\n",
       "      <th>mean</th>\n",
       "      <td>771.17931</td>\n",
       "      <td>53.586207</td>\n",
       "      <td>NaN</td>\n",
       "      <td>70.565574</td>\n",
       "      <td>10360.986207</td>\n",
       "      <td>NaN</td>\n",
       "      <td>NaN</td>\n",
       "      <td>NaN</td>\n",
       "      <td>NaN</td>\n",
       "      <td>NaN</td>\n",
       "      <td>NaN</td>\n",
       "      <td>NaN</td>\n",
       "      <td>NaN</td>\n",
       "      <td>NaN</td>\n",
       "      <td>NaN</td>\n",
       "      <td>NaN</td>\n",
       "      <td>NaN</td>\n",
       "      <td>6.096552</td>\n",
       "      <td>5.648276</td>\n",
       "      <td>1969.275862</td>\n",
       "      <td>1984.317241</td>\n",
       "      <td>NaN</td>\n",
       "      <td>NaN</td>\n",
       "      <td>NaN</td>\n",
       "      <td>NaN</td>\n",
       "      <td>NaN</td>\n",
       "      <td>104.534722</td>\n",
       "      <td>NaN</td>\n",
       "      <td>NaN</td>\n",
       "      <td>NaN</td>\n",
       "      <td>NaN</td>\n",
       "      <td>NaN</td>\n",
       "      <td>NaN</td>\n",
       "      <td>NaN</td>\n",
       "      <td>379.234483</td>\n",
       "      <td>NaN</td>\n",
       "      <td>60.717241</td>\n",
       "      <td>648.455172</td>\n",
       "      <td>1088.406897</td>\n",
       "      <td>NaN</td>\n",
       "      <td>NaN</td>\n",
       "      <td>NaN</td>\n",
       "      <td>NaN</td>\n",
       "      <td>1165.979310</td>\n",
       "      <td>315.551724</td>\n",
       "      <td>10.503448</td>\n",
       "      <td>1492.034483</td>\n",
       "      <td>0.413793</td>\n",
       "      <td>0.068966</td>\n",
       "      <td>1.565517</td>\n",
       "      <td>0.337931</td>\n",
       "      <td>2.868966</td>\n",
       "      <td>1.082759</td>\n",
       "      <td>NaN</td>\n",
       "      <td>6.496552</td>\n",
       "      <td>NaN</td>\n",
       "      <td>0.531034</td>\n",
       "      <td>NaN</td>\n",
       "      <td>NaN</td>\n",
       "      <td>1978.948529</td>\n",
       "      <td>NaN</td>\n",
       "      <td>1.820690</td>\n",
       "      <td>471.186207</td>\n",
       "      <td>NaN</td>\n",
       "      <td>NaN</td>\n",
       "      <td>NaN</td>\n",
       "      <td>90.620690</td>\n",
       "      <td>53.875862</td>\n",
       "      <td>23.848276</td>\n",
       "      <td>2.124138</td>\n",
       "      <td>10.227586</td>\n",
       "      <td>3.531034</td>\n",
       "      <td>NaN</td>\n",
       "      <td>NaN</td>\n",
       "      <td>NaN</td>\n",
       "      <td>8.275862</td>\n",
       "      <td>6.758621</td>\n",
       "      <td>2007.951724</td>\n",
       "      <td>NaN</td>\n",
       "      <td>NaN</td>\n",
       "      <td>179422.813793</td>\n",
       "    </tr>\n",
       "    <tr>\n",
       "      <th>std</th>\n",
       "      <td>418.68411</td>\n",
       "      <td>39.165352</td>\n",
       "      <td>NaN</td>\n",
       "      <td>23.422454</td>\n",
       "      <td>7412.202802</td>\n",
       "      <td>NaN</td>\n",
       "      <td>NaN</td>\n",
       "      <td>NaN</td>\n",
       "      <td>NaN</td>\n",
       "      <td>NaN</td>\n",
       "      <td>NaN</td>\n",
       "      <td>NaN</td>\n",
       "      <td>NaN</td>\n",
       "      <td>NaN</td>\n",
       "      <td>NaN</td>\n",
       "      <td>NaN</td>\n",
       "      <td>NaN</td>\n",
       "      <td>1.415804</td>\n",
       "      <td>1.102592</td>\n",
       "      <td>30.977026</td>\n",
       "      <td>21.106444</td>\n",
       "      <td>NaN</td>\n",
       "      <td>NaN</td>\n",
       "      <td>NaN</td>\n",
       "      <td>NaN</td>\n",
       "      <td>NaN</td>\n",
       "      <td>175.014921</td>\n",
       "      <td>NaN</td>\n",
       "      <td>NaN</td>\n",
       "      <td>NaN</td>\n",
       "      <td>NaN</td>\n",
       "      <td>NaN</td>\n",
       "      <td>NaN</td>\n",
       "      <td>NaN</td>\n",
       "      <td>410.885730</td>\n",
       "      <td>NaN</td>\n",
       "      <td>199.260323</td>\n",
       "      <td>512.833008</td>\n",
       "      <td>469.782596</td>\n",
       "      <td>NaN</td>\n",
       "      <td>NaN</td>\n",
       "      <td>NaN</td>\n",
       "      <td>NaN</td>\n",
       "      <td>396.174107</td>\n",
       "      <td>429.637605</td>\n",
       "      <td>58.767683</td>\n",
       "      <td>497.502811</td>\n",
       "      <td>0.508077</td>\n",
       "      <td>0.254274</td>\n",
       "      <td>0.575106</td>\n",
       "      <td>0.503056</td>\n",
       "      <td>0.801519</td>\n",
       "      <td>0.300542</td>\n",
       "      <td>NaN</td>\n",
       "      <td>1.704260</td>\n",
       "      <td>NaN</td>\n",
       "      <td>0.589906</td>\n",
       "      <td>NaN</td>\n",
       "      <td>NaN</td>\n",
       "      <td>24.623181</td>\n",
       "      <td>NaN</td>\n",
       "      <td>0.847127</td>\n",
       "      <td>230.406012</td>\n",
       "      <td>NaN</td>\n",
       "      <td>NaN</td>\n",
       "      <td>NaN</td>\n",
       "      <td>132.393514</td>\n",
       "      <td>90.185371</td>\n",
       "      <td>66.734167</td>\n",
       "      <td>18.098835</td>\n",
       "      <td>49.056479</td>\n",
       "      <td>42.519286</td>\n",
       "      <td>NaN</td>\n",
       "      <td>NaN</td>\n",
       "      <td>NaN</td>\n",
       "      <td>74.071520</td>\n",
       "      <td>2.677779</td>\n",
       "      <td>1.303473</td>\n",
       "      <td>NaN</td>\n",
       "      <td>NaN</td>\n",
       "      <td>84286.253844</td>\n",
       "    </tr>\n",
       "    <tr>\n",
       "      <th>min</th>\n",
       "      <td>27.00000</td>\n",
       "      <td>20.000000</td>\n",
       "      <td>NaN</td>\n",
       "      <td>21.000000</td>\n",
       "      <td>1680.000000</td>\n",
       "      <td>NaN</td>\n",
       "      <td>NaN</td>\n",
       "      <td>NaN</td>\n",
       "      <td>NaN</td>\n",
       "      <td>NaN</td>\n",
       "      <td>NaN</td>\n",
       "      <td>NaN</td>\n",
       "      <td>NaN</td>\n",
       "      <td>NaN</td>\n",
       "      <td>NaN</td>\n",
       "      <td>NaN</td>\n",
       "      <td>NaN</td>\n",
       "      <td>3.000000</td>\n",
       "      <td>3.000000</td>\n",
       "      <td>1893.000000</td>\n",
       "      <td>1950.000000</td>\n",
       "      <td>NaN</td>\n",
       "      <td>NaN</td>\n",
       "      <td>NaN</td>\n",
       "      <td>NaN</td>\n",
       "      <td>NaN</td>\n",
       "      <td>0.000000</td>\n",
       "      <td>NaN</td>\n",
       "      <td>NaN</td>\n",
       "      <td>NaN</td>\n",
       "      <td>NaN</td>\n",
       "      <td>NaN</td>\n",
       "      <td>NaN</td>\n",
       "      <td>NaN</td>\n",
       "      <td>0.000000</td>\n",
       "      <td>NaN</td>\n",
       "      <td>0.000000</td>\n",
       "      <td>0.000000</td>\n",
       "      <td>0.000000</td>\n",
       "      <td>NaN</td>\n",
       "      <td>NaN</td>\n",
       "      <td>NaN</td>\n",
       "      <td>NaN</td>\n",
       "      <td>483.000000</td>\n",
       "      <td>0.000000</td>\n",
       "      <td>0.000000</td>\n",
       "      <td>672.000000</td>\n",
       "      <td>0.000000</td>\n",
       "      <td>0.000000</td>\n",
       "      <td>0.000000</td>\n",
       "      <td>0.000000</td>\n",
       "      <td>0.000000</td>\n",
       "      <td>1.000000</td>\n",
       "      <td>NaN</td>\n",
       "      <td>3.000000</td>\n",
       "      <td>NaN</td>\n",
       "      <td>0.000000</td>\n",
       "      <td>NaN</td>\n",
       "      <td>NaN</td>\n",
       "      <td>1914.000000</td>\n",
       "      <td>NaN</td>\n",
       "      <td>0.000000</td>\n",
       "      <td>0.000000</td>\n",
       "      <td>NaN</td>\n",
       "      <td>NaN</td>\n",
       "      <td>NaN</td>\n",
       "      <td>0.000000</td>\n",
       "      <td>0.000000</td>\n",
       "      <td>0.000000</td>\n",
       "      <td>0.000000</td>\n",
       "      <td>0.000000</td>\n",
       "      <td>0.000000</td>\n",
       "      <td>NaN</td>\n",
       "      <td>NaN</td>\n",
       "      <td>NaN</td>\n",
       "      <td>0.000000</td>\n",
       "      <td>1.000000</td>\n",
       "      <td>2006.000000</td>\n",
       "      <td>NaN</td>\n",
       "      <td>NaN</td>\n",
       "      <td>34900.000000</td>\n",
       "    </tr>\n",
       "    <tr>\n",
       "      <th>25%</th>\n",
       "      <td>421.00000</td>\n",
       "      <td>20.000000</td>\n",
       "      <td>NaN</td>\n",
       "      <td>55.250000</td>\n",
       "      <td>7200.000000</td>\n",
       "      <td>NaN</td>\n",
       "      <td>NaN</td>\n",
       "      <td>NaN</td>\n",
       "      <td>NaN</td>\n",
       "      <td>NaN</td>\n",
       "      <td>NaN</td>\n",
       "      <td>NaN</td>\n",
       "      <td>NaN</td>\n",
       "      <td>NaN</td>\n",
       "      <td>NaN</td>\n",
       "      <td>NaN</td>\n",
       "      <td>NaN</td>\n",
       "      <td>5.000000</td>\n",
       "      <td>5.000000</td>\n",
       "      <td>1948.000000</td>\n",
       "      <td>1969.000000</td>\n",
       "      <td>NaN</td>\n",
       "      <td>NaN</td>\n",
       "      <td>NaN</td>\n",
       "      <td>NaN</td>\n",
       "      <td>NaN</td>\n",
       "      <td>0.000000</td>\n",
       "      <td>NaN</td>\n",
       "      <td>NaN</td>\n",
       "      <td>NaN</td>\n",
       "      <td>NaN</td>\n",
       "      <td>NaN</td>\n",
       "      <td>NaN</td>\n",
       "      <td>NaN</td>\n",
       "      <td>0.000000</td>\n",
       "      <td>NaN</td>\n",
       "      <td>0.000000</td>\n",
       "      <td>268.000000</td>\n",
       "      <td>744.000000</td>\n",
       "      <td>NaN</td>\n",
       "      <td>NaN</td>\n",
       "      <td>NaN</td>\n",
       "      <td>NaN</td>\n",
       "      <td>840.000000</td>\n",
       "      <td>0.000000</td>\n",
       "      <td>0.000000</td>\n",
       "      <td>1128.000000</td>\n",
       "      <td>0.000000</td>\n",
       "      <td>0.000000</td>\n",
       "      <td>1.000000</td>\n",
       "      <td>0.000000</td>\n",
       "      <td>2.000000</td>\n",
       "      <td>1.000000</td>\n",
       "      <td>NaN</td>\n",
       "      <td>5.000000</td>\n",
       "      <td>NaN</td>\n",
       "      <td>0.000000</td>\n",
       "      <td>NaN</td>\n",
       "      <td>NaN</td>\n",
       "      <td>1963.000000</td>\n",
       "      <td>NaN</td>\n",
       "      <td>1.000000</td>\n",
       "      <td>308.000000</td>\n",
       "      <td>NaN</td>\n",
       "      <td>NaN</td>\n",
       "      <td>NaN</td>\n",
       "      <td>0.000000</td>\n",
       "      <td>0.000000</td>\n",
       "      <td>0.000000</td>\n",
       "      <td>0.000000</td>\n",
       "      <td>0.000000</td>\n",
       "      <td>0.000000</td>\n",
       "      <td>NaN</td>\n",
       "      <td>NaN</td>\n",
       "      <td>NaN</td>\n",
       "      <td>0.000000</td>\n",
       "      <td>5.000000</td>\n",
       "      <td>2007.000000</td>\n",
       "      <td>NaN</td>\n",
       "      <td>NaN</td>\n",
       "      <td>128000.000000</td>\n",
       "    </tr>\n",
       "    <tr>\n",
       "      <th>50%</th>\n",
       "      <td>805.00000</td>\n",
       "      <td>50.000000</td>\n",
       "      <td>NaN</td>\n",
       "      <td>70.000000</td>\n",
       "      <td>9819.000000</td>\n",
       "      <td>NaN</td>\n",
       "      <td>NaN</td>\n",
       "      <td>NaN</td>\n",
       "      <td>NaN</td>\n",
       "      <td>NaN</td>\n",
       "      <td>NaN</td>\n",
       "      <td>NaN</td>\n",
       "      <td>NaN</td>\n",
       "      <td>NaN</td>\n",
       "      <td>NaN</td>\n",
       "      <td>NaN</td>\n",
       "      <td>NaN</td>\n",
       "      <td>6.000000</td>\n",
       "      <td>5.000000</td>\n",
       "      <td>1972.000000</td>\n",
       "      <td>1991.000000</td>\n",
       "      <td>NaN</td>\n",
       "      <td>NaN</td>\n",
       "      <td>NaN</td>\n",
       "      <td>NaN</td>\n",
       "      <td>NaN</td>\n",
       "      <td>0.000000</td>\n",
       "      <td>NaN</td>\n",
       "      <td>NaN</td>\n",
       "      <td>NaN</td>\n",
       "      <td>NaN</td>\n",
       "      <td>NaN</td>\n",
       "      <td>NaN</td>\n",
       "      <td>NaN</td>\n",
       "      <td>290.000000</td>\n",
       "      <td>NaN</td>\n",
       "      <td>0.000000</td>\n",
       "      <td>572.000000</td>\n",
       "      <td>969.000000</td>\n",
       "      <td>NaN</td>\n",
       "      <td>NaN</td>\n",
       "      <td>NaN</td>\n",
       "      <td>NaN</td>\n",
       "      <td>1040.000000</td>\n",
       "      <td>0.000000</td>\n",
       "      <td>0.000000</td>\n",
       "      <td>1428.000000</td>\n",
       "      <td>0.000000</td>\n",
       "      <td>0.000000</td>\n",
       "      <td>2.000000</td>\n",
       "      <td>0.000000</td>\n",
       "      <td>3.000000</td>\n",
       "      <td>1.000000</td>\n",
       "      <td>NaN</td>\n",
       "      <td>6.000000</td>\n",
       "      <td>NaN</td>\n",
       "      <td>0.000000</td>\n",
       "      <td>NaN</td>\n",
       "      <td>NaN</td>\n",
       "      <td>1981.000000</td>\n",
       "      <td>NaN</td>\n",
       "      <td>2.000000</td>\n",
       "      <td>474.000000</td>\n",
       "      <td>NaN</td>\n",
       "      <td>NaN</td>\n",
       "      <td>NaN</td>\n",
       "      <td>0.000000</td>\n",
       "      <td>16.000000</td>\n",
       "      <td>0.000000</td>\n",
       "      <td>0.000000</td>\n",
       "      <td>0.000000</td>\n",
       "      <td>0.000000</td>\n",
       "      <td>NaN</td>\n",
       "      <td>NaN</td>\n",
       "      <td>NaN</td>\n",
       "      <td>0.000000</td>\n",
       "      <td>7.000000</td>\n",
       "      <td>2008.000000</td>\n",
       "      <td>NaN</td>\n",
       "      <td>NaN</td>\n",
       "      <td>152000.000000</td>\n",
       "    </tr>\n",
       "    <tr>\n",
       "      <th>75%</th>\n",
       "      <td>1125.00000</td>\n",
       "      <td>75.000000</td>\n",
       "      <td>NaN</td>\n",
       "      <td>85.000000</td>\n",
       "      <td>11500.000000</td>\n",
       "      <td>NaN</td>\n",
       "      <td>NaN</td>\n",
       "      <td>NaN</td>\n",
       "      <td>NaN</td>\n",
       "      <td>NaN</td>\n",
       "      <td>NaN</td>\n",
       "      <td>NaN</td>\n",
       "      <td>NaN</td>\n",
       "      <td>NaN</td>\n",
       "      <td>NaN</td>\n",
       "      <td>NaN</td>\n",
       "      <td>NaN</td>\n",
       "      <td>7.000000</td>\n",
       "      <td>6.000000</td>\n",
       "      <td>2000.000000</td>\n",
       "      <td>2004.000000</td>\n",
       "      <td>NaN</td>\n",
       "      <td>NaN</td>\n",
       "      <td>NaN</td>\n",
       "      <td>NaN</td>\n",
       "      <td>NaN</td>\n",
       "      <td>170.000000</td>\n",
       "      <td>NaN</td>\n",
       "      <td>NaN</td>\n",
       "      <td>NaN</td>\n",
       "      <td>NaN</td>\n",
       "      <td>NaN</td>\n",
       "      <td>NaN</td>\n",
       "      <td>NaN</td>\n",
       "      <td>643.000000</td>\n",
       "      <td>NaN</td>\n",
       "      <td>0.000000</td>\n",
       "      <td>878.000000</td>\n",
       "      <td>1410.000000</td>\n",
       "      <td>NaN</td>\n",
       "      <td>NaN</td>\n",
       "      <td>NaN</td>\n",
       "      <td>NaN</td>\n",
       "      <td>1482.000000</td>\n",
       "      <td>689.000000</td>\n",
       "      <td>0.000000</td>\n",
       "      <td>1733.000000</td>\n",
       "      <td>1.000000</td>\n",
       "      <td>0.000000</td>\n",
       "      <td>2.000000</td>\n",
       "      <td>1.000000</td>\n",
       "      <td>3.000000</td>\n",
       "      <td>1.000000</td>\n",
       "      <td>NaN</td>\n",
       "      <td>7.000000</td>\n",
       "      <td>NaN</td>\n",
       "      <td>1.000000</td>\n",
       "      <td>NaN</td>\n",
       "      <td>NaN</td>\n",
       "      <td>2002.250000</td>\n",
       "      <td>NaN</td>\n",
       "      <td>2.000000</td>\n",
       "      <td>583.000000</td>\n",
       "      <td>NaN</td>\n",
       "      <td>NaN</td>\n",
       "      <td>NaN</td>\n",
       "      <td>156.000000</td>\n",
       "      <td>76.000000</td>\n",
       "      <td>0.000000</td>\n",
       "      <td>0.000000</td>\n",
       "      <td>0.000000</td>\n",
       "      <td>0.000000</td>\n",
       "      <td>NaN</td>\n",
       "      <td>NaN</td>\n",
       "      <td>NaN</td>\n",
       "      <td>0.000000</td>\n",
       "      <td>8.000000</td>\n",
       "      <td>2009.000000</td>\n",
       "      <td>NaN</td>\n",
       "      <td>NaN</td>\n",
       "      <td>203000.000000</td>\n",
       "    </tr>\n",
       "    <tr>\n",
       "      <th>max</th>\n",
       "      <td>1459.00000</td>\n",
       "      <td>190.000000</td>\n",
       "      <td>NaN</td>\n",
       "      <td>174.000000</td>\n",
       "      <td>70761.000000</td>\n",
       "      <td>NaN</td>\n",
       "      <td>NaN</td>\n",
       "      <td>NaN</td>\n",
       "      <td>NaN</td>\n",
       "      <td>NaN</td>\n",
       "      <td>NaN</td>\n",
       "      <td>NaN</td>\n",
       "      <td>NaN</td>\n",
       "      <td>NaN</td>\n",
       "      <td>NaN</td>\n",
       "      <td>NaN</td>\n",
       "      <td>NaN</td>\n",
       "      <td>10.000000</td>\n",
       "      <td>9.000000</td>\n",
       "      <td>2009.000000</td>\n",
       "      <td>2009.000000</td>\n",
       "      <td>NaN</td>\n",
       "      <td>NaN</td>\n",
       "      <td>NaN</td>\n",
       "      <td>NaN</td>\n",
       "      <td>NaN</td>\n",
       "      <td>1031.000000</td>\n",
       "      <td>NaN</td>\n",
       "      <td>NaN</td>\n",
       "      <td>NaN</td>\n",
       "      <td>NaN</td>\n",
       "      <td>NaN</td>\n",
       "      <td>NaN</td>\n",
       "      <td>NaN</td>\n",
       "      <td>1696.000000</td>\n",
       "      <td>NaN</td>\n",
       "      <td>1127.000000</td>\n",
       "      <td>2046.000000</td>\n",
       "      <td>3206.000000</td>\n",
       "      <td>NaN</td>\n",
       "      <td>NaN</td>\n",
       "      <td>NaN</td>\n",
       "      <td>NaN</td>\n",
       "      <td>2113.000000</td>\n",
       "      <td>1519.000000</td>\n",
       "      <td>392.000000</td>\n",
       "      <td>3112.000000</td>\n",
       "      <td>2.000000</td>\n",
       "      <td>1.000000</td>\n",
       "      <td>3.000000</td>\n",
       "      <td>2.000000</td>\n",
       "      <td>5.000000</td>\n",
       "      <td>3.000000</td>\n",
       "      <td>NaN</td>\n",
       "      <td>11.000000</td>\n",
       "      <td>NaN</td>\n",
       "      <td>2.000000</td>\n",
       "      <td>NaN</td>\n",
       "      <td>NaN</td>\n",
       "      <td>2009.000000</td>\n",
       "      <td>NaN</td>\n",
       "      <td>4.000000</td>\n",
       "      <td>1052.000000</td>\n",
       "      <td>NaN</td>\n",
       "      <td>NaN</td>\n",
       "      <td>NaN</td>\n",
       "      <td>635.000000</td>\n",
       "      <td>523.000000</td>\n",
       "      <td>552.000000</td>\n",
       "      <td>168.000000</td>\n",
       "      <td>322.000000</td>\n",
       "      <td>512.000000</td>\n",
       "      <td>NaN</td>\n",
       "      <td>NaN</td>\n",
       "      <td>NaN</td>\n",
       "      <td>800.000000</td>\n",
       "      <td>12.000000</td>\n",
       "      <td>2010.000000</td>\n",
       "      <td>NaN</td>\n",
       "      <td>NaN</td>\n",
       "      <td>556581.000000</td>\n",
       "    </tr>\n",
       "  </tbody>\n",
       "</table>\n",
       "</div>"
      ],
      "text/plain": [
       "                Id  MSSubClass MSZoning  LotFrontage       LotArea Street  \\\n",
       "count    145.00000  145.000000      145   122.000000    145.000000    145   \n",
       "unique         NaN         NaN        5          NaN           NaN      1   \n",
       "top            NaN         NaN       RL          NaN           NaN   Pave   \n",
       "freq           NaN         NaN      110          NaN           NaN    145   \n",
       "mean     771.17931   53.586207      NaN    70.565574  10360.986207    NaN   \n",
       "std      418.68411   39.165352      NaN    23.422454   7412.202802    NaN   \n",
       "min       27.00000   20.000000      NaN    21.000000   1680.000000    NaN   \n",
       "25%      421.00000   20.000000      NaN    55.250000   7200.000000    NaN   \n",
       "50%      805.00000   50.000000      NaN    70.000000   9819.000000    NaN   \n",
       "75%     1125.00000   75.000000      NaN    85.000000  11500.000000    NaN   \n",
       "max     1459.00000  190.000000      NaN   174.000000  70761.000000    NaN   \n",
       "\n",
       "       Alley LotShape LandContour Utilities LotConfig LandSlope Neighborhood  \\\n",
       "count      7      145         145       145       145       145          145   \n",
       "unique     2        4           4         1         4         3           22   \n",
       "top     Grvl      Reg         Lvl    AllPub    Inside       Gtl        NAmes   \n",
       "freq       6       96         127       145       103       135           21   \n",
       "mean     NaN      NaN         NaN       NaN       NaN       NaN          NaN   \n",
       "std      NaN      NaN         NaN       NaN       NaN       NaN          NaN   \n",
       "min      NaN      NaN         NaN       NaN       NaN       NaN          NaN   \n",
       "25%      NaN      NaN         NaN       NaN       NaN       NaN          NaN   \n",
       "50%      NaN      NaN         NaN       NaN       NaN       NaN          NaN   \n",
       "75%      NaN      NaN         NaN       NaN       NaN       NaN          NaN   \n",
       "max      NaN      NaN         NaN       NaN       NaN       NaN          NaN   \n",
       "\n",
       "       Condition1 Condition2 BldgType HouseStyle  OverallQual  OverallCond  \\\n",
       "count         145        145      145        145   145.000000   145.000000   \n",
       "unique          6          3        5          8          NaN          NaN   \n",
       "top          Norm       Norm     1Fam     1Story          NaN          NaN   \n",
       "freq          128        142      121         80          NaN          NaN   \n",
       "mean          NaN        NaN      NaN        NaN     6.096552     5.648276   \n",
       "std           NaN        NaN      NaN        NaN     1.415804     1.102592   \n",
       "min           NaN        NaN      NaN        NaN     3.000000     3.000000   \n",
       "25%           NaN        NaN      NaN        NaN     5.000000     5.000000   \n",
       "50%           NaN        NaN      NaN        NaN     6.000000     5.000000   \n",
       "75%           NaN        NaN      NaN        NaN     7.000000     6.000000   \n",
       "max           NaN        NaN      NaN        NaN    10.000000     9.000000   \n",
       "\n",
       "          YearBuilt  YearRemodAdd RoofStyle RoofMatl Exterior1st Exterior2nd  \\\n",
       "count    145.000000    145.000000       145      145         145         145   \n",
       "unique          NaN           NaN         4        2          12          14   \n",
       "top             NaN           NaN     Gable  CompShg     VinylSd     VinylSd   \n",
       "freq            NaN           NaN       111      144          40          39   \n",
       "mean    1969.275862   1984.317241       NaN      NaN         NaN         NaN   \n",
       "std       30.977026     21.106444       NaN      NaN         NaN         NaN   \n",
       "min     1893.000000   1950.000000       NaN      NaN         NaN         NaN   \n",
       "25%     1948.000000   1969.000000       NaN      NaN         NaN         NaN   \n",
       "50%     1972.000000   1991.000000       NaN      NaN         NaN         NaN   \n",
       "75%     2000.000000   2004.000000       NaN      NaN         NaN         NaN   \n",
       "max     2009.000000   2009.000000       NaN      NaN         NaN         NaN   \n",
       "\n",
       "       MasVnrType   MasVnrArea ExterQual ExterCond Foundation BsmtQual  \\\n",
       "count         144   144.000000       145       145        145      142   \n",
       "unique          4          NaN         4         4          5        4   \n",
       "top          None          NaN        TA        TA      PConc       TA   \n",
       "freq           86          NaN        96       132         65       67   \n",
       "mean          NaN   104.534722       NaN       NaN        NaN      NaN   \n",
       "std           NaN   175.014921       NaN       NaN        NaN      NaN   \n",
       "min           NaN     0.000000       NaN       NaN        NaN      NaN   \n",
       "25%           NaN     0.000000       NaN       NaN        NaN      NaN   \n",
       "50%           NaN     0.000000       NaN       NaN        NaN      NaN   \n",
       "75%           NaN   170.000000       NaN       NaN        NaN      NaN   \n",
       "max           NaN  1031.000000       NaN       NaN        NaN      NaN   \n",
       "\n",
       "       BsmtCond BsmtExposure BsmtFinType1   BsmtFinSF1 BsmtFinType2  \\\n",
       "count       142          142          142   145.000000          141   \n",
       "unique        3            4            6          NaN            6   \n",
       "top          TA           No          Unf          NaN          Unf   \n",
       "freq        131           89           50          NaN          125   \n",
       "mean        NaN          NaN          NaN   379.234483          NaN   \n",
       "std         NaN          NaN          NaN   410.885730          NaN   \n",
       "min         NaN          NaN          NaN     0.000000          NaN   \n",
       "25%         NaN          NaN          NaN     0.000000          NaN   \n",
       "50%         NaN          NaN          NaN   290.000000          NaN   \n",
       "75%         NaN          NaN          NaN   643.000000          NaN   \n",
       "max         NaN          NaN          NaN  1696.000000          NaN   \n",
       "\n",
       "         BsmtFinSF2    BsmtUnfSF  TotalBsmtSF Heating HeatingQC CentralAir  \\\n",
       "count    145.000000   145.000000   145.000000     145       145        145   \n",
       "unique          NaN          NaN          NaN       3         4          2   \n",
       "top             NaN          NaN          NaN    GasA        Ex          Y   \n",
       "freq            NaN          NaN          NaN     143        69        138   \n",
       "mean      60.717241   648.455172  1088.406897     NaN       NaN        NaN   \n",
       "std      199.260323   512.833008   469.782596     NaN       NaN        NaN   \n",
       "min        0.000000     0.000000     0.000000     NaN       NaN        NaN   \n",
       "25%        0.000000   268.000000   744.000000     NaN       NaN        NaN   \n",
       "50%        0.000000   572.000000   969.000000     NaN       NaN        NaN   \n",
       "75%        0.000000   878.000000  1410.000000     NaN       NaN        NaN   \n",
       "max     1127.000000  2046.000000  3206.000000     NaN       NaN        NaN   \n",
       "\n",
       "       Electrical     1stFlrSF     2ndFlrSF  LowQualFinSF    GrLivArea  \\\n",
       "count         145   145.000000   145.000000    145.000000   145.000000   \n",
       "unique          3          NaN          NaN           NaN          NaN   \n",
       "top         SBrkr          NaN          NaN           NaN          NaN   \n",
       "freq          132          NaN          NaN           NaN          NaN   \n",
       "mean          NaN  1165.979310   315.551724     10.503448  1492.034483   \n",
       "std           NaN   396.174107   429.637605     58.767683   497.502811   \n",
       "min           NaN   483.000000     0.000000      0.000000   672.000000   \n",
       "25%           NaN   840.000000     0.000000      0.000000  1128.000000   \n",
       "50%           NaN  1040.000000     0.000000      0.000000  1428.000000   \n",
       "75%           NaN  1482.000000   689.000000      0.000000  1733.000000   \n",
       "max           NaN  2113.000000  1519.000000    392.000000  3112.000000   \n",
       "\n",
       "        BsmtFullBath  BsmtHalfBath    FullBath    HalfBath  BedroomAbvGr  \\\n",
       "count     145.000000    145.000000  145.000000  145.000000    145.000000   \n",
       "unique           NaN           NaN         NaN         NaN           NaN   \n",
       "top              NaN           NaN         NaN         NaN           NaN   \n",
       "freq             NaN           NaN         NaN         NaN           NaN   \n",
       "mean        0.413793      0.068966    1.565517    0.337931      2.868966   \n",
       "std         0.508077      0.254274    0.575106    0.503056      0.801519   \n",
       "min         0.000000      0.000000    0.000000    0.000000      0.000000   \n",
       "25%         0.000000      0.000000    1.000000    0.000000      2.000000   \n",
       "50%         0.000000      0.000000    2.000000    0.000000      3.000000   \n",
       "75%         1.000000      0.000000    2.000000    1.000000      3.000000   \n",
       "max         2.000000      1.000000    3.000000    2.000000      5.000000   \n",
       "\n",
       "        KitchenAbvGr KitchenQual  TotRmsAbvGrd Functional  Fireplaces  \\\n",
       "count     145.000000         145    145.000000        145  145.000000   \n",
       "unique           NaN           4           NaN          5         NaN   \n",
       "top              NaN          TA           NaN        Typ         NaN   \n",
       "freq             NaN          78           NaN        137         NaN   \n",
       "mean        1.082759         NaN      6.496552        NaN    0.531034   \n",
       "std         0.300542         NaN      1.704260        NaN    0.589906   \n",
       "min         1.000000         NaN      3.000000        NaN    0.000000   \n",
       "25%         1.000000         NaN      5.000000        NaN    0.000000   \n",
       "50%         1.000000         NaN      6.000000        NaN    0.000000   \n",
       "75%         1.000000         NaN      7.000000        NaN    1.000000   \n",
       "max         3.000000         NaN     11.000000        NaN    2.000000   \n",
       "\n",
       "       FireplaceQu GarageType  GarageYrBlt GarageFinish  GarageCars  \\\n",
       "count           70        136   136.000000          136  145.000000   \n",
       "unique           5          4          NaN            3         NaN   \n",
       "top             Gd     Attchd          NaN          Unf         NaN   \n",
       "freq            37         84          NaN           71         NaN   \n",
       "mean           NaN        NaN  1978.948529          NaN    1.820690   \n",
       "std            NaN        NaN    24.623181          NaN    0.847127   \n",
       "min            NaN        NaN  1914.000000          NaN    0.000000   \n",
       "25%            NaN        NaN  1963.000000          NaN    1.000000   \n",
       "50%            NaN        NaN  1981.000000          NaN    2.000000   \n",
       "75%            NaN        NaN  2002.250000          NaN    2.000000   \n",
       "max            NaN        NaN  2009.000000          NaN    4.000000   \n",
       "\n",
       "         GarageArea GarageQual GarageCond PavedDrive  WoodDeckSF  OpenPorchSF  \\\n",
       "count    145.000000        136        136        145  145.000000   145.000000   \n",
       "unique          NaN          3          2          3         NaN          NaN   \n",
       "top             NaN         TA         TA          Y         NaN          NaN   \n",
       "freq            NaN        130        131        131         NaN          NaN   \n",
       "mean     471.186207        NaN        NaN        NaN   90.620690    53.875862   \n",
       "std      230.406012        NaN        NaN        NaN  132.393514    90.185371   \n",
       "min        0.000000        NaN        NaN        NaN    0.000000     0.000000   \n",
       "25%      308.000000        NaN        NaN        NaN    0.000000     0.000000   \n",
       "50%      474.000000        NaN        NaN        NaN    0.000000    16.000000   \n",
       "75%      583.000000        NaN        NaN        NaN  156.000000    76.000000   \n",
       "max     1052.000000        NaN        NaN        NaN  635.000000   523.000000   \n",
       "\n",
       "        EnclosedPorch   3SsnPorch  ScreenPorch    PoolArea PoolQC  Fence  \\\n",
       "count      145.000000  145.000000   145.000000  145.000000      1     33   \n",
       "unique            NaN         NaN          NaN         NaN      1      4   \n",
       "top               NaN         NaN          NaN         NaN     Ex  MnPrv   \n",
       "freq              NaN         NaN          NaN         NaN      1     16   \n",
       "mean        23.848276    2.124138    10.227586    3.531034    NaN    NaN   \n",
       "std         66.734167   18.098835    49.056479   42.519286    NaN    NaN   \n",
       "min          0.000000    0.000000     0.000000    0.000000    NaN    NaN   \n",
       "25%          0.000000    0.000000     0.000000    0.000000    NaN    NaN   \n",
       "50%          0.000000    0.000000     0.000000    0.000000    NaN    NaN   \n",
       "75%          0.000000    0.000000     0.000000    0.000000    NaN    NaN   \n",
       "max        552.000000  168.000000   322.000000  512.000000    NaN    NaN   \n",
       "\n",
       "       MiscFeature     MiscVal      MoSold       YrSold SaleType  \\\n",
       "count            3  145.000000  145.000000   145.000000      145   \n",
       "unique           2         NaN         NaN          NaN        6   \n",
       "top           Shed         NaN         NaN          NaN       WD   \n",
       "freq             2         NaN         NaN          NaN      121   \n",
       "mean           NaN    8.275862    6.758621  2007.951724      NaN   \n",
       "std            NaN   74.071520    2.677779     1.303473      NaN   \n",
       "min            NaN    0.000000    1.000000  2006.000000      NaN   \n",
       "25%            NaN    0.000000    5.000000  2007.000000      NaN   \n",
       "50%            NaN    0.000000    7.000000  2008.000000      NaN   \n",
       "75%            NaN    0.000000    8.000000  2009.000000      NaN   \n",
       "max            NaN  800.000000   12.000000  2010.000000      NaN   \n",
       "\n",
       "       SaleCondition      SalePrice  \n",
       "count            145     145.000000  \n",
       "unique             6            NaN  \n",
       "top           Normal            NaN  \n",
       "freq             113            NaN  \n",
       "mean             NaN  179422.813793  \n",
       "std              NaN   84286.253844  \n",
       "min              NaN   34900.000000  \n",
       "25%              NaN  128000.000000  \n",
       "50%              NaN  152000.000000  \n",
       "75%              NaN  203000.000000  \n",
       "max              NaN  556581.000000  "
      ]
     },
     "metadata": {},
     "output_type": "display_data"
    }
   ],
   "source": [
    "display_all(sample_df.describe(include='all'))"
   ]
  },
  {
   "cell_type": "code",
   "execution_count": 19,
   "metadata": {
    "collapsed": true
   },
   "outputs": [
    {
     "name": "stdout",
     "output_type": "stream",
     "text": [
      "<class 'pandas.core.frame.DataFrame'>\n",
      "RangeIndex: 145 entries, 0 to 144\n",
      "Data columns (total 81 columns):\n",
      "Id               145 non-null int64\n",
      "MSSubClass       145 non-null int64\n",
      "MSZoning         145 non-null object\n",
      "LotFrontage      122 non-null float64\n",
      "LotArea          145 non-null int64\n",
      "Street           145 non-null object\n",
      "Alley            7 non-null object\n",
      "LotShape         145 non-null object\n",
      "LandContour      145 non-null object\n",
      "Utilities        145 non-null object\n",
      "LotConfig        145 non-null object\n",
      "LandSlope        145 non-null object\n",
      "Neighborhood     145 non-null object\n",
      "Condition1       145 non-null object\n",
      "Condition2       145 non-null object\n",
      "BldgType         145 non-null object\n",
      "HouseStyle       145 non-null object\n",
      "OverallQual      145 non-null int64\n",
      "OverallCond      145 non-null int64\n",
      "YearBuilt        145 non-null int64\n",
      "YearRemodAdd     145 non-null int64\n",
      "RoofStyle        145 non-null object\n",
      "RoofMatl         145 non-null object\n",
      "Exterior1st      145 non-null object\n",
      "Exterior2nd      145 non-null object\n",
      "MasVnrType       144 non-null object\n",
      "MasVnrArea       144 non-null float64\n",
      "ExterQual        145 non-null object\n",
      "ExterCond        145 non-null object\n",
      "Foundation       145 non-null object\n",
      "BsmtQual         142 non-null object\n",
      "BsmtCond         142 non-null object\n",
      "BsmtExposure     142 non-null object\n",
      "BsmtFinType1     142 non-null object\n",
      "BsmtFinSF1       145 non-null int64\n",
      "BsmtFinType2     141 non-null object\n",
      "BsmtFinSF2       145 non-null int64\n",
      "BsmtUnfSF        145 non-null int64\n",
      "TotalBsmtSF      145 non-null int64\n",
      "Heating          145 non-null object\n",
      "HeatingQC        145 non-null object\n",
      "CentralAir       145 non-null object\n",
      "Electrical       145 non-null object\n",
      "1stFlrSF         145 non-null int64\n",
      "2ndFlrSF         145 non-null int64\n",
      "LowQualFinSF     145 non-null int64\n",
      "GrLivArea        145 non-null int64\n",
      "BsmtFullBath     145 non-null int64\n",
      "BsmtHalfBath     145 non-null int64\n",
      "FullBath         145 non-null int64\n",
      "HalfBath         145 non-null int64\n",
      "BedroomAbvGr     145 non-null int64\n",
      "KitchenAbvGr     145 non-null int64\n",
      "KitchenQual      145 non-null object\n",
      "TotRmsAbvGrd     145 non-null int64\n",
      "Functional       145 non-null object\n",
      "Fireplaces       145 non-null int64\n",
      "FireplaceQu      70 non-null object\n",
      "GarageType       136 non-null object\n",
      "GarageYrBlt      136 non-null float64\n",
      "GarageFinish     136 non-null object\n",
      "GarageCars       145 non-null int64\n",
      "GarageArea       145 non-null int64\n",
      "GarageQual       136 non-null object\n",
      "GarageCond       136 non-null object\n",
      "PavedDrive       145 non-null object\n",
      "WoodDeckSF       145 non-null int64\n",
      "OpenPorchSF      145 non-null int64\n",
      "EnclosedPorch    145 non-null int64\n",
      "3SsnPorch        145 non-null int64\n",
      "ScreenPorch      145 non-null int64\n",
      "PoolArea         145 non-null int64\n",
      "PoolQC           1 non-null object\n",
      "Fence            33 non-null object\n",
      "MiscFeature      3 non-null object\n",
      "MiscVal          145 non-null int64\n",
      "MoSold           145 non-null int64\n",
      "YrSold           145 non-null int64\n",
      "SaleType         145 non-null object\n",
      "SaleCondition    145 non-null object\n",
      "SalePrice        145 non-null int64\n",
      "dtypes: float64(3), int64(35), object(43)\n",
      "memory usage: 91.8+ KB\n"
     ]
    }
   ],
   "source": [
    "sample_df.info()"
   ]
  },
  {
   "cell_type": "markdown",
   "metadata": {},
   "source": [
    "###  Fast cleaning and preparation"
   ]
  },
  {
   "cell_type": "code",
   "execution_count": 26,
   "metadata": {},
   "outputs": [],
   "source": [
    "# use `add_datepart` to add different datetime features (works with datetime columns)"
   ]
  },
  {
   "cell_type": "code",
   "execution_count": 19,
   "metadata": {},
   "outputs": [],
   "source": [
    "# object dtype -> category\n",
    "train_cats(raw_train_df)"
   ]
  },
  {
   "cell_type": "code",
   "execution_count": 20,
   "metadata": {},
   "outputs": [],
   "source": [
    "# apply same categories as in train for test\n",
    "apply_cats(raw_test_df, raw_train_df)"
   ]
  },
  {
   "cell_type": "code",
   "execution_count": 21,
   "metadata": {},
   "outputs": [
    {
     "data": {
      "text/plain": [
       "Index(['C (all)', 'FV', 'RH', 'RL', 'RM'], dtype='object')"
      ]
     },
     "execution_count": 21,
     "metadata": {},
     "output_type": "execute_result"
    }
   ],
   "source": [
    "raw_train_df.MSZoning.cat.categories"
   ]
  },
  {
   "cell_type": "code",
   "execution_count": 22,
   "metadata": {},
   "outputs": [
    {
     "data": {
      "text/plain": [
       "Index(['C (all)', 'FV', 'RH', 'RL', 'RM'], dtype='object')"
      ]
     },
     "execution_count": 22,
     "metadata": {},
     "output_type": "execute_result"
    }
   ],
   "source": [
    "raw_test_df.MSZoning.cat.categories"
   ]
  },
  {
   "cell_type": "code",
   "execution_count": 23,
   "metadata": {
    "scrolled": true
   },
   "outputs": [
    {
     "data": {
      "text/plain": [
       "1stFlrSF         0.000000\n",
       "2ndFlrSF         0.000000\n",
       "3SsnPorch        0.000000\n",
       "Alley            0.937671\n",
       "BedroomAbvGr     0.000000\n",
       "BldgType         0.000000\n",
       "BsmtCond         0.025342\n",
       "BsmtExposure     0.026027\n",
       "BsmtFinSF1       0.000000\n",
       "BsmtFinSF2       0.000000\n",
       "BsmtFinType1     0.025342\n",
       "BsmtFinType2     0.026027\n",
       "BsmtFullBath     0.000000\n",
       "BsmtHalfBath     0.000000\n",
       "BsmtQual         0.025342\n",
       "BsmtUnfSF        0.000000\n",
       "CentralAir       0.000000\n",
       "Condition1       0.000000\n",
       "Condition2       0.000000\n",
       "Electrical       0.000685\n",
       "EnclosedPorch    0.000000\n",
       "ExterCond        0.000000\n",
       "ExterQual        0.000000\n",
       "Exterior1st      0.000000\n",
       "Exterior2nd      0.000000\n",
       "Fence            0.807534\n",
       "FireplaceQu      0.472603\n",
       "Fireplaces       0.000000\n",
       "Foundation       0.000000\n",
       "FullBath         0.000000\n",
       "Functional       0.000000\n",
       "GarageArea       0.000000\n",
       "GarageCars       0.000000\n",
       "GarageCond       0.055479\n",
       "GarageFinish     0.055479\n",
       "GarageQual       0.055479\n",
       "GarageType       0.055479\n",
       "GarageYrBlt      0.055479\n",
       "GrLivArea        0.000000\n",
       "HalfBath         0.000000\n",
       "Heating          0.000000\n",
       "HeatingQC        0.000000\n",
       "HouseStyle       0.000000\n",
       "Id               0.000000\n",
       "KitchenAbvGr     0.000000\n",
       "KitchenQual      0.000000\n",
       "LandContour      0.000000\n",
       "LandSlope        0.000000\n",
       "LotArea          0.000000\n",
       "LotConfig        0.000000\n",
       "LotFrontage      0.177397\n",
       "LotShape         0.000000\n",
       "LowQualFinSF     0.000000\n",
       "MSSubClass       0.000000\n",
       "MSZoning         0.000000\n",
       "MasVnrArea       0.005479\n",
       "MasVnrType       0.005479\n",
       "MiscFeature      0.963014\n",
       "MiscVal          0.000000\n",
       "MoSold           0.000000\n",
       "Neighborhood     0.000000\n",
       "OpenPorchSF      0.000000\n",
       "OverallCond      0.000000\n",
       "OverallQual      0.000000\n",
       "PavedDrive       0.000000\n",
       "PoolArea         0.000000\n",
       "PoolQC           0.995205\n",
       "RoofMatl         0.000000\n",
       "RoofStyle        0.000000\n",
       "SaleCondition    0.000000\n",
       "SalePrice        0.000000\n",
       "SaleType         0.000000\n",
       "ScreenPorch      0.000000\n",
       "Street           0.000000\n",
       "TotRmsAbvGrd     0.000000\n",
       "TotalBsmtSF      0.000000\n",
       "Utilities        0.000000\n",
       "WoodDeckSF       0.000000\n",
       "YearBuilt        0.000000\n",
       "YearRemodAdd     0.000000\n",
       "YrSold           0.000000\n",
       "dtype: float64"
      ]
     },
     "metadata": {},
     "output_type": "display_data"
    }
   ],
   "source": [
    "# percent of nans\n",
    "display_all(raw_train_df.isnull().sum().sort_index()/len(raw_train_df))"
   ]
  },
  {
   "cell_type": "code",
   "execution_count": 24,
   "metadata": {},
   "outputs": [
    {
     "data": {
      "text/plain": [
       "count      1460.000000\n",
       "mean     180921.195890\n",
       "std       79442.502883\n",
       "min       34900.000000\n",
       "25%      129975.000000\n",
       "50%      163000.000000\n",
       "75%      214000.000000\n",
       "max      755000.000000\n",
       "Name: SalePrice, dtype: float64"
      ]
     },
     "execution_count": 24,
     "metadata": {},
     "output_type": "execute_result"
    }
   ],
   "source": [
    "raw_train_df.SalePrice.describe()"
   ]
  },
  {
   "cell_type": "code",
   "execution_count": 17,
   "metadata": {},
   "outputs": [],
   "source": [
    "# save to feather\n",
    "os.makedirs(f'{PATH}tmp', exist_ok=True)"
   ]
  },
  {
   "cell_type": "code",
   "execution_count": 36,
   "metadata": {},
   "outputs": [],
   "source": [
    "raw_train_df.to_feather(f'{PATH}tmp/train.ft')\n",
    "raw_test_df.to_feather(f'{PATH}tmp/test.ft')"
   ]
  },
  {
   "cell_type": "markdown",
   "metadata": {},
   "source": [
    "#### Make order to categories"
   ]
  },
  {
   "cell_type": "code",
   "execution_count": 86,
   "metadata": {},
   "outputs": [],
   "source": [
    "categor_columns = [name for name in raw_train_df.columns\n",
    "                   if (raw_train_df[name].dtype.name == 'category' and\n",
    "                       len(raw_train_df[name].cat.categories) < 8)]"
   ]
  },
  {
   "cell_type": "code",
   "execution_count": 101,
   "metadata": {
    "scrolled": false
   },
   "outputs": [
    {
     "name": "stdout",
     "output_type": "stream",
     "text": [
      "MSZoning --> Index(['C (all)', 'FV', 'RH', 'RL', 'RM'], dtype='object')\n",
      "Street --> Index(['Grvl', 'Pave'], dtype='object')\n",
      "Alley --> Index(['Grvl', 'Pave'], dtype='object')\n",
      "LotShape --> Index(['IR1', 'IR2', 'IR3', 'Reg'], dtype='object')\n",
      "LandContour --> Index(['Bnk', 'HLS', 'Low', 'Lvl'], dtype='object')\n",
      "Utilities --> Index(['AllPub', 'NoSeWa'], dtype='object')\n",
      "LotConfig --> Index(['Corner', 'CulDSac', 'FR2', 'FR3', 'Inside'], dtype='object')\n",
      "LandSlope --> Index(['Gtl', 'Mod', 'Sev'], dtype='object')\n",
      "BldgType --> Index(['1Fam', '2fmCon', 'Duplex', 'Twnhs', 'TwnhsE'], dtype='object')\n",
      "RoofStyle --> Index(['Flat', 'Gable', 'Gambrel', 'Hip', 'Mansard', 'Shed'], dtype='object')\n",
      "MasVnrType --> Index(['BrkCmn', 'BrkFace', 'None', 'Stone'], dtype='object')\n",
      "ExterQual --> Index(['Ex', 'Fa', 'Gd', 'TA'], dtype='object')\n",
      "ExterCond --> Index(['Ex', 'Fa', 'Gd', 'Po', 'TA'], dtype='object')\n",
      "Foundation --> Index(['BrkTil', 'CBlock', 'PConc', 'Slab', 'Stone', 'Wood'], dtype='object')\n",
      "BsmtQual --> Index(['Ex', 'Fa', 'Gd', 'TA'], dtype='object')\n",
      "BsmtCond --> Index(['Fa', 'Gd', 'Po', 'TA'], dtype='object')\n",
      "BsmtExposure --> Index(['Av', 'Gd', 'Mn', 'No'], dtype='object')\n",
      "BsmtFinType1 --> Index(['ALQ', 'BLQ', 'GLQ', 'LwQ', 'Rec', 'Unf'], dtype='object')\n",
      "BsmtFinType2 --> Index(['ALQ', 'BLQ', 'GLQ', 'LwQ', 'Rec', 'Unf'], dtype='object')\n",
      "Heating --> Index(['Floor', 'GasA', 'GasW', 'Grav', 'OthW', 'Wall'], dtype='object')\n",
      "HeatingQC --> Index(['Ex', 'Fa', 'Gd', 'Po', 'TA'], dtype='object')\n",
      "CentralAir --> Index(['N', 'Y'], dtype='object')\n",
      "Electrical --> Index(['FuseA', 'FuseF', 'FuseP', 'Mix', 'SBrkr'], dtype='object')\n",
      "KitchenQual --> Index(['Ex', 'Fa', 'Gd', 'TA'], dtype='object')\n",
      "Functional --> Index(['Maj1', 'Maj2', 'Min1', 'Min2', 'Mod', 'Sev', 'Typ'], dtype='object')\n",
      "FireplaceQu --> Index(['Ex', 'Fa', 'Gd', 'Po', 'TA'], dtype='object')\n",
      "GarageType --> Index(['2Types', 'Attchd', 'Basment', 'BuiltIn', 'CarPort', 'Detchd'], dtype='object')\n",
      "GarageFinish --> Index(['Fin', 'RFn', 'Unf'], dtype='object')\n",
      "GarageQual --> Index(['Ex', 'Fa', 'Gd', 'Po', 'TA'], dtype='object')\n",
      "GarageCond --> Index(['Ex', 'Fa', 'Gd', 'Po', 'TA'], dtype='object')\n",
      "PavedDrive --> Index(['N', 'P', 'Y'], dtype='object')\n",
      "PoolQC --> Index(['Ex', 'Fa', 'Gd'], dtype='object')\n",
      "Fence --> Index(['GdPrv', 'GdWo', 'MnPrv', 'MnWw'], dtype='object')\n",
      "MiscFeature --> Index(['Gar2', 'Othr', 'Shed', 'TenC'], dtype='object')\n",
      "SaleCondition --> Index(['Abnorml', 'AdjLand', 'Alloca', 'Family', 'Normal', 'Partial'], dtype='object')\n"
     ]
    }
   ],
   "source": [
    "for c in categor_columns:\n",
    "    print(c, '-->', raw_train_df[c].cat.categories)"
   ]
  },
  {
   "cell_type": "code",
   "execution_count": 25,
   "metadata": {},
   "outputs": [],
   "source": [
    "raw_train_df.LotShape.cat.set_categories(['Reg','IR1', 'IR2', 'IR3'], ordered=True, inplace=True)\n",
    "raw_test_df.LotShape.cat.set_categories(['Reg','IR1', 'IR2', 'IR3'], ordered=True, inplace=True)"
   ]
  },
  {
   "cell_type": "code",
   "execution_count": 26,
   "metadata": {},
   "outputs": [],
   "source": [
    "raw_train_df.LotShape = raw_train_df.LotShape.cat.codes\n",
    "raw_test_df.LotShape = raw_test_df.LotShape.cat.codes"
   ]
  },
  {
   "cell_type": "code",
   "execution_count": 27,
   "metadata": {},
   "outputs": [],
   "source": [
    "raw_train_df.ExterQual.cat.set_categories(['Ex', 'Gd', 'TA', 'Fa'], ordered=True, inplace=True)\n",
    "raw_test_df.ExterQual.cat.set_categories(['Ex', 'Gd', 'TA', 'Fa'], ordered=True, inplace=True)"
   ]
  },
  {
   "cell_type": "code",
   "execution_count": 28,
   "metadata": {},
   "outputs": [],
   "source": [
    "raw_train_df.ExterQual = raw_train_df.ExterQual.cat.codes\n",
    "raw_test_df.ExterQual = raw_test_df.ExterQual.cat.codes"
   ]
  },
  {
   "cell_type": "code",
   "execution_count": 29,
   "metadata": {},
   "outputs": [],
   "source": [
    "raw_train_df.ExterCond.cat.set_categories(['Ex','Gd', 'TA','Fa', 'Po'], ordered=True, inplace=True)\n",
    "raw_test_df.ExterCond.cat.set_categories(['Ex','Gd', 'TA','Fa', 'Po'], ordered=True, inplace=True)"
   ]
  },
  {
   "cell_type": "code",
   "execution_count": 30,
   "metadata": {},
   "outputs": [],
   "source": [
    "raw_train_df.ExterCond = raw_train_df.ExterCond.cat.codes\n",
    "raw_test_df.ExterCond = raw_test_df.ExterCond.cat.codes"
   ]
  },
  {
   "cell_type": "code",
   "execution_count": 31,
   "metadata": {},
   "outputs": [],
   "source": [
    "raw_train_df.KitchenQual.cat.set_categories(['Ex', 'Gd', 'TA', 'Fa'], ordered=True, inplace=True)\n",
    "raw_test_df.KitchenQual.cat.set_categories(['Ex', 'Gd', 'TA', 'Fa'], ordered=True, inplace=True)"
   ]
  },
  {
   "cell_type": "code",
   "execution_count": 32,
   "metadata": {},
   "outputs": [],
   "source": [
    "raw_train_df.KitchenQual = raw_train_df.KitchenQual.cat.codes\n",
    "raw_test_df.KitchenQual = raw_test_df.KitchenQual.cat.codes"
   ]
  },
  {
   "cell_type": "markdown",
   "metadata": {},
   "source": [
    "#### Load processed data"
   ]
  },
  {
   "cell_type": "code",
   "execution_count": 16,
   "metadata": {},
   "outputs": [],
   "source": [
    "# load feather\n",
    "raw_train_df = feather.read_dataframe(f'{PATH}tmp/train.ft')\n",
    "raw_test_df = feather.read_dataframe(f'{PATH}tmp/test.ft')"
   ]
  },
  {
   "cell_type": "code",
   "execution_count": 19,
   "metadata": {},
   "outputs": [
    {
     "data": {
      "image/png": "[encoded data removed]",
      "text/plain": [
       "<Figure size 432x288 with 1 Axes>"
      ]
     },
     "metadata": {},
     "output_type": "display_data"
    }
   ],
   "source": [
    "plt.boxplot(raw_train_df.SalePrice, vert=False);"
   ]
  },
  {
   "cell_type": "markdown",
   "metadata": {},
   "source": [
    "###  Data Cleaning (only after EDA)"
   ]
  },
  {
   "cell_type": "markdown",
   "metadata": {},
   "source": [
    "#### Proc_df "
   ]
  },
  {
   "cell_type": "code",
   "execution_count": 24,
   "metadata": {},
   "outputs": [],
   "source": [
    "??proc_df"
   ]
  },
  {
   "cell_type": "markdown",
   "metadata": {},
   "source": [
    "Remove `OverallQual` - to see what other features are important"
   ]
  },
  {
   "cell_type": "code",
   "execution_count": 20,
   "metadata": {},
   "outputs": [],
   "source": [
    "# label encoding and fillna with median with `proc_df`\n",
    "df, y, nas = proc_df(raw_train_df, 'SalePrice', skip_flds=['Id'])"
   ]
  },
  {
   "cell_type": "markdown",
   "metadata": {},
   "source": [
    "##### Sanity check"
   ]
  },
  {
   "cell_type": "code",
   "execution_count": 21,
   "metadata": {},
   "outputs": [
    {
     "data": {
      "text/html": [
       "<div>\n",
       "<style scoped>\n",
       "    .dataframe tbody tr th:only-of-type {\n",
       "        vertical-align: middle;\n",
       "    }\n",
       "\n",
       "    .dataframe tbody tr th {\n",
       "        vertical-align: top;\n",
       "    }\n",
       "\n",
       "    .dataframe thead th {\n",
       "        text-align: right;\n",
       "    }\n",
       "</style>\n",
       "<table border=\"1\" class=\"dataframe\">\n",
       "  <thead>\n",
       "    <tr style=\"text-align: right;\">\n",
       "      <th></th>\n",
       "      <th>Id</th>\n",
       "      <th>MSSubClass</th>\n",
       "      <th>MSZoning</th>\n",
       "      <th>LotFrontage</th>\n",
       "      <th>LotArea</th>\n",
       "      <th>Street</th>\n",
       "      <th>Alley</th>\n",
       "      <th>LotShape</th>\n",
       "      <th>LandContour</th>\n",
       "      <th>Utilities</th>\n",
       "      <th>...</th>\n",
       "      <th>PoolArea</th>\n",
       "      <th>PoolQC</th>\n",
       "      <th>Fence</th>\n",
       "      <th>MiscFeature</th>\n",
       "      <th>MiscVal</th>\n",
       "      <th>MoSold</th>\n",
       "      <th>YrSold</th>\n",
       "      <th>SaleType</th>\n",
       "      <th>SaleCondition</th>\n",
       "      <th>SalePrice</th>\n",
       "    </tr>\n",
       "  </thead>\n",
       "  <tbody>\n",
       "    <tr>\n",
       "      <th>10</th>\n",
       "      <td>11</td>\n",
       "      <td>20</td>\n",
       "      <td>RL</td>\n",
       "      <td>70.0</td>\n",
       "      <td>11200</td>\n",
       "      <td>Pave</td>\n",
       "      <td>NaN</td>\n",
       "      <td>0</td>\n",
       "      <td>Lvl</td>\n",
       "      <td>AllPub</td>\n",
       "      <td>...</td>\n",
       "      <td>0</td>\n",
       "      <td>NaN</td>\n",
       "      <td>NaN</td>\n",
       "      <td>NaN</td>\n",
       "      <td>0</td>\n",
       "      <td>2</td>\n",
       "      <td>2008</td>\n",
       "      <td>WD</td>\n",
       "      <td>Normal</td>\n",
       "      <td>11.771436</td>\n",
       "    </tr>\n",
       "    <tr>\n",
       "      <th>20</th>\n",
       "      <td>21</td>\n",
       "      <td>60</td>\n",
       "      <td>RL</td>\n",
       "      <td>101.0</td>\n",
       "      <td>14215</td>\n",
       "      <td>Pave</td>\n",
       "      <td>NaN</td>\n",
       "      <td>1</td>\n",
       "      <td>Lvl</td>\n",
       "      <td>AllPub</td>\n",
       "      <td>...</td>\n",
       "      <td>0</td>\n",
       "      <td>NaN</td>\n",
       "      <td>NaN</td>\n",
       "      <td>NaN</td>\n",
       "      <td>0</td>\n",
       "      <td>11</td>\n",
       "      <td>2006</td>\n",
       "      <td>New</td>\n",
       "      <td>Partial</td>\n",
       "      <td>12.692503</td>\n",
       "    </tr>\n",
       "    <tr>\n",
       "      <th>30</th>\n",
       "      <td>31</td>\n",
       "      <td>70</td>\n",
       "      <td>C (all)</td>\n",
       "      <td>50.0</td>\n",
       "      <td>8500</td>\n",
       "      <td>Pave</td>\n",
       "      <td>Pave</td>\n",
       "      <td>0</td>\n",
       "      <td>Lvl</td>\n",
       "      <td>AllPub</td>\n",
       "      <td>...</td>\n",
       "      <td>0</td>\n",
       "      <td>NaN</td>\n",
       "      <td>MnPrv</td>\n",
       "      <td>NaN</td>\n",
       "      <td>0</td>\n",
       "      <td>7</td>\n",
       "      <td>2008</td>\n",
       "      <td>WD</td>\n",
       "      <td>Normal</td>\n",
       "      <td>10.596635</td>\n",
       "    </tr>\n",
       "  </tbody>\n",
       "</table>\n",
       "<p>3 rows × 81 columns</p>\n",
       "</div>"
      ],
      "text/plain": [
       "    Id  MSSubClass MSZoning  LotFrontage  LotArea Street Alley  LotShape  \\\n",
       "10  11          20       RL         70.0    11200   Pave   NaN         0   \n",
       "20  21          60       RL        101.0    14215   Pave   NaN         1   \n",
       "30  31          70  C (all)         50.0     8500   Pave  Pave         0   \n",
       "\n",
       "   LandContour Utilities    ...     PoolArea PoolQC  Fence MiscFeature  \\\n",
       "10         Lvl    AllPub    ...            0    NaN    NaN         NaN   \n",
       "20         Lvl    AllPub    ...            0    NaN    NaN         NaN   \n",
       "30         Lvl    AllPub    ...            0    NaN  MnPrv         NaN   \n",
       "\n",
       "   MiscVal MoSold YrSold  SaleType  SaleCondition  SalePrice  \n",
       "10       0      2   2008        WD         Normal  11.771436  \n",
       "20       0     11   2006       New        Partial  12.692503  \n",
       "30       0      7   2008        WD         Normal  10.596635  \n",
       "\n",
       "[3 rows x 81 columns]"
      ]
     },
     "execution_count": 21,
     "metadata": {},
     "output_type": "execute_result"
    }
   ],
   "source": [
    "raw_train_df.loc[[10,20,30]]"
   ]
  },
  {
   "cell_type": "code",
   "execution_count": 22,
   "metadata": {},
   "outputs": [
    {
     "data": {
      "text/html": [
       "<div>\n",
       "<style scoped>\n",
       "    .dataframe tbody tr th:only-of-type {\n",
       "        vertical-align: middle;\n",
       "    }\n",
       "\n",
       "    .dataframe tbody tr th {\n",
       "        vertical-align: top;\n",
       "    }\n",
       "\n",
       "    .dataframe thead th {\n",
       "        text-align: right;\n",
       "    }\n",
       "</style>\n",
       "<table border=\"1\" class=\"dataframe\">\n",
       "  <thead>\n",
       "    <tr style=\"text-align: right;\">\n",
       "      <th></th>\n",
       "      <th>MSSubClass</th>\n",
       "      <th>MSZoning</th>\n",
       "      <th>LotFrontage</th>\n",
       "      <th>LotArea</th>\n",
       "      <th>Street</th>\n",
       "      <th>Alley</th>\n",
       "      <th>LotShape</th>\n",
       "      <th>LandContour</th>\n",
       "      <th>Utilities</th>\n",
       "      <th>LotConfig</th>\n",
       "      <th>...</th>\n",
       "      <th>Fence</th>\n",
       "      <th>MiscFeature</th>\n",
       "      <th>MiscVal</th>\n",
       "      <th>MoSold</th>\n",
       "      <th>YrSold</th>\n",
       "      <th>SaleType</th>\n",
       "      <th>SaleCondition</th>\n",
       "      <th>LotFrontage_na</th>\n",
       "      <th>MasVnrArea_na</th>\n",
       "      <th>GarageYrBlt_na</th>\n",
       "    </tr>\n",
       "  </thead>\n",
       "  <tbody>\n",
       "    <tr>\n",
       "      <th>10</th>\n",
       "      <td>20</td>\n",
       "      <td>4</td>\n",
       "      <td>70.0</td>\n",
       "      <td>11200</td>\n",
       "      <td>2</td>\n",
       "      <td>0</td>\n",
       "      <td>0</td>\n",
       "      <td>4</td>\n",
       "      <td>1</td>\n",
       "      <td>5</td>\n",
       "      <td>...</td>\n",
       "      <td>0</td>\n",
       "      <td>0</td>\n",
       "      <td>0</td>\n",
       "      <td>2</td>\n",
       "      <td>2008</td>\n",
       "      <td>9</td>\n",
       "      <td>5</td>\n",
       "      <td>False</td>\n",
       "      <td>False</td>\n",
       "      <td>False</td>\n",
       "    </tr>\n",
       "    <tr>\n",
       "      <th>20</th>\n",
       "      <td>60</td>\n",
       "      <td>4</td>\n",
       "      <td>101.0</td>\n",
       "      <td>14215</td>\n",
       "      <td>2</td>\n",
       "      <td>0</td>\n",
       "      <td>1</td>\n",
       "      <td>4</td>\n",
       "      <td>1</td>\n",
       "      <td>1</td>\n",
       "      <td>...</td>\n",
       "      <td>0</td>\n",
       "      <td>0</td>\n",
       "      <td>0</td>\n",
       "      <td>11</td>\n",
       "      <td>2006</td>\n",
       "      <td>7</td>\n",
       "      <td>6</td>\n",
       "      <td>False</td>\n",
       "      <td>False</td>\n",
       "      <td>False</td>\n",
       "    </tr>\n",
       "    <tr>\n",
       "      <th>30</th>\n",
       "      <td>70</td>\n",
       "      <td>1</td>\n",
       "      <td>50.0</td>\n",
       "      <td>8500</td>\n",
       "      <td>2</td>\n",
       "      <td>2</td>\n",
       "      <td>0</td>\n",
       "      <td>4</td>\n",
       "      <td>1</td>\n",
       "      <td>5</td>\n",
       "      <td>...</td>\n",
       "      <td>3</td>\n",
       "      <td>0</td>\n",
       "      <td>0</td>\n",
       "      <td>7</td>\n",
       "      <td>2008</td>\n",
       "      <td>9</td>\n",
       "      <td>5</td>\n",
       "      <td>False</td>\n",
       "      <td>False</td>\n",
       "      <td>False</td>\n",
       "    </tr>\n",
       "  </tbody>\n",
       "</table>\n",
       "<p>3 rows × 82 columns</p>\n",
       "</div>"
      ],
      "text/plain": [
       "    MSSubClass  MSZoning  LotFrontage  LotArea  Street  Alley  LotShape  \\\n",
       "10          20         4         70.0    11200       2      0         0   \n",
       "20          60         4        101.0    14215       2      0         1   \n",
       "30          70         1         50.0     8500       2      2         0   \n",
       "\n",
       "    LandContour  Utilities  LotConfig       ...        Fence  MiscFeature  \\\n",
       "10            4          1          5       ...            0            0   \n",
       "20            4          1          1       ...            0            0   \n",
       "30            4          1          5       ...            3            0   \n",
       "\n",
       "    MiscVal  MoSold  YrSold  SaleType  SaleCondition  LotFrontage_na  \\\n",
       "10        0       2    2008         9              5           False   \n",
       "20        0      11    2006         7              6           False   \n",
       "30        0       7    2008         9              5           False   \n",
       "\n",
       "    MasVnrArea_na  GarageYrBlt_na  \n",
       "10          False           False  \n",
       "20          False           False  \n",
       "30          False           False  \n",
       "\n",
       "[3 rows x 82 columns]"
      ]
     },
     "execution_count": 22,
     "metadata": {},
     "output_type": "execute_result"
    }
   ],
   "source": [
    "df.loc[[10,20,30]]"
   ]
  },
  {
   "cell_type": "code",
   "execution_count": 23,
   "metadata": {},
   "outputs": [],
   "source": [
    "test, _, _ = proc_df(raw_test_df, skip_flds=['Id'], na_dict=nas)"
   ]
  },
  {
   "cell_type": "code",
   "execution_count": 24,
   "metadata": {},
   "outputs": [
    {
     "data": {
      "text/html": [
       "<div>\n",
       "<style scoped>\n",
       "    .dataframe tbody tr th:only-of-type {\n",
       "        vertical-align: middle;\n",
       "    }\n",
       "\n",
       "    .dataframe tbody tr th {\n",
       "        vertical-align: top;\n",
       "    }\n",
       "\n",
       "    .dataframe thead th {\n",
       "        text-align: right;\n",
       "    }\n",
       "</style>\n",
       "<table border=\"1\" class=\"dataframe\">\n",
       "  <thead>\n",
       "    <tr style=\"text-align: right;\">\n",
       "      <th></th>\n",
       "      <th>Id</th>\n",
       "      <th>MSSubClass</th>\n",
       "      <th>MSZoning</th>\n",
       "      <th>LotFrontage</th>\n",
       "      <th>LotArea</th>\n",
       "      <th>Street</th>\n",
       "      <th>Alley</th>\n",
       "      <th>LotShape</th>\n",
       "      <th>LandContour</th>\n",
       "      <th>Utilities</th>\n",
       "      <th>...</th>\n",
       "      <th>ScreenPorch</th>\n",
       "      <th>PoolArea</th>\n",
       "      <th>PoolQC</th>\n",
       "      <th>Fence</th>\n",
       "      <th>MiscFeature</th>\n",
       "      <th>MiscVal</th>\n",
       "      <th>MoSold</th>\n",
       "      <th>YrSold</th>\n",
       "      <th>SaleType</th>\n",
       "      <th>SaleCondition</th>\n",
       "    </tr>\n",
       "  </thead>\n",
       "  <tbody>\n",
       "    <tr>\n",
       "      <th>1</th>\n",
       "      <td>1462</td>\n",
       "      <td>20</td>\n",
       "      <td>RL</td>\n",
       "      <td>81.0</td>\n",
       "      <td>14267</td>\n",
       "      <td>Pave</td>\n",
       "      <td>NaN</td>\n",
       "      <td>1</td>\n",
       "      <td>Lvl</td>\n",
       "      <td>AllPub</td>\n",
       "      <td>...</td>\n",
       "      <td>0</td>\n",
       "      <td>0</td>\n",
       "      <td>NaN</td>\n",
       "      <td>NaN</td>\n",
       "      <td>Gar2</td>\n",
       "      <td>12500</td>\n",
       "      <td>6</td>\n",
       "      <td>2010</td>\n",
       "      <td>WD</td>\n",
       "      <td>Normal</td>\n",
       "    </tr>\n",
       "    <tr>\n",
       "      <th>5</th>\n",
       "      <td>1466</td>\n",
       "      <td>60</td>\n",
       "      <td>RL</td>\n",
       "      <td>75.0</td>\n",
       "      <td>10000</td>\n",
       "      <td>Pave</td>\n",
       "      <td>NaN</td>\n",
       "      <td>1</td>\n",
       "      <td>Lvl</td>\n",
       "      <td>AllPub</td>\n",
       "      <td>...</td>\n",
       "      <td>0</td>\n",
       "      <td>0</td>\n",
       "      <td>NaN</td>\n",
       "      <td>NaN</td>\n",
       "      <td>NaN</td>\n",
       "      <td>0</td>\n",
       "      <td>4</td>\n",
       "      <td>2010</td>\n",
       "      <td>WD</td>\n",
       "      <td>Normal</td>\n",
       "    </tr>\n",
       "    <tr>\n",
       "      <th>10</th>\n",
       "      <td>1471</td>\n",
       "      <td>120</td>\n",
       "      <td>RH</td>\n",
       "      <td>26.0</td>\n",
       "      <td>5858</td>\n",
       "      <td>Pave</td>\n",
       "      <td>NaN</td>\n",
       "      <td>1</td>\n",
       "      <td>Lvl</td>\n",
       "      <td>AllPub</td>\n",
       "      <td>...</td>\n",
       "      <td>0</td>\n",
       "      <td>0</td>\n",
       "      <td>NaN</td>\n",
       "      <td>NaN</td>\n",
       "      <td>NaN</td>\n",
       "      <td>0</td>\n",
       "      <td>6</td>\n",
       "      <td>2010</td>\n",
       "      <td>WD</td>\n",
       "      <td>Normal</td>\n",
       "    </tr>\n",
       "  </tbody>\n",
       "</table>\n",
       "<p>3 rows × 80 columns</p>\n",
       "</div>"
      ],
      "text/plain": [
       "      Id  MSSubClass MSZoning  LotFrontage  LotArea Street Alley  LotShape  \\\n",
       "1   1462          20       RL         81.0    14267   Pave   NaN         1   \n",
       "5   1466          60       RL         75.0    10000   Pave   NaN         1   \n",
       "10  1471         120       RH         26.0     5858   Pave   NaN         1   \n",
       "\n",
       "   LandContour Utilities      ...       ScreenPorch PoolArea PoolQC Fence  \\\n",
       "1          Lvl    AllPub      ...                 0        0    NaN   NaN   \n",
       "5          Lvl    AllPub      ...                 0        0    NaN   NaN   \n",
       "10         Lvl    AllPub      ...                 0        0    NaN   NaN   \n",
       "\n",
       "   MiscFeature MiscVal MoSold  YrSold  SaleType  SaleCondition  \n",
       "1         Gar2   12500      6    2010        WD         Normal  \n",
       "5          NaN       0      4    2010        WD         Normal  \n",
       "10         NaN       0      6    2010        WD         Normal  \n",
       "\n",
       "[3 rows x 80 columns]"
      ]
     },
     "execution_count": 24,
     "metadata": {},
     "output_type": "execute_result"
    }
   ],
   "source": [
    "raw_test_df.loc[[1,5,10]]"
   ]
  },
  {
   "cell_type": "code",
   "execution_count": 25,
   "metadata": {},
   "outputs": [
    {
     "data": {
      "text/html": [
       "<div>\n",
       "<style scoped>\n",
       "    .dataframe tbody tr th:only-of-type {\n",
       "        vertical-align: middle;\n",
       "    }\n",
       "\n",
       "    .dataframe tbody tr th {\n",
       "        vertical-align: top;\n",
       "    }\n",
       "\n",
       "    .dataframe thead th {\n",
       "        text-align: right;\n",
       "    }\n",
       "</style>\n",
       "<table border=\"1\" class=\"dataframe\">\n",
       "  <thead>\n",
       "    <tr style=\"text-align: right;\">\n",
       "      <th></th>\n",
       "      <th>MSSubClass</th>\n",
       "      <th>MSZoning</th>\n",
       "      <th>LotFrontage</th>\n",
       "      <th>LotArea</th>\n",
       "      <th>Street</th>\n",
       "      <th>Alley</th>\n",
       "      <th>LotShape</th>\n",
       "      <th>LandContour</th>\n",
       "      <th>Utilities</th>\n",
       "      <th>LotConfig</th>\n",
       "      <th>...</th>\n",
       "      <th>Fence</th>\n",
       "      <th>MiscFeature</th>\n",
       "      <th>MiscVal</th>\n",
       "      <th>MoSold</th>\n",
       "      <th>YrSold</th>\n",
       "      <th>SaleType</th>\n",
       "      <th>SaleCondition</th>\n",
       "      <th>LotFrontage_na</th>\n",
       "      <th>MasVnrArea_na</th>\n",
       "      <th>GarageYrBlt_na</th>\n",
       "    </tr>\n",
       "  </thead>\n",
       "  <tbody>\n",
       "    <tr>\n",
       "      <th>1</th>\n",
       "      <td>20</td>\n",
       "      <td>4</td>\n",
       "      <td>81.0</td>\n",
       "      <td>14267</td>\n",
       "      <td>2</td>\n",
       "      <td>0</td>\n",
       "      <td>1</td>\n",
       "      <td>4</td>\n",
       "      <td>1</td>\n",
       "      <td>1</td>\n",
       "      <td>...</td>\n",
       "      <td>0</td>\n",
       "      <td>1</td>\n",
       "      <td>12500</td>\n",
       "      <td>6</td>\n",
       "      <td>2010</td>\n",
       "      <td>9</td>\n",
       "      <td>5</td>\n",
       "      <td>False</td>\n",
       "      <td>False</td>\n",
       "      <td>False</td>\n",
       "    </tr>\n",
       "    <tr>\n",
       "      <th>5</th>\n",
       "      <td>60</td>\n",
       "      <td>4</td>\n",
       "      <td>75.0</td>\n",
       "      <td>10000</td>\n",
       "      <td>2</td>\n",
       "      <td>0</td>\n",
       "      <td>1</td>\n",
       "      <td>4</td>\n",
       "      <td>1</td>\n",
       "      <td>1</td>\n",
       "      <td>...</td>\n",
       "      <td>0</td>\n",
       "      <td>0</td>\n",
       "      <td>0</td>\n",
       "      <td>4</td>\n",
       "      <td>2010</td>\n",
       "      <td>9</td>\n",
       "      <td>5</td>\n",
       "      <td>False</td>\n",
       "      <td>False</td>\n",
       "      <td>False</td>\n",
       "    </tr>\n",
       "    <tr>\n",
       "      <th>10</th>\n",
       "      <td>120</td>\n",
       "      <td>3</td>\n",
       "      <td>26.0</td>\n",
       "      <td>5858</td>\n",
       "      <td>2</td>\n",
       "      <td>0</td>\n",
       "      <td>1</td>\n",
       "      <td>4</td>\n",
       "      <td>1</td>\n",
       "      <td>3</td>\n",
       "      <td>...</td>\n",
       "      <td>0</td>\n",
       "      <td>0</td>\n",
       "      <td>0</td>\n",
       "      <td>6</td>\n",
       "      <td>2010</td>\n",
       "      <td>9</td>\n",
       "      <td>5</td>\n",
       "      <td>False</td>\n",
       "      <td>False</td>\n",
       "      <td>False</td>\n",
       "    </tr>\n",
       "  </tbody>\n",
       "</table>\n",
       "<p>3 rows × 82 columns</p>\n",
       "</div>"
      ],
      "text/plain": [
       "    MSSubClass  MSZoning  LotFrontage  LotArea  Street  Alley  LotShape  \\\n",
       "1           20         4         81.0    14267       2      0         1   \n",
       "5           60         4         75.0    10000       2      0         1   \n",
       "10         120         3         26.0     5858       2      0         1   \n",
       "\n",
       "    LandContour  Utilities  LotConfig       ...        Fence  MiscFeature  \\\n",
       "1             4          1          1       ...            0            1   \n",
       "5             4          1          1       ...            0            0   \n",
       "10            4          1          3       ...            0            0   \n",
       "\n",
       "    MiscVal  MoSold  YrSold  SaleType  SaleCondition  LotFrontage_na  \\\n",
       "1     12500       6    2010         9              5           False   \n",
       "5         0       4    2010         9              5           False   \n",
       "10        0       6    2010         9              5           False   \n",
       "\n",
       "    MasVnrArea_na  GarageYrBlt_na  \n",
       "1           False           False  \n",
       "5           False           False  \n",
       "10          False           False  \n",
       "\n",
       "[3 rows x 82 columns]"
      ]
     },
     "execution_count": 25,
     "metadata": {},
     "output_type": "execute_result"
    }
   ],
   "source": [
    "test.loc[[1,5,10]]"
   ]
  },
  {
   "cell_type": "markdown",
   "metadata": {},
   "source": [
    "### Make validation "
   ]
  },
  {
   "cell_type": "markdown",
   "metadata": {},
   "source": [
    "#### Manual random split"
   ]
  },
  {
   "cell_type": "code",
   "execution_count": 26,
   "metadata": {},
   "outputs": [],
   "source": [
    "np.random.seed(36)"
   ]
  },
  {
   "cell_type": "code",
   "execution_count": 27,
   "metadata": {},
   "outputs": [],
   "source": [
    "all_index = raw_train_df.index.values\n",
    "n_trn = int(len(all_index) * 0.67)\n",
    "np.random.shuffle(all_index)\n",
    "\n",
    "tr_index = all_index[:n_trn]\n",
    "val_index = all_index[n_trn:]"
   ]
  },
  {
   "cell_type": "code",
   "execution_count": 28,
   "metadata": {},
   "outputs": [],
   "source": [
    "raw_train = raw_train_df.loc[tr_index].copy()\n",
    "raw_valid = raw_train_df.loc[val_index].copy()"
   ]
  },
  {
   "cell_type": "code",
   "execution_count": 29,
   "metadata": {},
   "outputs": [
    {
     "data": {
      "text/plain": [
       "((978, 81), (482, 81))"
      ]
     },
     "execution_count": 29,
     "metadata": {},
     "output_type": "execute_result"
    }
   ],
   "source": [
    "raw_train.shape, raw_valid.shape"
   ]
  },
  {
   "cell_type": "code",
   "execution_count": 30,
   "metadata": {},
   "outputs": [],
   "source": [
    "X_train = df.loc[tr_index].copy()\n",
    "X_valid = df.loc[val_index].copy()"
   ]
  },
  {
   "cell_type": "code",
   "execution_count": 31,
   "metadata": {},
   "outputs": [
    {
     "data": {
      "text/plain": [
       "((978, 82), (482, 82))"
      ]
     },
     "execution_count": 31,
     "metadata": {},
     "output_type": "execute_result"
    }
   ],
   "source": [
    "X_train.shape, X_valid.shape"
   ]
  },
  {
   "cell_type": "code",
   "execution_count": 32,
   "metadata": {},
   "outputs": [],
   "source": [
    "def split_vals(df, tr_index, val_index):\n",
    "    return df.loc[tr_index].copy(), df.loc[val_index].copy()"
   ]
  },
  {
   "cell_type": "code",
   "execution_count": 33,
   "metadata": {},
   "outputs": [],
   "source": [
    "y_train = y[tr_index].copy()\n",
    "y_valid = y[val_index].copy()"
   ]
  },
  {
   "cell_type": "code",
   "execution_count": 34,
   "metadata": {
    "scrolled": true
   },
   "outputs": [
    {
     "data": {
      "text/plain": [
       "((978,), (482,))"
      ]
     },
     "execution_count": 34,
     "metadata": {},
     "output_type": "execute_result"
    }
   ],
   "source": [
    "y_train.shape, y_valid.shape"
   ]
  },
  {
   "cell_type": "markdown",
   "metadata": {},
   "source": [
    "##### Sanity check "
   ]
  },
  {
   "cell_type": "code",
   "execution_count": 35,
   "metadata": {},
   "outputs": [
    {
     "data": {
      "text/plain": [
       "(12.024050901109383, 12.024050901109383)"
      ]
     },
     "execution_count": 35,
     "metadata": {},
     "output_type": "execute_result"
    }
   ],
   "source": [
    "raw_train_df.SalePrice.mean(), y.mean()"
   ]
  },
  {
   "cell_type": "code",
   "execution_count": 36,
   "metadata": {
    "scrolled": true
   },
   "outputs": [
    {
     "data": {
      "text/plain": [
       "(12.017823255229901, 12.017823255229901)"
      ]
     },
     "execution_count": 36,
     "metadata": {},
     "output_type": "execute_result"
    }
   ],
   "source": [
    "raw_train.SalePrice.mean(), y_train.mean()"
   ]
  },
  {
   "cell_type": "markdown",
   "metadata": {},
   "source": [
    "### Single Tree "
   ]
  },
  {
   "cell_type": "code",
   "execution_count": 37,
   "metadata": {
    "scrolled": true
   },
   "outputs": [
    {
     "name": "stdout",
     "output_type": "stream",
     "text": [
      "[0.18130081325639608, 0.2204117874903664, 0.7991984815349886, 0.6774320814419119]\n"
     ]
    }
   ],
   "source": [
    "m = RandomForestRegressor(n_estimators=1, max_depth=4, bootstrap=False, n_jobs=-1)\n",
    "m.fit(X_train, y_train)\n",
    "print_score(m)"
   ]
  },
  {
   "cell_type": "code",
   "execution_count": 38,
   "metadata": {
    "collapsed": true
   },
   "outputs": [
    {
     "data": {
      "image/svg+xml": [
       "<?xml version=\"1.0\" encoding=\"UTF-8\" standalone=\"no\"?>\n",
       "<!DOCTYPE svg PUBLIC \"-//W3C//DTD SVG 1.1//EN\"\n",
       " \"http://www.w3.org/Graphics/SVG/1.1/DTD/svg11.dtd\">\n",
       "<!-- Generated by graphviz version 2.40.1 (20161225.0304)\n",
       " -->\n",
       "<!-- Title: Tree Pages: 1 -->\n",
       "<svg width=\"720pt\" height=\"433pt\"\n",
       " viewBox=\"0.00 0.00 720.00 433.23\" xmlns=\"http://www.w3.org/2000/svg\" xmlns:xlink=\"http://www.w3.org/1999/xlink\">\n",
       "<g id=\"graph0\" class=\"graph\" transform=\"scale(.3848 .3848) rotate(0) translate(4 1122)\">\n",
       "<title>Tree</title>\n",
       "<polygon fill=\"#ffffff\" stroke=\"transparent\" points=\"-4,4 -4,-1122 1867.3333,-1122 1867.3333,4 -4,4\"/>\n",
       "<!-- 0 -->\n",
       "<g id=\"node1\" class=\"node\">\n",
       "<title>0</title>\n",
       "<polygon fill=\"#e58139\" fill-opacity=\"0.635294\" stroke=\"#000000\" points=\"221.3333,-636.5 75.3333,-636.5 75.3333,-568.5 221.3333,-568.5 221.3333,-636.5\"/>\n",
       "<text text-anchor=\"start\" x=\"83.3333\" y=\"-621.3\" font-family=\"Times,serif\" font-size=\"14.00\" fill=\"#000000\">OverallQual ≤ 6.5</text>\n",
       "<text text-anchor=\"start\" x=\"102.8333\" y=\"-606.3\" font-family=\"Times,serif\" font-size=\"14.00\" fill=\"#000000\">mse = 0.164</text>\n",
       "<text text-anchor=\"start\" x=\"94.8333\" y=\"-591.3\" font-family=\"Times,serif\" font-size=\"14.00\" fill=\"#000000\">samples = 978</text>\n",
       "<text text-anchor=\"start\" x=\"93.8333\" y=\"-576.3\" font-family=\"Times,serif\" font-size=\"14.00\" fill=\"#000000\">value = 12.018</text>\n",
       "</g>\n",
       "<!-- 1 -->\n",
       "<g id=\"node2\" class=\"node\">\n",
       "<title>1</title>\n",
       "<polygon fill=\"#e58139\" fill-opacity=\"0.545098\" stroke=\"#000000\" points=\"618.3333,-735.5 454.3333,-735.5 454.3333,-667.5 618.3333,-667.5 618.3333,-735.5\"/>\n",
       "<text text-anchor=\"start\" x=\"462.3333\" y=\"-720.3\" font-family=\"Times,serif\" font-size=\"14.00\" fill=\"#000000\">GarageArea ≤ 369.0</text>\n",
       "<text text-anchor=\"start\" x=\"490.8333\" y=\"-705.3\" font-family=\"Times,serif\" font-size=\"14.00\" fill=\"#000000\">mse = 0.088</text>\n",
       "<text text-anchor=\"start\" x=\"482.8333\" y=\"-690.3\" font-family=\"Times,serif\" font-size=\"14.00\" fill=\"#000000\">samples = 608</text>\n",
       "<text text-anchor=\"start\" x=\"481.8333\" y=\"-675.3\" font-family=\"Times,serif\" font-size=\"14.00\" fill=\"#000000\">value = 11.802</text>\n",
       "</g>\n",
       "<!-- 0&#45;&gt;1 -->\n",
       "<g id=\"edge1\" class=\"edge\">\n",
       "<title>0&#45;&gt;1</title>\n",
       "<path fill=\"none\" stroke=\"#000000\" d=\"M221.7693,-621.2375C284.9032,-637.3464 376.2607,-660.6567 444.2717,-678.01\"/>\n",
       "<polygon fill=\"#000000\" stroke=\"#000000\" points=\"443.5756,-681.4445 454.1305,-680.5256 445.3063,-674.6618 443.5756,-681.4445\"/>\n",
       "<text text-anchor=\"middle\" x=\"432.6311\" y=\"-689.5839\" font-family=\"Times,serif\" font-size=\"14.00\" fill=\"#000000\">True</text>\n",
       "</g>\n",
       "<!-- 16 -->\n",
       "<g id=\"node17\" class=\"node\">\n",
       "<title>16</title>\n",
       "<polygon fill=\"#e58139\" fill-opacity=\"0.784314\" stroke=\"#000000\" points=\"618.3333,-451.5 454.3333,-451.5 454.3333,-383.5 618.3333,-383.5 618.3333,-451.5\"/>\n",
       "<text text-anchor=\"start\" x=\"462.3333\" y=\"-436.3\" font-family=\"Times,serif\" font-size=\"14.00\" fill=\"#000000\">GarageArea ≤ 664.5</text>\n",
       "<text text-anchor=\"start\" x=\"490.8333\" y=\"-421.3\" font-family=\"Times,serif\" font-size=\"14.00\" fill=\"#000000\">mse = 0.085</text>\n",
       "<text text-anchor=\"start\" x=\"482.8333\" y=\"-406.3\" font-family=\"Times,serif\" font-size=\"14.00\" fill=\"#000000\">samples = 370</text>\n",
       "<text text-anchor=\"start\" x=\"481.8333\" y=\"-391.3\" font-family=\"Times,serif\" font-size=\"14.00\" fill=\"#000000\">value = 12.373</text>\n",
       "</g>\n",
       "<!-- 0&#45;&gt;16 -->\n",
       "<g id=\"edge16\" class=\"edge\">\n",
       "<title>0&#45;&gt;16</title>\n",
       "<path fill=\"none\" stroke=\"#000000\" d=\"M219.9507,-568.3526C286.6945,-536.5288 386.1034,-489.1302 455.6276,-455.9808\"/>\n",
       "<polygon fill=\"#000000\" stroke=\"#000000\" points=\"457.2856,-459.0678 464.8057,-451.6047 454.2729,-452.7493 457.2856,-459.0678\"/>\n",
       "<text text-anchor=\"middle\" x=\"441.2408\" y=\"-439.5562\" font-family=\"Times,serif\" font-size=\"14.00\" fill=\"#000000\">False</text>\n",
       "</g>\n",
       "<!-- 2 -->\n",
       "<g id=\"node3\" class=\"node\">\n",
       "<title>2</title>\n",
       "<polygon fill=\"#e58139\" fill-opacity=\"0.474510\" stroke=\"#000000\" points=\"1016.8333,-940.5 875.8333,-940.5 875.8333,-872.5 1016.8333,-872.5 1016.8333,-940.5\"/>\n",
       "<text text-anchor=\"start\" x=\"883.8333\" y=\"-925.3\" font-family=\"Times,serif\" font-size=\"14.00\" fill=\"#000000\">1stFlrSF ≤ 731.0</text>\n",
       "<text text-anchor=\"start\" x=\"900.8333\" y=\"-910.3\" font-family=\"Times,serif\" font-size=\"14.00\" fill=\"#000000\">mse = 0.084</text>\n",
       "<text text-anchor=\"start\" x=\"892.8333\" y=\"-895.3\" font-family=\"Times,serif\" font-size=\"14.00\" fill=\"#000000\">samples = 269</text>\n",
       "<text text-anchor=\"start\" x=\"891.8333\" y=\"-880.3\" font-family=\"Times,serif\" font-size=\"14.00\" fill=\"#000000\">value = 11.634</text>\n",
       "</g>\n",
       "<!-- 1&#45;&gt;2 -->\n",
       "<g id=\"edge2\" class=\"edge\">\n",
       "<title>1&#45;&gt;2</title>\n",
       "<path fill=\"none\" stroke=\"#000000\" d=\"M604.4967,-735.5817C677.3607,-772.0137 792.6703,-829.6685 868.9088,-867.7877\"/>\n",
       "<polygon fill=\"#000000\" stroke=\"#000000\" points=\"867.4974,-870.9951 878.007,-872.3368 870.6279,-864.7341 867.4974,-870.9951\"/>\n",
       "</g>\n",
       "<!-- 9 -->\n",
       "<g id=\"node10\" class=\"node\">\n",
       "<title>9</title>\n",
       "<polygon fill=\"#e58139\" fill-opacity=\"0.600000\" stroke=\"#000000\" points=\"1019.3333,-735.5 873.3333,-735.5 873.3333,-667.5 1019.3333,-667.5 1019.3333,-735.5\"/>\n",
       "<text text-anchor=\"start\" x=\"881.3333\" y=\"-720.3\" font-family=\"Times,serif\" font-size=\"14.00\" fill=\"#000000\">OverallQual ≤ 5.5</text>\n",
       "<text text-anchor=\"start\" x=\"900.8333\" y=\"-705.3\" font-family=\"Times,serif\" font-size=\"14.00\" fill=\"#000000\">mse = 0.051</text>\n",
       "<text text-anchor=\"start\" x=\"892.8333\" y=\"-690.3\" font-family=\"Times,serif\" font-size=\"14.00\" fill=\"#000000\">samples = 339</text>\n",
       "<text text-anchor=\"start\" x=\"891.8333\" y=\"-675.3\" font-family=\"Times,serif\" font-size=\"14.00\" fill=\"#000000\">value = 11.935</text>\n",
       "</g>\n",
       "<!-- 1&#45;&gt;9 -->\n",
       "<g id=\"edge9\" class=\"edge\">\n",
       "<title>1&#45;&gt;9</title>\n",
       "<path fill=\"none\" stroke=\"#000000\" d=\"M618.8098,-701.5C689.797,-701.5 791.7447,-701.5 862.9842,-701.5\"/>\n",
       "<polygon fill=\"#000000\" stroke=\"#000000\" points=\"863.2649,-705.0001 873.2648,-701.5 863.2648,-698.0001 863.2649,-705.0001\"/>\n",
       "</g>\n",
       "<!-- 3 -->\n",
       "<g id=\"node4\" class=\"node\">\n",
       "<title>3</title>\n",
       "<polygon fill=\"#e58139\" fill-opacity=\"0.341176\" stroke=\"#000000\" points=\"1429.3333,-1054.5 1295.3333,-1054.5 1295.3333,-986.5 1429.3333,-986.5 1429.3333,-1054.5\"/>\n",
       "<text text-anchor=\"start\" x=\"1303.3333\" y=\"-1039.3\" font-family=\"Times,serif\" font-size=\"14.00\" fill=\"#000000\">MSZoning ≤ 2.0</text>\n",
       "<text text-anchor=\"start\" x=\"1316.8333\" y=\"-1024.3\" font-family=\"Times,serif\" font-size=\"14.00\" fill=\"#000000\">mse = 0.121</text>\n",
       "<text text-anchor=\"start\" x=\"1313.3333\" y=\"-1009.3\" font-family=\"Times,serif\" font-size=\"14.00\" fill=\"#000000\">samples = 48</text>\n",
       "<text text-anchor=\"start\" x=\"1307.8333\" y=\"-994.3\" font-family=\"Times,serif\" font-size=\"14.00\" fill=\"#000000\">value = 11.323</text>\n",
       "</g>\n",
       "<!-- 2&#45;&gt;3 -->\n",
       "<g id=\"edge3\" class=\"edge\">\n",
       "<title>2&#45;&gt;3</title>\n",
       "<path fill=\"none\" stroke=\"#000000\" d=\"M1016.9021,-925.8385C1091.3325,-946.2353 1208.2595,-978.2779 1285.1108,-999.338\"/>\n",
       "<polygon fill=\"#000000\" stroke=\"#000000\" points=\"1284.6429,-1002.8388 1295.2123,-1002.1063 1286.493,-996.0877 1284.6429,-1002.8388\"/>\n",
       "</g>\n",
       "<!-- 6 -->\n",
       "<g id=\"node7\" class=\"node\">\n",
       "<title>6</title>\n",
       "<polygon fill=\"#e58139\" fill-opacity=\"0.501961\" stroke=\"#000000\" points=\"1437.3333,-940.5 1287.3333,-940.5 1287.3333,-872.5 1437.3333,-872.5 1437.3333,-940.5\"/>\n",
       "<text text-anchor=\"start\" x=\"1295.3333\" y=\"-925.3\" font-family=\"Times,serif\" font-size=\"14.00\" fill=\"#000000\">OverallCond ≤ 3.5</text>\n",
       "<text text-anchor=\"start\" x=\"1316.8333\" y=\"-910.3\" font-family=\"Times,serif\" font-size=\"14.00\" fill=\"#000000\">mse = 0.051</text>\n",
       "<text text-anchor=\"start\" x=\"1308.8333\" y=\"-895.3\" font-family=\"Times,serif\" font-size=\"14.00\" fill=\"#000000\">samples = 221</text>\n",
       "<text text-anchor=\"start\" x=\"1307.8333\" y=\"-880.3\" font-family=\"Times,serif\" font-size=\"14.00\" fill=\"#000000\">value = 11.702</text>\n",
       "</g>\n",
       "<!-- 2&#45;&gt;6 -->\n",
       "<g id=\"edge6\" class=\"edge\">\n",
       "<title>2&#45;&gt;6</title>\n",
       "<path fill=\"none\" stroke=\"#000000\" d=\"M1016.9021,-906.5C1088.7812,-906.5 1200.2936,-906.5 1277.0701,-906.5\"/>\n",
       "<polygon fill=\"#000000\" stroke=\"#000000\" points=\"1277.1947,-910.0001 1287.1946,-906.5 1277.1946,-903.0001 1277.1947,-910.0001\"/>\n",
       "</g>\n",
       "<!-- 4 -->\n",
       "<g id=\"node5\" class=\"node\">\n",
       "<title>4</title>\n",
       "<polygon fill=\"transparent\" stroke=\"#000000\" points=\"1794.3333,-1118 1678.3333,-1118 1678.3333,-1065 1794.3333,-1065 1794.3333,-1118\"/>\n",
       "<text text-anchor=\"start\" x=\"1690.8333\" y=\"-1102.8\" font-family=\"Times,serif\" font-size=\"14.00\" fill=\"#000000\">mse = 0.004</text>\n",
       "<text text-anchor=\"start\" x=\"1691.8333\" y=\"-1087.8\" font-family=\"Times,serif\" font-size=\"14.00\" fill=\"#000000\">samples = 3</text>\n",
       "<text text-anchor=\"start\" x=\"1686.3333\" y=\"-1072.8\" font-family=\"Times,serif\" font-size=\"14.00\" fill=\"#000000\">value = 10.51</text>\n",
       "</g>\n",
       "<!-- 3&#45;&gt;4 -->\n",
       "<g id=\"edge4\" class=\"edge\">\n",
       "<title>3&#45;&gt;4</title>\n",
       "<path fill=\"none\" stroke=\"#000000\" d=\"M1429.629,-1033.2754C1497.0417,-1046.073 1600.2598,-1065.6679 1668.0275,-1078.5328\"/>\n",
       "<polygon fill=\"#000000\" stroke=\"#000000\" points=\"1667.6967,-1082.0325 1678.1741,-1080.4591 1669.0023,-1075.1553 1667.6967,-1082.0325\"/>\n",
       "</g>\n",
       "<!-- 5 -->\n",
       "<g id=\"node6\" class=\"node\">\n",
       "<title>5</title>\n",
       "<polygon fill=\"#e58139\" fill-opacity=\"0.364706\" stroke=\"#000000\" points=\"1798.8333,-1047 1673.8333,-1047 1673.8333,-994 1798.8333,-994 1798.8333,-1047\"/>\n",
       "<text text-anchor=\"start\" x=\"1690.8333\" y=\"-1031.8\" font-family=\"Times,serif\" font-size=\"14.00\" fill=\"#000000\">mse = 0.082</text>\n",
       "<text text-anchor=\"start\" x=\"1687.3333\" y=\"-1016.8\" font-family=\"Times,serif\" font-size=\"14.00\" fill=\"#000000\">samples = 45</text>\n",
       "<text text-anchor=\"start\" x=\"1681.8333\" y=\"-1001.8\" font-family=\"Times,serif\" font-size=\"14.00\" fill=\"#000000\">value = 11.377</text>\n",
       "</g>\n",
       "<!-- 3&#45;&gt;5 -->\n",
       "<g id=\"edge5\" class=\"edge\">\n",
       "<title>3&#45;&gt;5</title>\n",
       "<path fill=\"none\" stroke=\"#000000\" d=\"M1429.629,-1020.5C1495.5414,-1020.5 1595.6832,-1020.5 1663.451,-1020.5\"/>\n",
       "<polygon fill=\"#000000\" stroke=\"#000000\" points=\"1663.6226,-1024.0001 1673.6226,-1020.5 1663.6226,-1017.0001 1663.6226,-1024.0001\"/>\n",
       "</g>\n",
       "<!-- 7 -->\n",
       "<g id=\"node8\" class=\"node\">\n",
       "<title>7</title>\n",
       "<polygon fill=\"#e58139\" fill-opacity=\"0.301961\" stroke=\"#000000\" points=\"1798.8333,-976 1673.8333,-976 1673.8333,-923 1798.8333,-923 1798.8333,-976\"/>\n",
       "<text text-anchor=\"start\" x=\"1690.8333\" y=\"-960.8\" font-family=\"Times,serif\" font-size=\"14.00\" fill=\"#000000\">mse = 0.037</text>\n",
       "<text text-anchor=\"start\" x=\"1687.3333\" y=\"-945.8\" font-family=\"Times,serif\" font-size=\"14.00\" fill=\"#000000\">samples = 11</text>\n",
       "<text text-anchor=\"start\" x=\"1681.8333\" y=\"-930.8\" font-family=\"Times,serif\" font-size=\"14.00\" fill=\"#000000\">value = 11.222</text>\n",
       "</g>\n",
       "<!-- 6&#45;&gt;7 -->\n",
       "<g id=\"edge7\" class=\"edge\">\n",
       "<title>6&#45;&gt;7</title>\n",
       "<path fill=\"none\" stroke=\"#000000\" d=\"M1437.5679,-915.15C1503.3729,-922.7158 1598.3437,-933.6349 1663.4437,-941.1196\"/>\n",
       "<polygon fill=\"#000000\" stroke=\"#000000\" points=\"1663.2919,-944.6252 1673.6263,-942.2904 1664.0915,-937.671 1663.2919,-944.6252\"/>\n",
       "</g>\n",
       "<!-- 8 -->\n",
       "<g id=\"node9\" class=\"node\">\n",
       "<title>8</title>\n",
       "<polygon fill=\"#e58139\" fill-opacity=\"0.513725\" stroke=\"#000000\" points=\"1798.8333,-905 1673.8333,-905 1673.8333,-852 1798.8333,-852 1798.8333,-905\"/>\n",
       "<text text-anchor=\"start\" x=\"1690.8333\" y=\"-889.8\" font-family=\"Times,serif\" font-size=\"14.00\" fill=\"#000000\">mse = 0.039</text>\n",
       "<text text-anchor=\"start\" x=\"1682.8333\" y=\"-874.8\" font-family=\"Times,serif\" font-size=\"14.00\" fill=\"#000000\">samples = 210</text>\n",
       "<text text-anchor=\"start\" x=\"1681.8333\" y=\"-859.8\" font-family=\"Times,serif\" font-size=\"14.00\" fill=\"#000000\">value = 11.727</text>\n",
       "</g>\n",
       "<!-- 6&#45;&gt;8 -->\n",
       "<g id=\"edge8\" class=\"edge\">\n",
       "<title>6&#45;&gt;8</title>\n",
       "<path fill=\"none\" stroke=\"#000000\" d=\"M1437.5679,-900.8675C1503.3729,-895.9409 1598.3437,-888.8308 1663.4437,-883.957\"/>\n",
       "<polygon fill=\"#000000\" stroke=\"#000000\" points=\"1663.9155,-887.4315 1673.6263,-883.1946 1663.3929,-880.4511 1663.9155,-887.4315\"/>\n",
       "</g>\n",
       "<!-- 10 -->\n",
       "<g id=\"node11\" class=\"node\">\n",
       "<title>10</title>\n",
       "<polygon fill=\"#e58139\" fill-opacity=\"0.545098\" stroke=\"#000000\" points=\"1435.3333,-778.5 1289.3333,-778.5 1289.3333,-710.5 1435.3333,-710.5 1435.3333,-778.5\"/>\n",
       "<text text-anchor=\"start\" x=\"1297.3333\" y=\"-763.3\" font-family=\"Times,serif\" font-size=\"14.00\" fill=\"#000000\">OverallQual ≤ 4.5</text>\n",
       "<text text-anchor=\"start\" x=\"1316.8333\" y=\"-748.3\" font-family=\"Times,serif\" font-size=\"14.00\" fill=\"#000000\">mse = 0.043</text>\n",
       "<text text-anchor=\"start\" x=\"1308.8333\" y=\"-733.3\" font-family=\"Times,serif\" font-size=\"14.00\" fill=\"#000000\">samples = 162</text>\n",
       "<text text-anchor=\"start\" x=\"1307.8333\" y=\"-718.3\" font-family=\"Times,serif\" font-size=\"14.00\" fill=\"#000000\">value = 11.808</text>\n",
       "</g>\n",
       "<!-- 9&#45;&gt;10 -->\n",
       "<g id=\"edge10\" class=\"edge\">\n",
       "<title>9&#45;&gt;10</title>\n",
       "<path fill=\"none\" stroke=\"#000000\" d=\"M1019.7482,-709.0886C1092.4096,-716.5992 1203.4715,-728.0792 1279.3084,-735.9181\"/>\n",
       "<polygon fill=\"#000000\" stroke=\"#000000\" points=\"1278.9966,-739.4044 1289.3035,-736.9512 1279.7163,-732.4415 1278.9966,-739.4044\"/>\n",
       "</g>\n",
       "<!-- 13 -->\n",
       "<g id=\"node14\" class=\"node\">\n",
       "<title>13</title>\n",
       "<polygon fill=\"#e58139\" fill-opacity=\"0.650980\" stroke=\"#000000\" points=\"1442.8333,-692.5 1281.8333,-692.5 1281.8333,-624.5 1442.8333,-624.5 1442.8333,-692.5\"/>\n",
       "<text text-anchor=\"start\" x=\"1289.8333\" y=\"-677.3\" font-family=\"Times,serif\" font-size=\"14.00\" fill=\"#000000\">GrLivArea ≤ 1487.5</text>\n",
       "<text text-anchor=\"start\" x=\"1321.3333\" y=\"-662.3\" font-family=\"Times,serif\" font-size=\"14.00\" fill=\"#000000\">mse = 0.03</text>\n",
       "<text text-anchor=\"start\" x=\"1308.8333\" y=\"-647.3\" font-family=\"Times,serif\" font-size=\"14.00\" fill=\"#000000\">samples = 177</text>\n",
       "<text text-anchor=\"start\" x=\"1307.8333\" y=\"-632.3\" font-family=\"Times,serif\" font-size=\"14.00\" fill=\"#000000\">value = 12.052</text>\n",
       "</g>\n",
       "<!-- 9&#45;&gt;13 -->\n",
       "<g id=\"edge13\" class=\"edge\">\n",
       "<title>9&#45;&gt;13</title>\n",
       "<path fill=\"none\" stroke=\"#000000\" d=\"M1019.7482,-693.9114C1089.954,-686.6546 1196.0089,-675.6922 1271.502,-667.8888\"/>\n",
       "<polygon fill=\"#000000\" stroke=\"#000000\" points=\"1271.8925,-671.3672 1281.4796,-666.8575 1271.1727,-664.4043 1271.8925,-671.3672\"/>\n",
       "</g>\n",
       "<!-- 11 -->\n",
       "<g id=\"node12\" class=\"node\">\n",
       "<title>11</title>\n",
       "<polygon fill=\"#e58139\" fill-opacity=\"0.462745\" stroke=\"#000000\" points=\"1798.8333,-834 1673.8333,-834 1673.8333,-781 1798.8333,-781 1798.8333,-834\"/>\n",
       "<text text-anchor=\"start\" x=\"1690.8333\" y=\"-818.8\" font-family=\"Times,serif\" font-size=\"14.00\" fill=\"#000000\">mse = 0.039</text>\n",
       "<text text-anchor=\"start\" x=\"1687.3333\" y=\"-803.8\" font-family=\"Times,serif\" font-size=\"14.00\" fill=\"#000000\">samples = 32</text>\n",
       "<text text-anchor=\"start\" x=\"1681.8333\" y=\"-788.8\" font-family=\"Times,serif\" font-size=\"14.00\" fill=\"#000000\">value = 11.609</text>\n",
       "</g>\n",
       "<!-- 10&#45;&gt;11 -->\n",
       "<g id=\"edge11\" class=\"edge\">\n",
       "<title>10&#45;&gt;11</title>\n",
       "<path fill=\"none\" stroke=\"#000000\" d=\"M1435.7775,-756.8716C1501.7418,-767.9832 1598.0461,-784.2056 1663.7461,-795.2727\"/>\n",
       "<polygon fill=\"#000000\" stroke=\"#000000\" points=\"1663.1715,-798.7252 1673.6139,-796.935 1664.3343,-791.8224 1663.1715,-798.7252\"/>\n",
       "</g>\n",
       "<!-- 12 -->\n",
       "<g id=\"node13\" class=\"node\">\n",
       "<title>12</title>\n",
       "<polygon fill=\"#e58139\" fill-opacity=\"0.568627\" stroke=\"#000000\" points=\"1798.8333,-763 1673.8333,-763 1673.8333,-710 1798.8333,-710 1798.8333,-763\"/>\n",
       "<text text-anchor=\"start\" x=\"1690.8333\" y=\"-747.8\" font-family=\"Times,serif\" font-size=\"14.00\" fill=\"#000000\">mse = 0.032</text>\n",
       "<text text-anchor=\"start\" x=\"1682.8333\" y=\"-732.8\" font-family=\"Times,serif\" font-size=\"14.00\" fill=\"#000000\">samples = 130</text>\n",
       "<text text-anchor=\"start\" x=\"1681.8333\" y=\"-717.8\" font-family=\"Times,serif\" font-size=\"14.00\" fill=\"#000000\">value = 11.857</text>\n",
       "</g>\n",
       "<!-- 10&#45;&gt;12 -->\n",
       "<g id=\"edge12\" class=\"edge\">\n",
       "<title>10&#45;&gt;12</title>\n",
       "<path fill=\"none\" stroke=\"#000000\" d=\"M1435.7775,-742.929C1501.6064,-741.5209 1597.6508,-739.4665 1663.341,-738.0613\"/>\n",
       "<polygon fill=\"#000000\" stroke=\"#000000\" points=\"1663.6911,-741.5547 1673.6139,-737.8416 1663.5413,-734.5563 1663.6911,-741.5547\"/>\n",
       "</g>\n",
       "<!-- 14 -->\n",
       "<g id=\"node15\" class=\"node\">\n",
       "<title>14</title>\n",
       "<polygon fill=\"#e58139\" fill-opacity=\"0.607843\" stroke=\"#000000\" points=\"1798.8333,-692 1673.8333,-692 1673.8333,-639 1798.8333,-639 1798.8333,-692\"/>\n",
       "<text text-anchor=\"start\" x=\"1690.8333\" y=\"-676.8\" font-family=\"Times,serif\" font-size=\"14.00\" fill=\"#000000\">mse = 0.016</text>\n",
       "<text text-anchor=\"start\" x=\"1687.3333\" y=\"-661.8\" font-family=\"Times,serif\" font-size=\"14.00\" fill=\"#000000\">samples = 84</text>\n",
       "<text text-anchor=\"start\" x=\"1681.8333\" y=\"-646.8\" font-family=\"Times,serif\" font-size=\"14.00\" fill=\"#000000\">value = 11.949</text>\n",
       "</g>\n",
       "<!-- 13&#45;&gt;14 -->\n",
       "<g id=\"edge14\" class=\"edge\">\n",
       "<title>13&#45;&gt;14</title>\n",
       "<path fill=\"none\" stroke=\"#000000\" d=\"M1443.0253,-660.0103C1508.5245,-661.2362 1600.0798,-662.9498 1663.3997,-664.1349\"/>\n",
       "<polygon fill=\"#000000\" stroke=\"#000000\" points=\"1663.6391,-667.6399 1673.7029,-664.3278 1663.7701,-660.6412 1663.6391,-667.6399\"/>\n",
       "</g>\n",
       "<!-- 15 -->\n",
       "<g id=\"node16\" class=\"node\">\n",
       "<title>15</title>\n",
       "<polygon fill=\"#e58139\" fill-opacity=\"0.690196\" stroke=\"#000000\" points=\"1798.8333,-621 1673.8333,-621 1673.8333,-568 1798.8333,-568 1798.8333,-621\"/>\n",
       "<text text-anchor=\"start\" x=\"1690.8333\" y=\"-605.8\" font-family=\"Times,serif\" font-size=\"14.00\" fill=\"#000000\">mse = 0.025</text>\n",
       "<text text-anchor=\"start\" x=\"1687.3333\" y=\"-590.8\" font-family=\"Times,serif\" font-size=\"14.00\" fill=\"#000000\">samples = 93</text>\n",
       "<text text-anchor=\"start\" x=\"1681.8333\" y=\"-575.8\" font-family=\"Times,serif\" font-size=\"14.00\" fill=\"#000000\">value = 12.144</text>\n",
       "</g>\n",
       "<!-- 13&#45;&gt;15 -->\n",
       "<g id=\"edge15\" class=\"edge\">\n",
       "<title>13&#45;&gt;15</title>\n",
       "<path fill=\"none\" stroke=\"#000000\" d=\"M1443.0253,-644.6917C1508.6596,-633.4602 1600.4575,-617.7515 1663.791,-606.9137\"/>\n",
       "<polygon fill=\"#000000\" stroke=\"#000000\" points=\"1664.4365,-610.3542 1673.7029,-605.2175 1663.2558,-603.4545 1664.4365,-610.3542\"/>\n",
       "</g>\n",
       "<!-- 17 -->\n",
       "<g id=\"node18\" class=\"node\">\n",
       "<title>17</title>\n",
       "<polygon fill=\"#e58139\" fill-opacity=\"0.733333\" stroke=\"#000000\" points=\"1029.8333,-451.5 862.8333,-451.5 862.8333,-383.5 1029.8333,-383.5 1029.8333,-451.5\"/>\n",
       "<text text-anchor=\"start\" x=\"870.8333\" y=\"-436.3\" font-family=\"Times,serif\" font-size=\"14.00\" fill=\"#000000\">BsmtFinSF1 ≤ 917.5</text>\n",
       "<text text-anchor=\"start\" x=\"900.8333\" y=\"-421.3\" font-family=\"Times,serif\" font-size=\"14.00\" fill=\"#000000\">mse = 0.051</text>\n",
       "<text text-anchor=\"start\" x=\"892.8333\" y=\"-406.3\" font-family=\"Times,serif\" font-size=\"14.00\" fill=\"#000000\">samples = 242</text>\n",
       "<text text-anchor=\"start\" x=\"891.8333\" y=\"-391.3\" font-family=\"Times,serif\" font-size=\"14.00\" fill=\"#000000\">value = 12.249</text>\n",
       "</g>\n",
       "<!-- 16&#45;&gt;17 -->\n",
       "<g id=\"edge17\" class=\"edge\">\n",
       "<title>16&#45;&gt;17</title>\n",
       "<path fill=\"none\" stroke=\"#000000\" d=\"M618.8098,-417.5C686.3424,-417.5 781.8954,-417.5 852.3724,-417.5\"/>\n",
       "<polygon fill=\"#000000\" stroke=\"#000000\" points=\"852.5824,-421.0001 862.5824,-417.5 852.5824,-414.0001 852.5824,-421.0001\"/>\n",
       "</g>\n",
       "<!-- 24 -->\n",
       "<g id=\"node25\" class=\"node\">\n",
       "<title>24</title>\n",
       "<polygon fill=\"#e58139\" fill-opacity=\"0.882353\" stroke=\"#000000\" points=\"1019.3333,-245.5 873.3333,-245.5 873.3333,-177.5 1019.3333,-177.5 1019.3333,-245.5\"/>\n",
       "<text text-anchor=\"start\" x=\"881.3333\" y=\"-230.3\" font-family=\"Times,serif\" font-size=\"14.00\" fill=\"#000000\">OverallQual ≤ 8.5</text>\n",
       "<text text-anchor=\"start\" x=\"900.8333\" y=\"-215.3\" font-family=\"Times,serif\" font-size=\"14.00\" fill=\"#000000\">mse = 0.068</text>\n",
       "<text text-anchor=\"start\" x=\"892.8333\" y=\"-200.3\" font-family=\"Times,serif\" font-size=\"14.00\" fill=\"#000000\">samples = 128</text>\n",
       "<text text-anchor=\"start\" x=\"891.8333\" y=\"-185.3\" font-family=\"Times,serif\" font-size=\"14.00\" fill=\"#000000\">value = 12.606</text>\n",
       "</g>\n",
       "<!-- 16&#45;&gt;24 -->\n",
       "<g id=\"edge24\" class=\"edge\">\n",
       "<title>16&#45;&gt;24</title>\n",
       "<path fill=\"none\" stroke=\"#000000\" d=\"M604.0365,-383.4833C677.0355,-346.8058 793.0213,-288.5299 869.4151,-250.1467\"/>\n",
       "<polygon fill=\"#000000\" stroke=\"#000000\" points=\"871.1654,-253.1843 878.5296,-245.5672 868.0227,-246.9294 871.1654,-253.1843\"/>\n",
       "</g>\n",
       "<!-- 18 -->\n",
       "<g id=\"node19\" class=\"node\">\n",
       "<title>18</title>\n",
       "<polygon fill=\"#e58139\" fill-opacity=\"0.709804\" stroke=\"#000000\" points=\"1442.8333,-494.5 1281.8333,-494.5 1281.8333,-426.5 1442.8333,-426.5 1442.8333,-494.5\"/>\n",
       "<text text-anchor=\"start\" x=\"1289.8333\" y=\"-479.3\" font-family=\"Times,serif\" font-size=\"14.00\" fill=\"#000000\">GrLivArea ≤ 1980.5</text>\n",
       "<text text-anchor=\"start\" x=\"1316.8333\" y=\"-464.3\" font-family=\"Times,serif\" font-size=\"14.00\" fill=\"#000000\">mse = 0.037</text>\n",
       "<text text-anchor=\"start\" x=\"1308.8333\" y=\"-449.3\" font-family=\"Times,serif\" font-size=\"14.00\" fill=\"#000000\">samples = 200</text>\n",
       "<text text-anchor=\"start\" x=\"1307.8333\" y=\"-434.3\" font-family=\"Times,serif\" font-size=\"14.00\" fill=\"#000000\">value = 12.198</text>\n",
       "</g>\n",
       "<!-- 17&#45;&gt;18 -->\n",
       "<g id=\"edge18\" class=\"edge\">\n",
       "<title>17&#45;&gt;18</title>\n",
       "<path fill=\"none\" stroke=\"#000000\" d=\"M1030.0167,-426.15C1100.0377,-433.3877 1199.7474,-443.6942 1271.6566,-451.1272\"/>\n",
       "<polygon fill=\"#000000\" stroke=\"#000000\" points=\"1271.3059,-454.6095 1281.6128,-452.1563 1272.0257,-447.6466 1271.3059,-454.6095\"/>\n",
       "</g>\n",
       "<!-- 21 -->\n",
       "<g id=\"node22\" class=\"node\">\n",
       "<title>21</title>\n",
       "<polygon fill=\"#e58139\" fill-opacity=\"0.835294\" stroke=\"#000000\" points=\"1442.8333,-408.5 1281.8333,-408.5 1281.8333,-340.5 1442.8333,-340.5 1442.8333,-408.5\"/>\n",
       "<text text-anchor=\"start\" x=\"1289.8333\" y=\"-393.3\" font-family=\"Times,serif\" font-size=\"14.00\" fill=\"#000000\">GrLivArea ≤ 1630.0</text>\n",
       "<text text-anchor=\"start\" x=\"1316.8333\" y=\"-378.3\" font-family=\"Times,serif\" font-size=\"14.00\" fill=\"#000000\">mse = 0.044</text>\n",
       "<text text-anchor=\"start\" x=\"1313.3333\" y=\"-363.3\" font-family=\"Times,serif\" font-size=\"14.00\" fill=\"#000000\">samples = 42</text>\n",
       "<text text-anchor=\"start\" x=\"1307.8333\" y=\"-348.3\" font-family=\"Times,serif\" font-size=\"14.00\" fill=\"#000000\">value = 12.491</text>\n",
       "</g>\n",
       "<!-- 17&#45;&gt;21 -->\n",
       "<g id=\"edge21\" class=\"edge\">\n",
       "<title>17&#45;&gt;21</title>\n",
       "<path fill=\"none\" stroke=\"#000000\" d=\"M1030.0167,-408.85C1100.0377,-401.6123 1199.7474,-391.3058 1271.6566,-383.8728\"/>\n",
       "<polygon fill=\"#000000\" stroke=\"#000000\" points=\"1272.0257,-387.3534 1281.6128,-382.8437 1271.3059,-380.3905 1272.0257,-387.3534\"/>\n",
       "</g>\n",
       "<!-- 19 -->\n",
       "<g id=\"node20\" class=\"node\">\n",
       "<title>19</title>\n",
       "<polygon fill=\"#e58139\" fill-opacity=\"0.690196\" stroke=\"#000000\" points=\"1798.8333,-550 1673.8333,-550 1673.8333,-497 1798.8333,-497 1798.8333,-550\"/>\n",
       "<text text-anchor=\"start\" x=\"1690.8333\" y=\"-534.8\" font-family=\"Times,serif\" font-size=\"14.00\" fill=\"#000000\">mse = 0.024</text>\n",
       "<text text-anchor=\"start\" x=\"1682.8333\" y=\"-519.8\" font-family=\"Times,serif\" font-size=\"14.00\" fill=\"#000000\">samples = 166</text>\n",
       "<text text-anchor=\"start\" x=\"1681.8333\" y=\"-504.8\" font-family=\"Times,serif\" font-size=\"14.00\" fill=\"#000000\">value = 12.151</text>\n",
       "</g>\n",
       "<!-- 18&#45;&gt;19 -->\n",
       "<g id=\"edge19\" class=\"edge\">\n",
       "<title>18&#45;&gt;19</title>\n",
       "<path fill=\"none\" stroke=\"#000000\" d=\"M1443.0253,-474.0925C1508.6596,-485.1485 1600.4575,-500.6118 1663.791,-511.2803\"/>\n",
       "<polygon fill=\"#000000\" stroke=\"#000000\" points=\"1663.2604,-514.7402 1673.7029,-512.9499 1664.4232,-507.8374 1663.2604,-514.7402\"/>\n",
       "</g>\n",
       "<!-- 20 -->\n",
       "<g id=\"node21\" class=\"node\">\n",
       "<title>20</title>\n",
       "<polygon fill=\"#e58139\" fill-opacity=\"0.807843\" stroke=\"#000000\" points=\"1794.3333,-479 1678.3333,-479 1678.3333,-426 1794.3333,-426 1794.3333,-479\"/>\n",
       "<text text-anchor=\"start\" x=\"1690.8333\" y=\"-463.8\" font-family=\"Times,serif\" font-size=\"14.00\" fill=\"#000000\">mse = 0.037</text>\n",
       "<text text-anchor=\"start\" x=\"1687.3333\" y=\"-448.8\" font-family=\"Times,serif\" font-size=\"14.00\" fill=\"#000000\">samples = 34</text>\n",
       "<text text-anchor=\"start\" x=\"1686.3333\" y=\"-433.8\" font-family=\"Times,serif\" font-size=\"14.00\" fill=\"#000000\">value = 12.43</text>\n",
       "</g>\n",
       "<!-- 18&#45;&gt;20 -->\n",
       "<g id=\"edge20\" class=\"edge\">\n",
       "<title>18&#45;&gt;20</title>\n",
       "<path fill=\"none\" stroke=\"#000000\" d=\"M1443.0253,-458.774C1510.0501,-457.3403 1604.359,-455.323 1667.7776,-453.9664\"/>\n",
       "<polygon fill=\"#000000\" stroke=\"#000000\" points=\"1668.1491,-457.4594 1678.0719,-453.7462 1667.9993,-450.461 1668.1491,-457.4594\"/>\n",
       "</g>\n",
       "<!-- 22 -->\n",
       "<g id=\"node23\" class=\"node\">\n",
       "<title>22</title>\n",
       "<polygon fill=\"#e58139\" fill-opacity=\"0.780392\" stroke=\"#000000\" points=\"1798.8333,-408 1673.8333,-408 1673.8333,-355 1798.8333,-355 1798.8333,-408\"/>\n",
       "<text text-anchor=\"start\" x=\"1690.8333\" y=\"-392.8\" font-family=\"Times,serif\" font-size=\"14.00\" fill=\"#000000\">mse = 0.028</text>\n",
       "<text text-anchor=\"start\" x=\"1687.3333\" y=\"-377.8\" font-family=\"Times,serif\" font-size=\"14.00\" fill=\"#000000\">samples = 19</text>\n",
       "<text text-anchor=\"start\" x=\"1681.8333\" y=\"-362.8\" font-family=\"Times,serif\" font-size=\"14.00\" fill=\"#000000\">value = 12.361</text>\n",
       "</g>\n",
       "<!-- 21&#45;&gt;22 -->\n",
       "<g id=\"edge22\" class=\"edge\">\n",
       "<title>21&#45;&gt;22</title>\n",
       "<path fill=\"none\" stroke=\"#000000\" d=\"M1443.0253,-376.0103C1508.5245,-377.2362 1600.0798,-378.9498 1663.3997,-380.1349\"/>\n",
       "<polygon fill=\"#000000\" stroke=\"#000000\" points=\"1663.6391,-383.6399 1673.7029,-380.3278 1663.7701,-376.6412 1663.6391,-383.6399\"/>\n",
       "</g>\n",
       "<!-- 23 -->\n",
       "<g id=\"node24\" class=\"node\">\n",
       "<title>23</title>\n",
       "<polygon fill=\"#e58139\" fill-opacity=\"0.878431\" stroke=\"#000000\" points=\"1793.3333,-337 1679.3333,-337 1679.3333,-284 1793.3333,-284 1793.3333,-337\"/>\n",
       "<text text-anchor=\"start\" x=\"1695.3333\" y=\"-321.8\" font-family=\"Times,serif\" font-size=\"14.00\" fill=\"#000000\">mse = 0.03</text>\n",
       "<text text-anchor=\"start\" x=\"1687.3333\" y=\"-306.8\" font-family=\"Times,serif\" font-size=\"14.00\" fill=\"#000000\">samples = 23</text>\n",
       "<text text-anchor=\"start\" x=\"1690.8333\" y=\"-291.8\" font-family=\"Times,serif\" font-size=\"14.00\" fill=\"#000000\">value = 12.6</text>\n",
       "</g>\n",
       "<!-- 21&#45;&gt;23 -->\n",
       "<g id=\"edge23\" class=\"edge\">\n",
       "<title>21&#45;&gt;23</title>\n",
       "<path fill=\"none\" stroke=\"#000000\" d=\"M1443.0253,-360.6917C1510.596,-349.1288 1605.8969,-332.8207 1669.3209,-321.9674\"/>\n",
       "<polygon fill=\"#000000\" stroke=\"#000000\" points=\"1669.9508,-325.4105 1679.2172,-320.2739 1668.7701,-318.5108 1669.9508,-325.4105\"/>\n",
       "</g>\n",
       "<!-- 25 -->\n",
       "<g id=\"node26\" class=\"node\">\n",
       "<title>25</title>\n",
       "<polygon fill=\"#e58139\" fill-opacity=\"0.847059\" stroke=\"#000000\" points=\"1446.3333,-245.5 1278.3333,-245.5 1278.3333,-177.5 1446.3333,-177.5 1446.3333,-245.5\"/>\n",
       "<text text-anchor=\"start\" x=\"1286.3333\" y=\"-230.3\" font-family=\"Times,serif\" font-size=\"14.00\" fill=\"#000000\">MasVnrArea ≤ 252.0</text>\n",
       "<text text-anchor=\"start\" x=\"1316.8333\" y=\"-215.3\" font-family=\"Times,serif\" font-size=\"14.00\" fill=\"#000000\">mse = 0.045</text>\n",
       "<text text-anchor=\"start\" x=\"1313.3333\" y=\"-200.3\" font-family=\"Times,serif\" font-size=\"14.00\" fill=\"#000000\">samples = 92</text>\n",
       "<text text-anchor=\"start\" x=\"1307.8333\" y=\"-185.3\" font-family=\"Times,serif\" font-size=\"14.00\" fill=\"#000000\">value = 12.517</text>\n",
       "</g>\n",
       "<!-- 24&#45;&gt;25 -->\n",
       "<g id=\"edge25\" class=\"edge\">\n",
       "<title>24&#45;&gt;25</title>\n",
       "<path fill=\"none\" stroke=\"#000000\" d=\"M1019.7482,-211.5C1088.8083,-211.5 1192.5568,-211.5 1267.7817,-211.5\"/>\n",
       "<polygon fill=\"#000000\" stroke=\"#000000\" points=\"1268.2004,-215.0001 1278.2004,-211.5 1268.2004,-208.0001 1268.2004,-215.0001\"/>\n",
       "</g>\n",
       "<!-- 28 -->\n",
       "<g id=\"node29\" class=\"node\">\n",
       "<title>28</title>\n",
       "<polygon fill=\"#e58139\" fill-opacity=\"0.980392\" stroke=\"#000000\" points=\"1447.8333,-131.5 1276.8333,-131.5 1276.8333,-63.5 1447.8333,-63.5 1447.8333,-131.5\"/>\n",
       "<text text-anchor=\"start\" x=\"1284.8333\" y=\"-116.3\" font-family=\"Times,serif\" font-size=\"14.00\" fill=\"#000000\">Neighborhood ≤ 12.0</text>\n",
       "<text text-anchor=\"start\" x=\"1316.8333\" y=\"-101.3\" font-family=\"Times,serif\" font-size=\"14.00\" fill=\"#000000\">mse = 0.055</text>\n",
       "<text text-anchor=\"start\" x=\"1313.3333\" y=\"-86.3\" font-family=\"Times,serif\" font-size=\"14.00\" fill=\"#000000\">samples = 36</text>\n",
       "<text text-anchor=\"start\" x=\"1307.8333\" y=\"-71.3\" font-family=\"Times,serif\" font-size=\"14.00\" fill=\"#000000\">value = 12.834</text>\n",
       "</g>\n",
       "<!-- 24&#45;&gt;28 -->\n",
       "<g id=\"edge28\" class=\"edge\">\n",
       "<title>24&#45;&gt;28</title>\n",
       "<path fill=\"none\" stroke=\"#000000\" d=\"M1019.7482,-191.3815C1088.503,-172.54 1191.6404,-144.2764 1266.7826,-123.6846\"/>\n",
       "<polygon fill=\"#000000\" stroke=\"#000000\" points=\"1268.0095,-126.9775 1276.7289,-120.9589 1266.1594,-120.2264 1268.0095,-126.9775\"/>\n",
       "</g>\n",
       "<!-- 26 -->\n",
       "<g id=\"node27\" class=\"node\">\n",
       "<title>26</title>\n",
       "<polygon fill=\"#e58139\" fill-opacity=\"0.807843\" stroke=\"#000000\" points=\"1798.8333,-266 1673.8333,-266 1673.8333,-213 1798.8333,-213 1798.8333,-266\"/>\n",
       "<text text-anchor=\"start\" x=\"1695.3333\" y=\"-250.8\" font-family=\"Times,serif\" font-size=\"14.00\" fill=\"#000000\">mse = 0.03</text>\n",
       "<text text-anchor=\"start\" x=\"1687.3333\" y=\"-235.8\" font-family=\"Times,serif\" font-size=\"14.00\" fill=\"#000000\">samples = 54</text>\n",
       "<text text-anchor=\"start\" x=\"1681.8333\" y=\"-220.8\" font-family=\"Times,serif\" font-size=\"14.00\" fill=\"#000000\">value = 12.429</text>\n",
       "</g>\n",
       "<!-- 25&#45;&gt;26 -->\n",
       "<g id=\"edge26\" class=\"edge\">\n",
       "<title>25&#45;&gt;26</title>\n",
       "<path fill=\"none\" stroke=\"#000000\" d=\"M1446.7326,-217.8187C1512.0391,-222.7079 1601.526,-229.4075 1663.671,-234.06\"/>\n",
       "<polygon fill=\"#000000\" stroke=\"#000000\" points=\"1663.5534,-237.5609 1673.7868,-234.8174 1664.076,-230.5805 1663.5534,-237.5609\"/>\n",
       "</g>\n",
       "<!-- 27 -->\n",
       "<g id=\"node28\" class=\"node\">\n",
       "<title>27</title>\n",
       "<polygon fill=\"#e58139\" fill-opacity=\"0.898039\" stroke=\"#000000\" points=\"1798.8333,-195 1673.8333,-195 1673.8333,-142 1798.8333,-142 1798.8333,-195\"/>\n",
       "<text text-anchor=\"start\" x=\"1695.3333\" y=\"-179.8\" font-family=\"Times,serif\" font-size=\"14.00\" fill=\"#000000\">mse = 0.04</text>\n",
       "<text text-anchor=\"start\" x=\"1687.3333\" y=\"-164.8\" font-family=\"Times,serif\" font-size=\"14.00\" fill=\"#000000\">samples = 38</text>\n",
       "<text text-anchor=\"start\" x=\"1681.8333\" y=\"-149.8\" font-family=\"Times,serif\" font-size=\"14.00\" fill=\"#000000\">value = 12.641</text>\n",
       "</g>\n",
       "<!-- 25&#45;&gt;27 -->\n",
       "<g id=\"edge27\" class=\"edge\">\n",
       "<title>25&#45;&gt;27</title>\n",
       "<path fill=\"none\" stroke=\"#000000\" d=\"M1446.7326,-201.7963C1512.0391,-194.2878 1601.526,-183.9992 1663.671,-176.8542\"/>\n",
       "<polygon fill=\"#000000\" stroke=\"#000000\" points=\"1664.2521,-180.3106 1673.7868,-175.6912 1663.4524,-173.3564 1664.2521,-180.3106\"/>\n",
       "</g>\n",
       "<!-- 29 -->\n",
       "<g id=\"node30\" class=\"node\">\n",
       "<title>29</title>\n",
       "<polygon fill=\"#e58139\" fill-opacity=\"0.811765\" stroke=\"#000000\" points=\"1798.8333,-124 1673.8333,-124 1673.8333,-71 1798.8333,-71 1798.8333,-124\"/>\n",
       "<text text-anchor=\"start\" x=\"1690.8333\" y=\"-108.8\" font-family=\"Times,serif\" font-size=\"14.00\" fill=\"#000000\">mse = 0.043</text>\n",
       "<text text-anchor=\"start\" x=\"1691.8333\" y=\"-93.8\" font-family=\"Times,serif\" font-size=\"14.00\" fill=\"#000000\">samples = 4</text>\n",
       "<text text-anchor=\"start\" x=\"1681.8333\" y=\"-78.8\" font-family=\"Times,serif\" font-size=\"14.00\" fill=\"#000000\">value = 12.437</text>\n",
       "</g>\n",
       "<!-- 28&#45;&gt;29 -->\n",
       "<g id=\"edge29\" class=\"edge\">\n",
       "<title>28&#45;&gt;29</title>\n",
       "<path fill=\"none\" stroke=\"#000000\" d=\"M1448.1365,-97.5C1513.3039,-97.5 1601.9352,-97.5 1663.6345,-97.5\"/>\n",
       "<polygon fill=\"#000000\" stroke=\"#000000\" points=\"1663.6798,-101.0001 1673.6798,-97.5 1663.6798,-94.0001 1663.6798,-101.0001\"/>\n",
       "</g>\n",
       "<!-- 30 -->\n",
       "<g id=\"node31\" class=\"node\">\n",
       "<title>30</title>\n",
       "<polygon fill=\"#e58139\" stroke=\"#000000\" points=\"1798.8333,-53 1673.8333,-53 1673.8333,0 1798.8333,0 1798.8333,-53\"/>\n",
       "<text text-anchor=\"start\" x=\"1690.8333\" y=\"-37.8\" font-family=\"Times,serif\" font-size=\"14.00\" fill=\"#000000\">mse = 0.034</text>\n",
       "<text text-anchor=\"start\" x=\"1687.3333\" y=\"-22.8\" font-family=\"Times,serif\" font-size=\"14.00\" fill=\"#000000\">samples = 32</text>\n",
       "<text text-anchor=\"start\" x=\"1681.8333\" y=\"-7.8\" font-family=\"Times,serif\" font-size=\"14.00\" fill=\"#000000\">value = 12.884</text>\n",
       "</g>\n",
       "<!-- 28&#45;&gt;30 -->\n",
       "<g id=\"edge30\" class=\"edge\">\n",
       "<title>28&#45;&gt;30</title>\n",
       "<path fill=\"none\" stroke=\"#000000\" d=\"M1448.1365,-81.2112C1513.3039,-68.8398 1601.9352,-52.0141 1663.6345,-40.3011\"/>\n",
       "<polygon fill=\"#000000\" stroke=\"#000000\" points=\"1664.5081,-43.6979 1673.6798,-38.3941 1663.2025,-36.8207 1664.5081,-43.6979\"/>\n",
       "</g>\n",
       "</g>\n",
       "</svg>\n"
      ],
      "text/plain": [
       "<graphviz.files.Source at 0x7f0bb42ac7b8>"
      ]
     },
     "metadata": {},
     "output_type": "display_data"
    }
   ],
   "source": [
    "draw_tree(m.estimators_[0], df, precision=3)"
   ]
  },
  {
   "cell_type": "code",
   "execution_count": 149,
   "metadata": {},
   "outputs": [],
   "source": [
    "# to recreate train and val with new features\n",
    "X_train, X_valid = split_vals(df_keep, tr_index, val_index)"
   ]
  },
  {
   "cell_type": "code",
   "execution_count": 150,
   "metadata": {},
   "outputs": [
    {
     "name": "stdout",
     "output_type": "stream",
     "text": [
      "CPU times: user 584 ms, sys: 21.4 ms, total: 605 ms\n",
      "Wall time: 396 ms\n",
      "[0.04049795841000333, 0.14071832729658967, 0.9899807837964342, 0.868522067316734]\n"
     ]
    }
   ],
   "source": [
    "m = lgb.LGBMRegressor()\n",
    "%time m.fit(X_train, y_train)\n",
    "print_score(m)"
   ]
  },
  {
   "cell_type": "code",
   "execution_count": 156,
   "metadata": {},
   "outputs": [
    {
     "name": "stdout",
     "output_type": "stream",
     "text": [
      "CPU times: user 1.33 s, sys: 116 ms, total: 1.44 s\n",
      "Wall time: 932 ms\n",
      "[0.05147956256519419, 0.13879040361630038, 0.9838103602832269, 0.8721000378096256]\n"
     ]
    }
   ],
   "source": [
    "m = RandomForestRegressor(n_jobs=-1, n_estimators=200, min_samples_leaf=1, max_features=0.4)\n",
    "%time m.fit(X_train, y_train)\n",
    "print_score(m)"
   ]
  },
  {
   "cell_type": "code",
   "execution_count": 171,
   "metadata": {},
   "outputs": [
    {
     "name": "stdout",
     "output_type": "stream",
     "text": [
      "CPU times: user 526 ms, sys: 441 ms, total: 968 ms\n",
      "Wall time: 528 ms\n"
     ]
    },
    {
     "data": {
      "text/plain": [
       "LGBMRegressor(boosting_type='gbdt', class_weight=None, colsample_bytree=1.0,\n",
       "       learning_rate=0.1, max_depth=-1, min_child_samples=20,\n",
       "       min_child_weight=0.001, min_split_gain=0.0, n_estimators=100,\n",
       "       n_jobs=-1, num_leaves=31, objective=None, random_state=None,\n",
       "       reg_alpha=0.0, reg_lambda=0.0, silent=True, subsample=1.0,\n",
       "       subsample_for_bin=200000, subsample_freq=0)"
      ]
     },
     "execution_count": 171,
     "metadata": {},
     "output_type": "execute_result"
    }
   ],
   "source": [
    "m = lgb.LGBMRegressor()\n",
    "%time m.fit(df, y)"
   ]
  },
  {
   "cell_type": "code",
   "execution_count": 97,
   "metadata": {},
   "outputs": [],
   "source": [
    "y_pred = m.predict(test)\n",
    "y_pred = np.exp(y_pred)"
   ]
  },
  {
   "cell_type": "markdown",
   "metadata": {},
   "source": [
    "#### Cross Val Score"
   ]
  },
  {
   "cell_type": "code",
   "execution_count": 139,
   "metadata": {},
   "outputs": [],
   "source": [
    "model_params = {'n_estimators':200, \n",
    "                'min_samples_leaf':1, \n",
    "                'max_features':0.4\n",
    "               }"
   ]
  },
  {
   "cell_type": "code",
   "execution_count": 140,
   "metadata": {},
   "outputs": [],
   "source": [
    "m = RandomForestRegressor(n_jobs=-1, **model_params)"
   ]
  },
  {
   "cell_type": "code",
   "execution_count": 159,
   "metadata": {},
   "outputs": [],
   "source": [
    "lgb_params = {'n_estimators':100, 'learning_rate':0.1}"
   ]
  },
  {
   "cell_type": "code",
   "execution_count": 160,
   "metadata": {},
   "outputs": [],
   "source": [
    "m = lgb.LGBMRegressor(**lgb_params)"
   ]
  },
  {
   "cell_type": "code",
   "execution_count": 161,
   "metadata": {},
   "outputs": [],
   "source": [
    "scoring = {'log_rmse': metrics.make_scorer(rmse)}"
   ]
  },
  {
   "cell_type": "code",
   "execution_count": 162,
   "metadata": {},
   "outputs": [],
   "source": [
    "scores = sklearn.model_selection.cross_validate(\n",
    "    m, df_keep, y, cv=N_SPLITS, scoring=scoring,\n",
    "    return_train_score=True, return_estimator=True)"
   ]
  },
  {
   "cell_type": "code",
   "execution_count": 163,
   "metadata": {},
   "outputs": [
    {
     "data": {
      "text/plain": [
       "(0.04499312440545286, 0.002985537488014597)"
      ]
     },
     "execution_count": 163,
     "metadata": {},
     "output_type": "execute_result"
    }
   ],
   "source": [
    "scores['train_log_rmse'].mean(), scores['train_log_rmse'].std()*2"
   ]
  },
  {
   "cell_type": "code",
   "execution_count": 164,
   "metadata": {
    "scrolled": true
   },
   "outputs": [
    {
     "data": {
      "text/plain": [
       "'mean_rmse: 0.12971583412509696, std*2: 0.037700067691447216'"
      ]
     },
     "execution_count": 164,
     "metadata": {},
     "output_type": "execute_result"
    }
   ],
   "source": [
    "f\"mean_rmse: {scores['test_log_rmse'].mean()}, std*2: {scores['test_log_rmse'].std()*2}\""
   ]
  },
  {
   "cell_type": "code",
   "execution_count": 165,
   "metadata": {},
   "outputs": [
    {
     "data": {
      "text/plain": [
       "array([0.12646, 0.10636, 0.12498, 0.16165, 0.15796, 0.1096 , 0.13362, 0.10472, 0.13165, 0.14016])"
      ]
     },
     "execution_count": 165,
     "metadata": {},
     "output_type": "execute_result"
    }
   ],
   "source": [
    "scores['test_log_rmse']"
   ]
  },
  {
   "cell_type": "code",
   "execution_count": 166,
   "metadata": {
    "collapsed": true
   },
   "outputs": [
    {
     "ename": "ValueError",
     "evalue": "Number of features of the model must match the input. Model n_features_ is 74 and input n_features is 71 ",
     "output_type": "error",
     "traceback": [
      "\u001b[0;31m---------------------------------------------------------------------------\u001b[0m",
      "\u001b[0;31mValueError\u001b[0m                                Traceback (most recent call last)",
      "\u001b[0;32m<ipython-input-166-403fec6e4723>\u001b[0m in \u001b[0;36m<module>\u001b[0;34m()\u001b[0m\n\u001b[1;32m      1\u001b[0m \u001b[0my_pred\u001b[0m \u001b[0;34m=\u001b[0m \u001b[0mnp\u001b[0m\u001b[0;34m.\u001b[0m\u001b[0mzeros\u001b[0m\u001b[0;34m(\u001b[0m\u001b[0mlen\u001b[0m\u001b[0;34m(\u001b[0m\u001b[0mtest\u001b[0m\u001b[0;34m)\u001b[0m\u001b[0;34m)\u001b[0m\u001b[0;34m\u001b[0m\u001b[0m\n\u001b[1;32m      2\u001b[0m \u001b[0;32mfor\u001b[0m \u001b[0mest\u001b[0m \u001b[0;32min\u001b[0m \u001b[0mscores\u001b[0m\u001b[0;34m[\u001b[0m\u001b[0;34m'estimator'\u001b[0m\u001b[0;34m]\u001b[0m\u001b[0;34m:\u001b[0m\u001b[0;34m\u001b[0m\u001b[0m\n\u001b[0;32m----> 3\u001b[0;31m     \u001b[0my_pred\u001b[0m \u001b[0;34m+=\u001b[0m \u001b[0mest\u001b[0m\u001b[0;34m.\u001b[0m\u001b[0mpredict\u001b[0m\u001b[0;34m(\u001b[0m\u001b[0mtest\u001b[0m\u001b[0;34m[\u001b[0m\u001b[0mkeep_cols\u001b[0m\u001b[0;34m]\u001b[0m\u001b[0;34m)\u001b[0m \u001b[0;34m/\u001b[0m \u001b[0mN_SPLITS\u001b[0m\u001b[0;34m\u001b[0m\u001b[0m\n\u001b[0m",
      "\u001b[0;32m~/.virtualenvs/kaggle_env/lib/python3.6/site-packages/lightgbm/sklearn.py\u001b[0m in \u001b[0;36mpredict\u001b[0;34m(self, X, raw_score, num_iteration, pred_leaf, pred_contrib, **kwargs)\u001b[0m\n\u001b[1;32m    524\u001b[0m                              \u001b[0;34m\"match the input. Model n_features_ is %s and \"\u001b[0m\u001b[0;34m\u001b[0m\u001b[0m\n\u001b[1;32m    525\u001b[0m                              \u001b[0;34m\"input n_features is %s \"\u001b[0m\u001b[0;34m\u001b[0m\u001b[0m\n\u001b[0;32m--> 526\u001b[0;31m                              % (self._n_features, n_features))\n\u001b[0m\u001b[1;32m    527\u001b[0m         return self.booster_.predict(X, raw_score=raw_score, num_iteration=num_iteration,\n\u001b[1;32m    528\u001b[0m                                      pred_leaf=pred_leaf, pred_contrib=pred_contrib, **kwargs)\n",
      "\u001b[0;31mValueError\u001b[0m: Number of features of the model must match the input. Model n_features_ is 74 and input n_features is 71 "
     ]
    }
   ],
   "source": [
    "y_pred = np.zeros(len(test))\n",
    "for est in scores['estimator']:\n",
    "    y_pred += est.predict(test[keep_cols]) / N_SPLITS"
   ]
  },
  {
   "cell_type": "code",
   "execution_count": 83,
   "metadata": {},
   "outputs": [],
   "source": [
    "y_pred = np.exp(y_pred)"
   ]
  },
  {
   "cell_type": "markdown",
   "metadata": {},
   "source": [
    "### EDA"
   ]
  },
  {
   "cell_type": "markdown",
   "metadata": {},
   "source": [
    "#### Feature importance"
   ]
  },
  {
   "cell_type": "code",
   "execution_count": 29,
   "metadata": {},
   "outputs": [],
   "source": [
    "??rf_feat_importance"
   ]
  },
  {
   "cell_type": "code",
   "execution_count": 157,
   "metadata": {},
   "outputs": [
    {
     "data": {
      "text/html": [
       "<div>\n",
       "<style scoped>\n",
       "    .dataframe tbody tr th:only-of-type {\n",
       "        vertical-align: middle;\n",
       "    }\n",
       "\n",
       "    .dataframe tbody tr th {\n",
       "        vertical-align: top;\n",
       "    }\n",
       "\n",
       "    .dataframe thead th {\n",
       "        text-align: right;\n",
       "    }\n",
       "</style>\n",
       "<table border=\"1\" class=\"dataframe\">\n",
       "  <thead>\n",
       "    <tr style=\"text-align: right;\">\n",
       "      <th></th>\n",
       "      <th>cols</th>\n",
       "      <th>imp</th>\n",
       "    </tr>\n",
       "  </thead>\n",
       "  <tbody>\n",
       "    <tr>\n",
       "      <th>0</th>\n",
       "      <td>OverallQual</td>\n",
       "      <td>0.268855</td>\n",
       "    </tr>\n",
       "    <tr>\n",
       "      <th>1</th>\n",
       "      <td>GrLivArea</td>\n",
       "      <td>0.156813</td>\n",
       "    </tr>\n",
       "    <tr>\n",
       "      <th>2</th>\n",
       "      <td>ExterQual</td>\n",
       "      <td>0.068179</td>\n",
       "    </tr>\n",
       "    <tr>\n",
       "      <th>3</th>\n",
       "      <td>KitchenQual</td>\n",
       "      <td>0.059211</td>\n",
       "    </tr>\n",
       "    <tr>\n",
       "      <th>4</th>\n",
       "      <td>GarageCars</td>\n",
       "      <td>0.055987</td>\n",
       "    </tr>\n",
       "    <tr>\n",
       "      <th>6</th>\n",
       "      <td>TotalBsmtSF</td>\n",
       "      <td>0.046173</td>\n",
       "    </tr>\n",
       "    <tr>\n",
       "      <th>7</th>\n",
       "      <td>1stFlrSF</td>\n",
       "      <td>0.044511</td>\n",
       "    </tr>\n",
       "    <tr>\n",
       "      <th>8</th>\n",
       "      <td>FullBath</td>\n",
       "      <td>0.037918</td>\n",
       "    </tr>\n",
       "    <tr>\n",
       "      <th>5</th>\n",
       "      <td>YearBuilt</td>\n",
       "      <td>0.023246</td>\n",
       "    </tr>\n",
       "    <tr>\n",
       "      <th>9</th>\n",
       "      <td>LotArea</td>\n",
       "      <td>0.020704</td>\n",
       "    </tr>\n",
       "    <tr>\n",
       "      <th>10</th>\n",
       "      <td>BsmtFinSF1</td>\n",
       "      <td>0.016715</td>\n",
       "    </tr>\n",
       "    <tr>\n",
       "      <th>71</th>\n",
       "      <td>age</td>\n",
       "      <td>0.015719</td>\n",
       "    </tr>\n",
       "    <tr>\n",
       "      <th>15</th>\n",
       "      <td>CentralAir</td>\n",
       "      <td>0.012503</td>\n",
       "    </tr>\n",
       "    <tr>\n",
       "      <th>14</th>\n",
       "      <td>2ndFlrSF</td>\n",
       "      <td>0.011462</td>\n",
       "    </tr>\n",
       "    <tr>\n",
       "      <th>11</th>\n",
       "      <td>OverallCond</td>\n",
       "      <td>0.010638</td>\n",
       "    </tr>\n",
       "    <tr>\n",
       "      <th>13</th>\n",
       "      <td>YearRemodAdd</td>\n",
       "      <td>0.009335</td>\n",
       "    </tr>\n",
       "    <tr>\n",
       "      <th>16</th>\n",
       "      <td>LotFrontage</td>\n",
       "      <td>0.008904</td>\n",
       "    </tr>\n",
       "    <tr>\n",
       "      <th>72</th>\n",
       "      <td>remod_age</td>\n",
       "      <td>0.008030</td>\n",
       "    </tr>\n",
       "    <tr>\n",
       "      <th>12</th>\n",
       "      <td>Fireplaces</td>\n",
       "      <td>0.007478</td>\n",
       "    </tr>\n",
       "    <tr>\n",
       "      <th>17</th>\n",
       "      <td>MSZoning</td>\n",
       "      <td>0.006554</td>\n",
       "    </tr>\n",
       "  </tbody>\n",
       "</table>\n",
       "</div>"
      ],
      "text/plain": [
       "            cols       imp\n",
       "0    OverallQual  0.268855\n",
       "1      GrLivArea  0.156813\n",
       "2      ExterQual  0.068179\n",
       "3    KitchenQual  0.059211\n",
       "4     GarageCars  0.055987\n",
       "6    TotalBsmtSF  0.046173\n",
       "7       1stFlrSF  0.044511\n",
       "8       FullBath  0.037918\n",
       "5      YearBuilt  0.023246\n",
       "9        LotArea  0.020704\n",
       "10    BsmtFinSF1  0.016715\n",
       "71           age  0.015719\n",
       "15    CentralAir  0.012503\n",
       "14      2ndFlrSF  0.011462\n",
       "11   OverallCond  0.010638\n",
       "13  YearRemodAdd  0.009335\n",
       "16   LotFrontage  0.008904\n",
       "72     remod_age  0.008030\n",
       "12    Fireplaces  0.007478\n",
       "17      MSZoning  0.006554"
      ]
     },
     "execution_count": 157,
     "metadata": {},
     "output_type": "execute_result"
    }
   ],
   "source": [
    "fi = rf_feat_importance(m, X_train); fi[:20]"
   ]
  },
  {
   "cell_type": "code",
   "execution_count": 152,
   "metadata": {},
   "outputs": [
    {
     "data": {
      "image/png": "[encoded data removed]",
      "text/plain": [
       "<Figure size 720x432 with 1 Axes>"
      ]
     },
     "metadata": {},
     "output_type": "display_data"
    }
   ],
   "source": [
    "fi.plot('cols', 'imp', figsize=(10,6), legend=False);"
   ]
  },
  {
   "cell_type": "code",
   "execution_count": 153,
   "metadata": {},
   "outputs": [],
   "source": [
    "def plot_fi(fi): return fi.plot('cols', 'imp', 'barh', figsize=(12,7), legend=False)"
   ]
  },
  {
   "cell_type": "code",
   "execution_count": 158,
   "metadata": {
    "scrolled": false,
    "slideshow": {
     "slide_type": "slide"
    }
   },
   "outputs": [
    {
     "data": {
      "image/png": "[encoded data removed]",
      "text/plain": [
       "<Figure size 864x504 with 1 Axes>"
      ]
     },
     "metadata": {},
     "output_type": "display_data"
    }
   ],
   "source": [
    "plot_fi(fi[:30]);"
   ]
  },
  {
   "cell_type": "code",
   "execution_count": 44,
   "metadata": {},
   "outputs": [
    {
     "data": {
      "text/plain": [
       "count    82.000000\n",
       "mean      0.012195\n",
       "std       0.034592\n",
       "min       0.000000\n",
       "25%       0.000759\n",
       "50%       0.001629\n",
       "75%       0.006243\n",
       "max       0.257231\n",
       "dtype: float64"
      ]
     },
     "execution_count": 44,
     "metadata": {},
     "output_type": "execute_result"
    }
   ],
   "source": [
    "pd.Series(m.feature_importances_).describe()"
   ]
  },
  {
   "cell_type": "code",
   "execution_count": 45,
   "metadata": {},
   "outputs": [
    {
     "data": {
      "text/plain": [
       "76"
      ]
     },
     "execution_count": 45,
     "metadata": {},
     "output_type": "execute_result"
    }
   ],
   "source": [
    "to_keep = fi[fi.imp>0.0001].cols; len(to_keep)"
   ]
  },
  {
   "cell_type": "code",
   "execution_count": 46,
   "metadata": {},
   "outputs": [],
   "source": [
    "df_keep = df[to_keep].copy()"
   ]
  },
  {
   "cell_type": "code",
   "execution_count": 47,
   "metadata": {},
   "outputs": [],
   "source": [
    "X_train = df_keep.loc[tr_index].copy()\n",
    "X_valid = df_keep.loc[val_index].copy()"
   ]
  },
  {
   "cell_type": "markdown",
   "metadata": {},
   "source": [
    "#### Confidence based on tree variance"
   ]
  },
  {
   "cell_type": "code",
   "execution_count": 39,
   "metadata": {},
   "outputs": [
    {
     "name": "stdout",
     "output_type": "stream",
     "text": [
      "CPU times: user 138 ms, sys: 103 ms, total: 242 ms\n",
      "Wall time: 499 ms\n"
     ]
    },
    {
     "data": {
      "text/plain": [
       "(12.03986466130133, 0.19617817061251164)"
      ]
     },
     "execution_count": 39,
     "metadata": {},
     "output_type": "execute_result"
    }
   ],
   "source": [
    "def get_preds(t): return t.predict(X_valid)\n",
    "%time preds = np.stack(parallel_trees(m, get_preds))\n",
    "np.mean(preds[:,0]), np.std(preds[:,0])"
   ]
  },
  {
   "cell_type": "code",
   "execution_count": 40,
   "metadata": {},
   "outputs": [],
   "source": [
    "x = raw_valid.copy()\n",
    "x['pred_std'] = np.std(preds, axis=0)\n",
    "x['pred'] = np.mean(preds, axis=0)"
   ]
  },
  {
   "cell_type": "code",
   "execution_count": 43,
   "metadata": {},
   "outputs": [],
   "source": [
    "categor_columns = [name for name in x.columns if (x[name].dtype.name == 'category' and \n",
    "                                                  len(x[name].cat.categories) < 10)]"
   ]
  },
  {
   "cell_type": "code",
   "execution_count": 44,
   "metadata": {
    "collapsed": true
   },
   "outputs": [
    {
     "data": {
      "text/plain": [
       "['MSZoning',\n",
       " 'Street',\n",
       " 'Alley',\n",
       " 'LotShape',\n",
       " 'LandContour',\n",
       " 'Utilities',\n",
       " 'LotConfig',\n",
       " 'LandSlope',\n",
       " 'Condition1',\n",
       " 'Condition2',\n",
       " 'BldgType',\n",
       " 'HouseStyle',\n",
       " 'RoofStyle',\n",
       " 'RoofMatl',\n",
       " 'MasVnrType',\n",
       " 'ExterQual',\n",
       " 'ExterCond',\n",
       " 'Foundation',\n",
       " 'BsmtQual',\n",
       " 'BsmtCond',\n",
       " 'BsmtExposure',\n",
       " 'BsmtFinType1',\n",
       " 'BsmtFinType2',\n",
       " 'Heating',\n",
       " 'HeatingQC',\n",
       " 'CentralAir',\n",
       " 'Electrical',\n",
       " 'KitchenQual',\n",
       " 'Functional',\n",
       " 'FireplaceQu',\n",
       " 'GarageType',\n",
       " 'GarageFinish',\n",
       " 'GarageQual',\n",
       " 'GarageCond',\n",
       " 'PavedDrive',\n",
       " 'PoolQC',\n",
       " 'Fence',\n",
       " 'MiscFeature',\n",
       " 'SaleType',\n",
       " 'SaleCondition']"
      ]
     },
     "execution_count": 44,
     "metadata": {},
     "output_type": "execute_result"
    }
   ],
   "source": [
    "categor_columns"
   ]
  },
  {
   "cell_type": "code",
   "execution_count": 45,
   "metadata": {},
   "outputs": [],
   "source": [
    "categor_columns_hi = [name for name in x.columns if (x[name].dtype.name == 'category' and \n",
    "                                                  len(x[name].cat.categories) >= 10)]"
   ]
  },
  {
   "cell_type": "code",
   "execution_count": 46,
   "metadata": {},
   "outputs": [
    {
     "data": {
      "text/plain": [
       "['Neighborhood', 'Exterior1st', 'Exterior2nd']"
      ]
     },
     "execution_count": 46,
     "metadata": {},
     "output_type": "execute_result"
    }
   ],
   "source": [
    "categor_columns_hi"
   ]
  },
  {
   "cell_type": "code",
   "execution_count": 47,
   "metadata": {},
   "outputs": [
    {
     "data": {
      "text/html": [
       "<div>\n",
       "<style scoped>\n",
       "    .dataframe tbody tr th:only-of-type {\n",
       "        vertical-align: middle;\n",
       "    }\n",
       "\n",
       "    .dataframe tbody tr th {\n",
       "        vertical-align: top;\n",
       "    }\n",
       "\n",
       "    .dataframe thead th {\n",
       "        text-align: right;\n",
       "    }\n",
       "</style>\n",
       "<table border=\"1\" class=\"dataframe\">\n",
       "  <thead>\n",
       "    <tr style=\"text-align: right;\">\n",
       "      <th></th>\n",
       "      <th>cols</th>\n",
       "      <th>imp</th>\n",
       "    </tr>\n",
       "  </thead>\n",
       "  <tbody>\n",
       "    <tr>\n",
       "      <th>16</th>\n",
       "      <td>OverallQual</td>\n",
       "      <td>0.201918</td>\n",
       "    </tr>\n",
       "    <tr>\n",
       "      <th>45</th>\n",
       "      <td>GrLivArea</td>\n",
       "      <td>0.135766</td>\n",
       "    </tr>\n",
       "    <tr>\n",
       "      <th>18</th>\n",
       "      <td>YearBuilt</td>\n",
       "      <td>0.079673</td>\n",
       "    </tr>\n",
       "    <tr>\n",
       "      <th>37</th>\n",
       "      <td>TotalBsmtSF</td>\n",
       "      <td>0.069356</td>\n",
       "    </tr>\n",
       "    <tr>\n",
       "      <th>26</th>\n",
       "      <td>ExterQual</td>\n",
       "      <td>0.064193</td>\n",
       "    </tr>\n",
       "    <tr>\n",
       "      <th>42</th>\n",
       "      <td>1stFlrSF</td>\n",
       "      <td>0.044954</td>\n",
       "    </tr>\n",
       "    <tr>\n",
       "      <th>60</th>\n",
       "      <td>GarageCars</td>\n",
       "      <td>0.038384</td>\n",
       "    </tr>\n",
       "    <tr>\n",
       "      <th>61</th>\n",
       "      <td>GarageArea</td>\n",
       "      <td>0.034924</td>\n",
       "    </tr>\n",
       "    <tr>\n",
       "      <th>58</th>\n",
       "      <td>GarageYrBlt</td>\n",
       "      <td>0.034202</td>\n",
       "    </tr>\n",
       "    <tr>\n",
       "      <th>48</th>\n",
       "      <td>FullBath</td>\n",
       "      <td>0.029217</td>\n",
       "    </tr>\n",
       "  </tbody>\n",
       "</table>\n",
       "</div>"
      ],
      "text/plain": [
       "           cols       imp\n",
       "16  OverallQual  0.201918\n",
       "45    GrLivArea  0.135766\n",
       "18    YearBuilt  0.079673\n",
       "37  TotalBsmtSF  0.069356\n",
       "26    ExterQual  0.064193\n",
       "42     1stFlrSF  0.044954\n",
       "60   GarageCars  0.038384\n",
       "61   GarageArea  0.034924\n",
       "58  GarageYrBlt  0.034202\n",
       "48     FullBath  0.029217"
      ]
     },
     "execution_count": 47,
     "metadata": {},
     "output_type": "execute_result"
    }
   ],
   "source": [
    "fi[:10]"
   ]
  },
  {
   "cell_type": "code",
   "execution_count": 67,
   "metadata": {},
   "outputs": [
    {
     "data": {
      "image/png": "[encoded data removed]",
      "text/plain": [
       "<Figure size 432x288 with 1 Axes>"
      ]
     },
     "metadata": {},
     "output_type": "display_data"
    }
   ],
   "source": [
    "x.OverallQual.value_counts().plot.barh();"
   ]
  },
  {
   "cell_type": "code",
   "execution_count": 68,
   "metadata": {},
   "outputs": [
    {
     "data": {
      "text/html": [
       "<div>\n",
       "<style scoped>\n",
       "    .dataframe tbody tr th:only-of-type {\n",
       "        vertical-align: middle;\n",
       "    }\n",
       "\n",
       "    .dataframe tbody tr th {\n",
       "        vertical-align: top;\n",
       "    }\n",
       "\n",
       "    .dataframe thead th {\n",
       "        text-align: right;\n",
       "    }\n",
       "</style>\n",
       "<table border=\"1\" class=\"dataframe\">\n",
       "  <thead>\n",
       "    <tr style=\"text-align: right;\">\n",
       "      <th></th>\n",
       "      <th>OverallQual</th>\n",
       "      <th>SalePrice</th>\n",
       "      <th>pred</th>\n",
       "      <th>pred_std</th>\n",
       "    </tr>\n",
       "  </thead>\n",
       "  <tbody>\n",
       "    <tr>\n",
       "      <th>0</th>\n",
       "      <td>3</td>\n",
       "      <td>11.180053</td>\n",
       "      <td>11.506454</td>\n",
       "      <td>0.233374</td>\n",
       "    </tr>\n",
       "    <tr>\n",
       "      <th>1</th>\n",
       "      <td>4</td>\n",
       "      <td>11.484532</td>\n",
       "      <td>11.605692</td>\n",
       "      <td>0.198942</td>\n",
       "    </tr>\n",
       "    <tr>\n",
       "      <th>2</th>\n",
       "      <td>5</td>\n",
       "      <td>11.784952</td>\n",
       "      <td>11.768740</td>\n",
       "      <td>0.167650</td>\n",
       "    </tr>\n",
       "    <tr>\n",
       "      <th>3</th>\n",
       "      <td>6</td>\n",
       "      <td>11.954832</td>\n",
       "      <td>11.960899</td>\n",
       "      <td>0.145981</td>\n",
       "    </tr>\n",
       "    <tr>\n",
       "      <th>4</th>\n",
       "      <td>7</td>\n",
       "      <td>12.190110</td>\n",
       "      <td>12.203419</td>\n",
       "      <td>0.137223</td>\n",
       "    </tr>\n",
       "    <tr>\n",
       "      <th>5</th>\n",
       "      <td>8</td>\n",
       "      <td>12.539086</td>\n",
       "      <td>12.480509</td>\n",
       "      <td>0.153010</td>\n",
       "    </tr>\n",
       "    <tr>\n",
       "      <th>6</th>\n",
       "      <td>9</td>\n",
       "      <td>12.773620</td>\n",
       "      <td>12.713903</td>\n",
       "      <td>0.164044</td>\n",
       "    </tr>\n",
       "  </tbody>\n",
       "</table>\n",
       "</div>"
      ],
      "text/plain": [
       "   OverallQual  SalePrice       pred  pred_std\n",
       "0            3  11.180053  11.506454  0.233374\n",
       "1            4  11.484532  11.605692  0.198942\n",
       "2            5  11.784952  11.768740  0.167650\n",
       "3            6  11.954832  11.960899  0.145981\n",
       "4            7  12.190110  12.203419  0.137223\n",
       "5            8  12.539086  12.480509  0.153010\n",
       "6            9  12.773620  12.713903  0.164044"
      ]
     },
     "execution_count": 68,
     "metadata": {},
     "output_type": "execute_result"
    }
   ],
   "source": [
    "flds = ['OverallQual', 'SalePrice', 'pred', 'pred_std']\n",
    "oq_summ = x[flds].groupby('OverallQual', as_index=False).mean()\n",
    "oq_summ"
   ]
  },
  {
   "cell_type": "code",
   "execution_count": 69,
   "metadata": {},
   "outputs": [
    {
     "data": {
      "image/png": "[encoded data removed]",
      "text/plain": [
       "<Figure size 432x288 with 1 Axes>"
      ]
     },
     "metadata": {},
     "output_type": "display_data"
    }
   ],
   "source": [
    "oq_summ = oq_summ[~pd.isnull(oq_summ.SalePrice)]\n",
    "oq_summ.plot('OverallQual', 'pred', 'barh', xerr='pred_std', alpha=0.6, xlim=(0,13));"
   ]
  },
  {
   "cell_type": "code",
   "execution_count": 70,
   "metadata": {},
   "outputs": [
    {
     "data": {
      "text/plain": [
       "0    0.020282\n",
       "1    0.017142\n",
       "2    0.014245\n",
       "6    0.012903\n",
       "5    0.012260\n",
       "3    0.012205\n",
       "4    0.011245\n",
       "dtype: float64"
      ]
     },
     "execution_count": 70,
     "metadata": {},
     "output_type": "execute_result"
    }
   ],
   "source": [
    "(oq_summ.pred_std/oq_summ.pred).sort_values(ascending=False)"
   ]
  },
  {
   "cell_type": "markdown",
   "metadata": {},
   "source": [
    "*Probably should combine rare categories somehow*"
   ]
  },
  {
   "cell_type": "code",
   "execution_count": 62,
   "metadata": {},
   "outputs": [],
   "source": [
    "import scipy.stats"
   ]
  },
  {
   "cell_type": "code",
   "execution_count": 50,
   "metadata": {},
   "outputs": [
    {
     "data": {
      "image/png": "[encoded data removed]",
      "text/plain": [
       "<Figure size 432x288 with 1 Axes>"
      ]
     },
     "metadata": {},
     "output_type": "display_data"
    }
   ],
   "source": [
    "scipy.stats.probplot(x.LotArea, dist=\"norm\", plot=plt)\n",
    "plt.show()"
   ]
  },
  {
   "cell_type": "code",
   "execution_count": 55,
   "metadata": {},
   "outputs": [
    {
     "data": {
      "image/png": "[encoded data removed]",
      "text/plain": [
       "<Figure size 432x288 with 1 Axes>"
      ]
     },
     "metadata": {},
     "output_type": "display_data"
    }
   ],
   "source": [
    "scipy.stats.probplot(np.log(x.LotArea), dist=\"norm\", plot=plt)\n",
    "plt.show()"
   ]
  },
  {
   "cell_type": "code",
   "execution_count": 50,
   "metadata": {},
   "outputs": [
    {
     "data": {
      "text/plain": [
       "count       482.000000\n",
       "mean      10630.717842\n",
       "std       10361.297436\n",
       "min        1491.000000\n",
       "25%        7540.750000\n",
       "50%        9200.000000\n",
       "75%       11378.750000\n",
       "max      164660.000000\n",
       "Name: LotArea, dtype: float64"
      ]
     },
     "execution_count": 50,
     "metadata": {},
     "output_type": "execute_result"
    }
   ],
   "source": [
    "x.LotArea.describe()"
   ]
  },
  {
   "cell_type": "code",
   "execution_count": 82,
   "metadata": {},
   "outputs": [
    {
     "data": {
      "text/plain": [
       "0.004149377593360996"
      ]
     },
     "execution_count": 82,
     "metadata": {},
     "output_type": "execute_result"
    }
   ],
   "source": [
    "(x.LotArea > 100000).mean()"
   ]
  },
  {
   "cell_type": "code",
   "execution_count": 53,
   "metadata": {
    "collapsed": true
   },
   "outputs": [
    {
     "data": {
      "text/html": [
       "<div>\n",
       "<style scoped>\n",
       "    .dataframe tbody tr th:only-of-type {\n",
       "        vertical-align: middle;\n",
       "    }\n",
       "\n",
       "    .dataframe tbody tr th {\n",
       "        vertical-align: top;\n",
       "    }\n",
       "\n",
       "    .dataframe thead th {\n",
       "        text-align: right;\n",
       "    }\n",
       "</style>\n",
       "<table border=\"1\" class=\"dataframe\">\n",
       "  <thead>\n",
       "    <tr style=\"text-align: right;\">\n",
       "      <th></th>\n",
       "      <th>LotArea</th>\n",
       "      <th>SalePrice</th>\n",
       "      <th>pred</th>\n",
       "      <th>pred_std</th>\n",
       "    </tr>\n",
       "  </thead>\n",
       "  <tbody>\n",
       "    <tr>\n",
       "      <th>0</th>\n",
       "      <td>1491</td>\n",
       "      <td>11.231888</td>\n",
       "      <td>11.336722</td>\n",
       "      <td>0.186558</td>\n",
       "    </tr>\n",
       "    <tr>\n",
       "      <th>1</th>\n",
       "      <td>1680</td>\n",
       "      <td>11.429175</td>\n",
       "      <td>11.469250</td>\n",
       "      <td>0.172593</td>\n",
       "    </tr>\n",
       "    <tr>\n",
       "      <th>2</th>\n",
       "      <td>1950</td>\n",
       "      <td>11.925035</td>\n",
       "      <td>11.943916</td>\n",
       "      <td>0.138756</td>\n",
       "    </tr>\n",
       "    <tr>\n",
       "      <th>3</th>\n",
       "      <td>2001</td>\n",
       "      <td>11.225243</td>\n",
       "      <td>11.351645</td>\n",
       "      <td>0.208943</td>\n",
       "    </tr>\n",
       "    <tr>\n",
       "      <th>4</th>\n",
       "      <td>2117</td>\n",
       "      <td>12.060708</td>\n",
       "      <td>12.058722</td>\n",
       "      <td>0.089292</td>\n",
       "    </tr>\n",
       "    <tr>\n",
       "      <th>5</th>\n",
       "      <td>2289</td>\n",
       "      <td>11.908340</td>\n",
       "      <td>11.891289</td>\n",
       "      <td>0.101765</td>\n",
       "    </tr>\n",
       "    <tr>\n",
       "      <th>6</th>\n",
       "      <td>2368</td>\n",
       "      <td>11.736069</td>\n",
       "      <td>11.738852</td>\n",
       "      <td>0.137396</td>\n",
       "    </tr>\n",
       "    <tr>\n",
       "      <th>7</th>\n",
       "      <td>2448</td>\n",
       "      <td>11.944708</td>\n",
       "      <td>12.076300</td>\n",
       "      <td>0.069893</td>\n",
       "    </tr>\n",
       "    <tr>\n",
       "      <th>8</th>\n",
       "      <td>2572</td>\n",
       "      <td>11.951180</td>\n",
       "      <td>12.027322</td>\n",
       "      <td>0.088773</td>\n",
       "    </tr>\n",
       "    <tr>\n",
       "      <th>9</th>\n",
       "      <td>2645</td>\n",
       "      <td>12.066811</td>\n",
       "      <td>12.063735</td>\n",
       "      <td>0.147001</td>\n",
       "    </tr>\n",
       "    <tr>\n",
       "      <th>10</th>\n",
       "      <td>2887</td>\n",
       "      <td>12.061047</td>\n",
       "      <td>12.057343</td>\n",
       "      <td>0.167047</td>\n",
       "    </tr>\n",
       "    <tr>\n",
       "      <th>11</th>\n",
       "      <td>3010</td>\n",
       "      <td>12.027185</td>\n",
       "      <td>12.097871</td>\n",
       "      <td>0.102444</td>\n",
       "    </tr>\n",
       "    <tr>\n",
       "      <th>12</th>\n",
       "      <td>3013</td>\n",
       "      <td>12.271345</td>\n",
       "      <td>12.162969</td>\n",
       "      <td>0.102973</td>\n",
       "    </tr>\n",
       "    <tr>\n",
       "      <th>13</th>\n",
       "      <td>3072</td>\n",
       "      <td>12.093688</td>\n",
       "      <td>12.127393</td>\n",
       "      <td>0.134453</td>\n",
       "    </tr>\n",
       "    <tr>\n",
       "      <th>14</th>\n",
       "      <td>3182</td>\n",
       "      <td>12.022445</td>\n",
       "      <td>12.056635</td>\n",
       "      <td>0.084661</td>\n",
       "    </tr>\n",
       "    <tr>\n",
       "      <th>15</th>\n",
       "      <td>3378</td>\n",
       "      <td>11.813030</td>\n",
       "      <td>11.914098</td>\n",
       "      <td>0.120382</td>\n",
       "    </tr>\n",
       "    <tr>\n",
       "      <th>16</th>\n",
       "      <td>3500</td>\n",
       "      <td>11.608236</td>\n",
       "      <td>11.612445</td>\n",
       "      <td>0.175201</td>\n",
       "    </tr>\n",
       "    <tr>\n",
       "      <th>17</th>\n",
       "      <td>3600</td>\n",
       "      <td>11.648365</td>\n",
       "      <td>11.586096</td>\n",
       "      <td>0.301144</td>\n",
       "    </tr>\n",
       "    <tr>\n",
       "      <th>18</th>\n",
       "      <td>3675</td>\n",
       "      <td>11.866943</td>\n",
       "      <td>11.846103</td>\n",
       "      <td>0.163130</td>\n",
       "    </tr>\n",
       "    <tr>\n",
       "      <th>19</th>\n",
       "      <td>3842</td>\n",
       "      <td>12.524526</td>\n",
       "      <td>12.539014</td>\n",
       "      <td>0.266073</td>\n",
       "    </tr>\n",
       "    <tr>\n",
       "      <th>20</th>\n",
       "      <td>3880</td>\n",
       "      <td>11.612771</td>\n",
       "      <td>11.535406</td>\n",
       "      <td>0.214496</td>\n",
       "    </tr>\n",
       "    <tr>\n",
       "      <th>21</th>\n",
       "      <td>3950</td>\n",
       "      <td>11.652687</td>\n",
       "      <td>11.628765</td>\n",
       "      <td>0.309853</td>\n",
       "    </tr>\n",
       "    <tr>\n",
       "      <th>22</th>\n",
       "      <td>4045</td>\n",
       "      <td>12.415434</td>\n",
       "      <td>12.312799</td>\n",
       "      <td>0.201015</td>\n",
       "    </tr>\n",
       "    <tr>\n",
       "      <th>23</th>\n",
       "      <td>4060</td>\n",
       "      <td>12.106252</td>\n",
       "      <td>12.072463</td>\n",
       "      <td>0.119438</td>\n",
       "    </tr>\n",
       "    <tr>\n",
       "      <th>24</th>\n",
       "      <td>4130</td>\n",
       "      <td>10.858999</td>\n",
       "      <td>11.311164</td>\n",
       "      <td>0.167907</td>\n",
       "    </tr>\n",
       "    <tr>\n",
       "      <th>25</th>\n",
       "      <td>4224</td>\n",
       "      <td>11.774520</td>\n",
       "      <td>11.837398</td>\n",
       "      <td>0.099109</td>\n",
       "    </tr>\n",
       "    <tr>\n",
       "      <th>26</th>\n",
       "      <td>4388</td>\n",
       "      <td>11.373663</td>\n",
       "      <td>11.480902</td>\n",
       "      <td>0.243891</td>\n",
       "    </tr>\n",
       "    <tr>\n",
       "      <th>27</th>\n",
       "      <td>4400</td>\n",
       "      <td>11.661345</td>\n",
       "      <td>11.639326</td>\n",
       "      <td>0.205545</td>\n",
       "    </tr>\n",
       "    <tr>\n",
       "      <th>28</th>\n",
       "      <td>4426</td>\n",
       "      <td>11.892156</td>\n",
       "      <td>11.863437</td>\n",
       "      <td>0.056507</td>\n",
       "    </tr>\n",
       "    <tr>\n",
       "      <th>29</th>\n",
       "      <td>4435</td>\n",
       "      <td>11.832165</td>\n",
       "      <td>11.855347</td>\n",
       "      <td>0.066772</td>\n",
       "    </tr>\n",
       "    <tr>\n",
       "      <th>...</th>\n",
       "      <td>...</td>\n",
       "      <td>...</td>\n",
       "      <td>...</td>\n",
       "      <td>...</td>\n",
       "    </tr>\n",
       "    <tr>\n",
       "      <th>365</th>\n",
       "      <td>16259</td>\n",
       "      <td>12.744444</td>\n",
       "      <td>12.709729</td>\n",
       "      <td>0.223895</td>\n",
       "    </tr>\n",
       "    <tr>\n",
       "      <th>366</th>\n",
       "      <td>16285</td>\n",
       "      <td>12.139399</td>\n",
       "      <td>12.233438</td>\n",
       "      <td>0.124538</td>\n",
       "    </tr>\n",
       "    <tr>\n",
       "      <th>367</th>\n",
       "      <td>16466</td>\n",
       "      <td>11.816727</td>\n",
       "      <td>11.768785</td>\n",
       "      <td>0.176529</td>\n",
       "    </tr>\n",
       "    <tr>\n",
       "      <th>368</th>\n",
       "      <td>16647</td>\n",
       "      <td>12.049419</td>\n",
       "      <td>12.112695</td>\n",
       "      <td>0.173312</td>\n",
       "    </tr>\n",
       "    <tr>\n",
       "      <th>369</th>\n",
       "      <td>16770</td>\n",
       "      <td>12.305918</td>\n",
       "      <td>12.281632</td>\n",
       "      <td>0.171483</td>\n",
       "    </tr>\n",
       "    <tr>\n",
       "      <th>370</th>\n",
       "      <td>16905</td>\n",
       "      <td>12.043554</td>\n",
       "      <td>11.960332</td>\n",
       "      <td>0.238673</td>\n",
       "    </tr>\n",
       "    <tr>\n",
       "      <th>371</th>\n",
       "      <td>17120</td>\n",
       "      <td>11.808814</td>\n",
       "      <td>11.939057</td>\n",
       "      <td>0.265519</td>\n",
       "    </tr>\n",
       "    <tr>\n",
       "      <th>372</th>\n",
       "      <td>17755</td>\n",
       "      <td>11.917724</td>\n",
       "      <td>12.057128</td>\n",
       "      <td>0.165074</td>\n",
       "    </tr>\n",
       "    <tr>\n",
       "      <th>373</th>\n",
       "      <td>17871</td>\n",
       "      <td>12.195517</td>\n",
       "      <td>12.132686</td>\n",
       "      <td>0.139801</td>\n",
       "    </tr>\n",
       "    <tr>\n",
       "      <th>374</th>\n",
       "      <td>17920</td>\n",
       "      <td>12.043554</td>\n",
       "      <td>12.032000</td>\n",
       "      <td>0.249083</td>\n",
       "    </tr>\n",
       "    <tr>\n",
       "      <th>375</th>\n",
       "      <td>18030</td>\n",
       "      <td>12.208570</td>\n",
       "      <td>12.057429</td>\n",
       "      <td>0.229275</td>\n",
       "    </tr>\n",
       "    <tr>\n",
       "      <th>376</th>\n",
       "      <td>19296</td>\n",
       "      <td>12.078239</td>\n",
       "      <td>11.997333</td>\n",
       "      <td>0.218093</td>\n",
       "    </tr>\n",
       "    <tr>\n",
       "      <th>377</th>\n",
       "      <td>19690</td>\n",
       "      <td>12.524417</td>\n",
       "      <td>12.171102</td>\n",
       "      <td>0.299386</td>\n",
       "    </tr>\n",
       "    <tr>\n",
       "      <th>378</th>\n",
       "      <td>19900</td>\n",
       "      <td>12.100712</td>\n",
       "      <td>12.498808</td>\n",
       "      <td>0.228465</td>\n",
       "    </tr>\n",
       "    <tr>\n",
       "      <th>379</th>\n",
       "      <td>20431</td>\n",
       "      <td>12.988041</td>\n",
       "      <td>12.926165</td>\n",
       "      <td>0.208896</td>\n",
       "    </tr>\n",
       "    <tr>\n",
       "      <th>380</th>\n",
       "      <td>21384</td>\n",
       "      <td>12.317167</td>\n",
       "      <td>12.092660</td>\n",
       "      <td>0.257071</td>\n",
       "    </tr>\n",
       "    <tr>\n",
       "      <th>381</th>\n",
       "      <td>21750</td>\n",
       "      <td>11.652687</td>\n",
       "      <td>11.958275</td>\n",
       "      <td>0.243525</td>\n",
       "    </tr>\n",
       "    <tr>\n",
       "      <th>382</th>\n",
       "      <td>22950</td>\n",
       "      <td>13.071070</td>\n",
       "      <td>12.653885</td>\n",
       "      <td>0.275393</td>\n",
       "    </tr>\n",
       "    <tr>\n",
       "      <th>383</th>\n",
       "      <td>24090</td>\n",
       "      <td>12.406562</td>\n",
       "      <td>12.316294</td>\n",
       "      <td>0.251655</td>\n",
       "    </tr>\n",
       "    <tr>\n",
       "      <th>384</th>\n",
       "      <td>25286</td>\n",
       "      <td>11.792449</td>\n",
       "      <td>11.758725</td>\n",
       "      <td>0.148236</td>\n",
       "    </tr>\n",
       "    <tr>\n",
       "      <th>385</th>\n",
       "      <td>26178</td>\n",
       "      <td>12.721886</td>\n",
       "      <td>12.482345</td>\n",
       "      <td>0.172041</td>\n",
       "    </tr>\n",
       "    <tr>\n",
       "      <th>386</th>\n",
       "      <td>29959</td>\n",
       "      <td>12.421184</td>\n",
       "      <td>12.250168</td>\n",
       "      <td>0.126659</td>\n",
       "    </tr>\n",
       "    <tr>\n",
       "      <th>387</th>\n",
       "      <td>35760</td>\n",
       "      <td>13.345507</td>\n",
       "      <td>12.905203</td>\n",
       "      <td>0.329311</td>\n",
       "    </tr>\n",
       "    <tr>\n",
       "      <th>388</th>\n",
       "      <td>36500</td>\n",
       "      <td>12.154779</td>\n",
       "      <td>11.980434</td>\n",
       "      <td>0.271942</td>\n",
       "    </tr>\n",
       "    <tr>\n",
       "      <th>389</th>\n",
       "      <td>40094</td>\n",
       "      <td>12.126759</td>\n",
       "      <td>13.134897</td>\n",
       "      <td>0.404646</td>\n",
       "    </tr>\n",
       "    <tr>\n",
       "      <th>390</th>\n",
       "      <td>53504</td>\n",
       "      <td>13.195614</td>\n",
       "      <td>12.858346</td>\n",
       "      <td>0.184551</td>\n",
       "    </tr>\n",
       "    <tr>\n",
       "      <th>391</th>\n",
       "      <td>57200</td>\n",
       "      <td>11.982929</td>\n",
       "      <td>12.065285</td>\n",
       "      <td>0.235965</td>\n",
       "    </tr>\n",
       "    <tr>\n",
       "      <th>392</th>\n",
       "      <td>70761</td>\n",
       "      <td>12.542545</td>\n",
       "      <td>12.326001</td>\n",
       "      <td>0.226496</td>\n",
       "    </tr>\n",
       "    <tr>\n",
       "      <th>393</th>\n",
       "      <td>115149</td>\n",
       "      <td>12.618182</td>\n",
       "      <td>12.557597</td>\n",
       "      <td>0.160706</td>\n",
       "    </tr>\n",
       "    <tr>\n",
       "      <th>394</th>\n",
       "      <td>164660</td>\n",
       "      <td>12.341259</td>\n",
       "      <td>12.140126</td>\n",
       "      <td>0.203521</td>\n",
       "    </tr>\n",
       "  </tbody>\n",
       "</table>\n",
       "<p>395 rows × 4 columns</p>\n",
       "</div>"
      ],
      "text/plain": [
       "     LotArea  SalePrice       pred  pred_std\n",
       "0       1491  11.231888  11.336722  0.186558\n",
       "1       1680  11.429175  11.469250  0.172593\n",
       "2       1950  11.925035  11.943916  0.138756\n",
       "3       2001  11.225243  11.351645  0.208943\n",
       "4       2117  12.060708  12.058722  0.089292\n",
       "5       2289  11.908340  11.891289  0.101765\n",
       "6       2368  11.736069  11.738852  0.137396\n",
       "7       2448  11.944708  12.076300  0.069893\n",
       "8       2572  11.951180  12.027322  0.088773\n",
       "9       2645  12.066811  12.063735  0.147001\n",
       "10      2887  12.061047  12.057343  0.167047\n",
       "11      3010  12.027185  12.097871  0.102444\n",
       "12      3013  12.271345  12.162969  0.102973\n",
       "13      3072  12.093688  12.127393  0.134453\n",
       "14      3182  12.022445  12.056635  0.084661\n",
       "15      3378  11.813030  11.914098  0.120382\n",
       "16      3500  11.608236  11.612445  0.175201\n",
       "17      3600  11.648365  11.586096  0.301144\n",
       "18      3675  11.866943  11.846103  0.163130\n",
       "19      3842  12.524526  12.539014  0.266073\n",
       "20      3880  11.612771  11.535406  0.214496\n",
       "21      3950  11.652687  11.628765  0.309853\n",
       "22      4045  12.415434  12.312799  0.201015\n",
       "23      4060  12.106252  12.072463  0.119438\n",
       "24      4130  10.858999  11.311164  0.167907\n",
       "25      4224  11.774520  11.837398  0.099109\n",
       "26      4388  11.373663  11.480902  0.243891\n",
       "27      4400  11.661345  11.639326  0.205545\n",
       "28      4426  11.892156  11.863437  0.056507\n",
       "29      4435  11.832165  11.855347  0.066772\n",
       "..       ...        ...        ...       ...\n",
       "365    16259  12.744444  12.709729  0.223895\n",
       "366    16285  12.139399  12.233438  0.124538\n",
       "367    16466  11.816727  11.768785  0.176529\n",
       "368    16647  12.049419  12.112695  0.173312\n",
       "369    16770  12.305918  12.281632  0.171483\n",
       "370    16905  12.043554  11.960332  0.238673\n",
       "371    17120  11.808814  11.939057  0.265519\n",
       "372    17755  11.917724  12.057128  0.165074\n",
       "373    17871  12.195517  12.132686  0.139801\n",
       "374    17920  12.043554  12.032000  0.249083\n",
       "375    18030  12.208570  12.057429  0.229275\n",
       "376    19296  12.078239  11.997333  0.218093\n",
       "377    19690  12.524417  12.171102  0.299386\n",
       "378    19900  12.100712  12.498808  0.228465\n",
       "379    20431  12.988041  12.926165  0.208896\n",
       "380    21384  12.317167  12.092660  0.257071\n",
       "381    21750  11.652687  11.958275  0.243525\n",
       "382    22950  13.071070  12.653885  0.275393\n",
       "383    24090  12.406562  12.316294  0.251655\n",
       "384    25286  11.792449  11.758725  0.148236\n",
       "385    26178  12.721886  12.482345  0.172041\n",
       "386    29959  12.421184  12.250168  0.126659\n",
       "387    35760  13.345507  12.905203  0.329311\n",
       "388    36500  12.154779  11.980434  0.271942\n",
       "389    40094  12.126759  13.134897  0.404646\n",
       "390    53504  13.195614  12.858346  0.184551\n",
       "391    57200  11.982929  12.065285  0.235965\n",
       "392    70761  12.542545  12.326001  0.226496\n",
       "393   115149  12.618182  12.557597  0.160706\n",
       "394   164660  12.341259  12.140126  0.203521\n",
       "\n",
       "[395 rows x 4 columns]"
      ]
     },
     "execution_count": 53,
     "metadata": {},
     "output_type": "execute_result"
    }
   ],
   "source": [
    "flds = ['LotArea', 'SalePrice', 'pred', 'pred_std']\n",
    "lotar_summ = x[flds].groupby('LotArea', as_index=False).mean()\n",
    "lotar_summ"
   ]
  },
  {
   "cell_type": "code",
   "execution_count": 76,
   "metadata": {},
   "outputs": [
    {
     "data": {
      "image/png": "[encoded data removed]",
      "text/plain": [
       "<Figure size 432x288 with 1 Axes>"
      ]
     },
     "metadata": {},
     "output_type": "display_data"
    }
   ],
   "source": [
    "for c in flds[1:3]:\n",
    "    sns.distplot(lotar_summ[c], hist=False, kde=True, kde_kws={'linewidth': 3},\n",
    "                 label=c)"
   ]
  },
  {
   "cell_type": "markdown",
   "metadata": {},
   "source": [
    "### Train on full data"
   ]
  },
  {
   "cell_type": "code",
   "execution_count": 130,
   "metadata": {},
   "outputs": [],
   "source": [
    "# NOT SO GOOD ?!!\n",
    "y_pred = np.zeros(len(test))\n",
    "\n",
    "for i in range(82, 92, 2):\n",
    "    m = lgb.LGBMRegressor(n_estimators=i)\n",
    "    m.fit(X=df, y=y)\n",
    "    y_pred += m.predict(test) / N_SPLITS\n",
    "\n",
    "y_pred = np.exp(y_pred)    "
   ]
  },
  {
   "cell_type": "code",
   "execution_count": 131,
   "metadata": {},
   "outputs": [
    {
     "data": {
      "text/plain": [
       "177413.61319739878"
      ]
     },
     "execution_count": 131,
     "metadata": {},
     "output_type": "execute_result"
    }
   ],
   "source": [
    "y_pred.mean()"
   ]
  },
  {
   "cell_type": "markdown",
   "metadata": {},
   "source": [
    "###  Try hierarchical plotting"
   ]
  },
  {
   "cell_type": "code",
   "execution_count": 48,
   "metadata": {},
   "outputs": [],
   "source": [
    "from scipy.cluster import hierarchy as hc"
   ]
  },
  {
   "cell_type": "code",
   "execution_count": 155,
   "metadata": {},
   "outputs": [
    {
     "data": {
      "image/png": "[encoded data removed]",
      "text/plain": [
       "<Figure size 2000x2000 with 1 Axes>"
      ]
     },
     "metadata": {},
     "output_type": "display_data"
    }
   ],
   "source": [
    "corr = np.round(scipy.stats.spearmanr(df_keep).correlation, 4)\n",
    "corr_condensed = hc.distance.squareform(1-corr)\n",
    "z = hc.linkage(corr_condensed, method='average')\n",
    "fig = plt.figure(figsize=(20,20), dpi=100)\n",
    "dendrogram = hc.dendrogram(z, labels=df_keep.columns, orientation='left', leaf_font_size=16)\n",
    "plt.show()"
   ]
  },
  {
   "cell_type": "code",
   "execution_count": 50,
   "metadata": {},
   "outputs": [],
   "source": [
    "def get_oob(df):\n",
    "    m = RandomForestRegressor(n_estimators=30, min_samples_leaf=1, max_features=0.4, n_jobs=-1, oob_score=True)\n",
    "    x, _ = split_vals(df, tr_index, val_index)\n",
    "    m.fit(x, y_train)\n",
    "    return m.oob_score_"
   ]
  },
  {
   "cell_type": "code",
   "execution_count": 51,
   "metadata": {},
   "outputs": [
    {
     "data": {
      "text/plain": [
       "0.856149879021333"
      ]
     },
     "execution_count": 51,
     "metadata": {},
     "output_type": "execute_result"
    }
   ],
   "source": [
    "get_oob(df_keep)"
   ]
  },
  {
   "cell_type": "code",
   "execution_count": 52,
   "metadata": {},
   "outputs": [
    {
     "name": "stdout",
     "output_type": "stream",
     "text": [
      "Exterior1st 0.8629700934282258\n",
      "Exterior2nd 0.8647005071605076\n",
      "MiscFeature 0.8689029160137662\n",
      "MiscVal 0.859646401565577\n",
      "GarageArea 0.8632050549677571\n",
      "GarageCars 0.8636604126095739\n",
      "FireplaceQu 0.8616216572457933\n",
      "Fireplaces 0.8651923362762483\n",
      "GarageYrBlt 0.860027027180062\n",
      "YearBuilt 0.8596216585202704\n"
     ]
    }
   ],
   "source": [
    "for c in ('Exterior1st', 'Exterior2nd', 'MiscFeature', 'MiscVal', \n",
    "          'GarageArea', 'GarageCars', 'FireplaceQu', 'Fireplaces', 'GarageYrBlt', 'YearBuilt'):\n",
    "    print(c, get_oob(df_keep.drop(c, axis=1)))"
   ]
  },
  {
   "cell_type": "code",
   "execution_count": 53,
   "metadata": {},
   "outputs": [
    {
     "data": {
      "text/plain": [
       "0.8636999038747588"
      ]
     },
     "execution_count": 53,
     "metadata": {},
     "output_type": "execute_result"
    }
   ],
   "source": [
    "to_drop = ['Exterior2nd','MiscVal', 'GarageArea', 'FireplaceQu', 'GarageYrBlt']\n",
    "get_oob(df_keep.drop(to_drop, axis=1))"
   ]
  },
  {
   "cell_type": "code",
   "execution_count": 54,
   "metadata": {},
   "outputs": [],
   "source": [
    "df_keep.drop(to_drop, axis=1, inplace=True)\n",
    "X_train, X_valid = split_vals(df_keep, tr_index, val_index)"
   ]
  },
  {
   "cell_type": "code",
   "execution_count": 55,
   "metadata": {},
   "outputs": [],
   "source": [
    "np.save('data/house_prices/tmp/keep_cols.npy', np.array(df_keep.columns))"
   ]
  },
  {
   "cell_type": "code",
   "execution_count": 56,
   "metadata": {},
   "outputs": [],
   "source": [
    "keep_cols = np.load('data/house_prices/tmp/keep_cols.npy')\n",
    "df_keep = df[keep_cols]"
   ]
  },
  {
   "cell_type": "code",
   "execution_count": 57,
   "metadata": {
    "scrolled": true
   },
   "outputs": [
    {
     "name": "stdout",
     "output_type": "stream",
     "text": [
      "[0.052226197933373214, 0.13863281644444542, 0.983337340910874, 0.8723903165356768, 0.8800805523124117]\n"
     ]
    }
   ],
   "source": [
    "m = RandomForestRegressor(n_estimators=200, min_samples_leaf=1, max_features=0.4, n_jobs=-1, oob_score=True)\n",
    "m.fit(X_train, y_train)\n",
    "print_score(m)"
   ]
  },
  {
   "cell_type": "markdown",
   "metadata": {},
   "source": [
    "### Feature eng "
   ]
  },
  {
   "cell_type": "code",
   "execution_count": 91,
   "metadata": {},
   "outputs": [
    {
     "data": {
      "text/plain": [
       "<matplotlib.axes._subplots.AxesSubplot at 0x7f0bafacf160>"
      ]
     },
     "execution_count": 91,
     "metadata": {},
     "output_type": "execute_result"
    },
    {
     "data": {
      "image/png": "[encoded data removed]",
      "text/plain": [
       "<Figure size 432x288 with 1 Axes>"
      ]
     },
     "metadata": {},
     "output_type": "display_data"
    }
   ],
   "source": [
    "# age\n",
    "df_keep.YrSold.hist()"
   ]
  },
  {
   "cell_type": "code",
   "execution_count": 92,
   "metadata": {},
   "outputs": [
    {
     "data": {
      "text/plain": [
       "<matplotlib.axes._subplots.AxesSubplot at 0x7f0bafa4cb70>"
      ]
     },
     "execution_count": 92,
     "metadata": {},
     "output_type": "execute_result"
    },
    {
     "data": {
      "image/png": "[encoded data removed]",
      "text/plain": [
       "<Figure size 432x288 with 1 Axes>"
      ]
     },
     "metadata": {},
     "output_type": "display_data"
    }
   ],
   "source": [
    "df_keep.YearBuilt.hist()"
   ]
  },
  {
   "cell_type": "code",
   "execution_count": 93,
   "metadata": {},
   "outputs": [
    {
     "data": {
      "text/plain": [
       "<matplotlib.axes._subplots.AxesSubplot at 0x7f0baf9b4b38>"
      ]
     },
     "execution_count": 93,
     "metadata": {},
     "output_type": "execute_result"
    },
    {
     "data": {
      "image/png": "[encoded data removed]",
      "text/plain": [
       "<Figure size 432x288 with 1 Axes>"
      ]
     },
     "metadata": {},
     "output_type": "display_data"
    }
   ],
   "source": [
    "df_keep.YearRemodAdd.hist()"
   ]
  },
  {
   "cell_type": "code",
   "execution_count": 95,
   "metadata": {},
   "outputs": [],
   "source": [
    "current_year = 2011"
   ]
  },
  {
   "cell_type": "code",
   "execution_count": 96,
   "metadata": {
    "scrolled": true
   },
   "outputs": [
    {
     "name": "stderr",
     "output_type": "stream",
     "text": [
      "/home/ademyanchuk/.virtualenvs/kaggle_env/lib/python3.6/site-packages/ipykernel_launcher.py:1: SettingWithCopyWarning: \n",
      "A value is trying to be set on a copy of a slice from a DataFrame.\n",
      "Try using .loc[row_indexer,col_indexer] = value instead\n",
      "\n",
      "See the caveats in the documentation: http://pandas.pydata.org/pandas-docs/stable/indexing.html#indexing-view-versus-copy\n",
      "  \"\"\"Entry point for launching an IPython kernel.\n"
     ]
    }
   ],
   "source": [
    "df_keep['age'] = current_year - df_keep.YearBuilt"
   ]
  },
  {
   "cell_type": "code",
   "execution_count": 117,
   "metadata": {
    "scrolled": true
   },
   "outputs": [
    {
     "name": "stderr",
     "output_type": "stream",
     "text": [
      "/home/ademyanchuk/.virtualenvs/kaggle_env/lib/python3.6/site-packages/ipykernel_launcher.py:1: SettingWithCopyWarning: \n",
      "A value is trying to be set on a copy of a slice from a DataFrame.\n",
      "Try using .loc[row_indexer,col_indexer] = value instead\n",
      "\n",
      "See the caveats in the documentation: http://pandas.pydata.org/pandas-docs/stable/indexing.html#indexing-view-versus-copy\n",
      "  \"\"\"Entry point for launching an IPython kernel.\n"
     ]
    }
   ],
   "source": [
    "df_keep['remod_age'] = current_year - df_keep.YearRemodAdd"
   ]
  },
  {
   "cell_type": "code",
   "execution_count": 148,
   "metadata": {},
   "outputs": [
    {
     "name": "stderr",
     "output_type": "stream",
     "text": [
      "/home/ademyanchuk/.virtualenvs/kaggle_env/lib/python3.6/site-packages/ipykernel_launcher.py:1: SettingWithCopyWarning: \n",
      "A value is trying to be set on a copy of a slice from a DataFrame.\n",
      "Try using .loc[row_indexer,col_indexer] = value instead\n",
      "\n",
      "See the caveats in the documentation: http://pandas.pydata.org/pandas-docs/stable/indexing.html#indexing-view-versus-copy\n",
      "  \"\"\"Entry point for launching an IPython kernel.\n"
     ]
    }
   ],
   "source": [
    "df_keep['built_remodel_ratio'] = df_keep.YearBuilt / df_keep.YearRemodAdd"
   ]
  },
  {
   "cell_type": "markdown",
   "metadata": {},
   "source": [
    "### Submission "
   ]
  },
  {
   "cell_type": "code",
   "execution_count": 84,
   "metadata": {},
   "outputs": [],
   "source": [
    "submission = pd.read_csv(f'{PATH}sample_submission.csv')"
   ]
  },
  {
   "cell_type": "code",
   "execution_count": 85,
   "metadata": {},
   "outputs": [
    {
     "data": {
      "text/plain": [
       "179183.91824266256"
      ]
     },
     "execution_count": 85,
     "metadata": {},
     "output_type": "execute_result"
    }
   ],
   "source": [
    "submission.SalePrice.mean()"
   ]
  },
  {
   "cell_type": "code",
   "execution_count": 86,
   "metadata": {},
   "outputs": [
    {
     "data": {
      "text/plain": [
       "True"
      ]
     },
     "execution_count": 86,
     "metadata": {},
     "output_type": "execute_result"
    }
   ],
   "source": [
    "all(submission.Id == raw_test_df.Id)"
   ]
  },
  {
   "cell_type": "code",
   "execution_count": 87,
   "metadata": {},
   "outputs": [],
   "source": [
    "submission.SalePrice = y_pred"
   ]
  },
  {
   "cell_type": "code",
   "execution_count": 88,
   "metadata": {},
   "outputs": [
    {
     "data": {
      "text/plain": [
       "177427.0485350311"
      ]
     },
     "execution_count": 88,
     "metadata": {},
     "output_type": "execute_result"
    }
   ],
   "source": [
    "submission.SalePrice.mean()"
   ]
  },
  {
   "cell_type": "code",
   "execution_count": 89,
   "metadata": {},
   "outputs": [],
   "source": [
    "os.makedirs(f'{PATH}tmp/subm', exist_ok=True)"
   ]
  },
  {
   "cell_type": "code",
   "execution_count": 90,
   "metadata": {},
   "outputs": [],
   "source": [
    "submission.to_csv(f'{PATH}tmp/subm/lgb_10_folds_cv_trunc.csv', index=False, header=True)"
   ]
  },
  {
   "cell_type": "code",
   "execution_count": null,
   "metadata": {},
   "outputs": [],
   "source": []
  }
 ],
 "metadata": {
  "kernelspec": {
   "display_name": "Python 3",
   "language": "python",
   "name": "python3"
  },
  "language_info": {
   "codemirror_mode": {
    "name": "ipython",
    "version": 3
   },
   "file_extension": ".py",
   "mimetype": "text/x-python",
   "name": "python",
   "nbconvert_exporter": "python",
   "pygments_lexer": "ipython3",
   "version": "3.6.6"
  },
  "toc": {
   "base_numbering": 1,
   "nav_menu": {},
   "number_sections": true,
   "sideBar": true,
   "skip_h1_title": false,
   "title_cell": "Table of Contents",
   "title_sidebar": "Contents",
   "toc_cell": false,
   "toc_position": {
    "height": "calc(100% - 180px)",
    "left": "10px",
    "top": "150px",
    "width": "349px"
   },
   "toc_section_display": true,
   "toc_window_display": true
  }
 },
 "nbformat": 4,
 "nbformat_minor": 2
}
